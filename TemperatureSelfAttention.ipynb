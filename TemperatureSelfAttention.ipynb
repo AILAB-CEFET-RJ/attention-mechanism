{
  "nbformat": 4,
  "nbformat_minor": 0,
  "metadata": {
    "colab": {
      "name": "TemperatureSelfAttention.ipynb",
      "provenance": [],
      "collapsed_sections": [],
      "authorship_tag": "ABX9TyMxnkHNfRXc8i9YPEA479qz",
      "include_colab_link": true
    },
    "kernelspec": {
      "name": "python3",
      "display_name": "Python 3"
    },
    "language_info": {
      "name": "python"
    }
  },
  "cells": [
    {
      "cell_type": "markdown",
      "metadata": {
        "id": "view-in-github",
        "colab_type": "text"
      },
      "source": [
        "<a href=\"https://colab.research.google.com/github/MLRG-CEFET-RJ/attention-mechanism/blob/main/TemperatureSelfAttention.ipynb\" target=\"_parent\"><img src=\"https://colab.research.google.com/assets/colab-badge.svg\" alt=\"Open In Colab\"/></a>"
      ]
    },
    {
      "cell_type": "code",
      "metadata": {
        "id": "1K6mVmNS2IIu"
      },
      "source": [
        "from torch.utils.data import Dataset, DataLoader\n",
        "from tqdm import tqdm_notebook as tqdm\n",
        "import torch.nn.functional as F\n",
        "import matplotlib.pyplot as plt\n",
        "import requests, zipfile, io\n",
        "from numpy import array\n",
        "import torch.nn as nn\n",
        "import pandas as pd\n",
        "import numpy as np\n",
        "import torch\n",
        "import os\n",
        "import gc\n"
      ],
      "execution_count": 1,
      "outputs": []
    },
    {
      "cell_type": "markdown",
      "metadata": {
        "id": "kNIceLOZw8Lt"
      },
      "source": [
        "Baixar o arquivo com o conjunto de dados."
      ]
    },
    {
      "cell_type": "code",
      "metadata": {
        "id": "d51q0jEW3FzC"
      },
      "source": [
        "zip_file_url = 'https://storage.googleapis.com/tensorflow/tf-keras-datasets/jena_climate_2009_2016.csv.zip'\n",
        "\n",
        "r = requests.get(zip_file_url, stream=True)\n",
        "z = zipfile.ZipFile(io.BytesIO(r.content))\n",
        "z.extractall()"
      ],
      "execution_count": 2,
      "outputs": []
    },
    {
      "cell_type": "markdown",
      "metadata": {
        "id": "VBT49NJOxIaA"
      },
      "source": [
        "Carregar o arquivo (em formato CSV) para um objeto"
      ]
    },
    {
      "cell_type": "code",
      "metadata": {
        "id": "g_AA4hCM3eG9"
      },
      "source": [
        "df = pd.read_csv('jena_climate_2009_2016.csv')"
      ],
      "execution_count": 3,
      "outputs": []
    },
    {
      "cell_type": "markdown",
      "metadata": {
        "id": "eXwjsIVBxWXJ"
      },
      "source": [
        "Visualização dos dados"
      ]
    },
    {
      "cell_type": "code",
      "metadata": {
        "colab": {
          "base_uri": "https://localhost:8080/",
          "height": 310
        },
        "id": "_rUGPc4E3hKW",
        "outputId": "07116d1c-cbc8-4813-8445-d85e58905b53"
      },
      "source": [
        "df.head(5)"
      ],
      "execution_count": 4,
      "outputs": [
        {
          "output_type": "execute_result",
          "data": {
            "text/html": [
              "<div>\n",
              "<style scoped>\n",
              "    .dataframe tbody tr th:only-of-type {\n",
              "        vertical-align: middle;\n",
              "    }\n",
              "\n",
              "    .dataframe tbody tr th {\n",
              "        vertical-align: top;\n",
              "    }\n",
              "\n",
              "    .dataframe thead th {\n",
              "        text-align: right;\n",
              "    }\n",
              "</style>\n",
              "<table border=\"1\" class=\"dataframe\">\n",
              "  <thead>\n",
              "    <tr style=\"text-align: right;\">\n",
              "      <th></th>\n",
              "      <th>Date Time</th>\n",
              "      <th>p (mbar)</th>\n",
              "      <th>T (degC)</th>\n",
              "      <th>Tpot (K)</th>\n",
              "      <th>Tdew (degC)</th>\n",
              "      <th>rh (%)</th>\n",
              "      <th>VPmax (mbar)</th>\n",
              "      <th>VPact (mbar)</th>\n",
              "      <th>VPdef (mbar)</th>\n",
              "      <th>sh (g/kg)</th>\n",
              "      <th>H2OC (mmol/mol)</th>\n",
              "      <th>rho (g/m**3)</th>\n",
              "      <th>wv (m/s)</th>\n",
              "      <th>max. wv (m/s)</th>\n",
              "      <th>wd (deg)</th>\n",
              "    </tr>\n",
              "  </thead>\n",
              "  <tbody>\n",
              "    <tr>\n",
              "      <th>0</th>\n",
              "      <td>01.01.2009 00:10:00</td>\n",
              "      <td>996.52</td>\n",
              "      <td>-8.02</td>\n",
              "      <td>265.40</td>\n",
              "      <td>-8.90</td>\n",
              "      <td>93.3</td>\n",
              "      <td>3.33</td>\n",
              "      <td>3.11</td>\n",
              "      <td>0.22</td>\n",
              "      <td>1.94</td>\n",
              "      <td>3.12</td>\n",
              "      <td>1307.75</td>\n",
              "      <td>1.03</td>\n",
              "      <td>1.75</td>\n",
              "      <td>152.3</td>\n",
              "    </tr>\n",
              "    <tr>\n",
              "      <th>1</th>\n",
              "      <td>01.01.2009 00:20:00</td>\n",
              "      <td>996.57</td>\n",
              "      <td>-8.41</td>\n",
              "      <td>265.01</td>\n",
              "      <td>-9.28</td>\n",
              "      <td>93.4</td>\n",
              "      <td>3.23</td>\n",
              "      <td>3.02</td>\n",
              "      <td>0.21</td>\n",
              "      <td>1.89</td>\n",
              "      <td>3.03</td>\n",
              "      <td>1309.80</td>\n",
              "      <td>0.72</td>\n",
              "      <td>1.50</td>\n",
              "      <td>136.1</td>\n",
              "    </tr>\n",
              "    <tr>\n",
              "      <th>2</th>\n",
              "      <td>01.01.2009 00:30:00</td>\n",
              "      <td>996.53</td>\n",
              "      <td>-8.51</td>\n",
              "      <td>264.91</td>\n",
              "      <td>-9.31</td>\n",
              "      <td>93.9</td>\n",
              "      <td>3.21</td>\n",
              "      <td>3.01</td>\n",
              "      <td>0.20</td>\n",
              "      <td>1.88</td>\n",
              "      <td>3.02</td>\n",
              "      <td>1310.24</td>\n",
              "      <td>0.19</td>\n",
              "      <td>0.63</td>\n",
              "      <td>171.6</td>\n",
              "    </tr>\n",
              "    <tr>\n",
              "      <th>3</th>\n",
              "      <td>01.01.2009 00:40:00</td>\n",
              "      <td>996.51</td>\n",
              "      <td>-8.31</td>\n",
              "      <td>265.12</td>\n",
              "      <td>-9.07</td>\n",
              "      <td>94.2</td>\n",
              "      <td>3.26</td>\n",
              "      <td>3.07</td>\n",
              "      <td>0.19</td>\n",
              "      <td>1.92</td>\n",
              "      <td>3.08</td>\n",
              "      <td>1309.19</td>\n",
              "      <td>0.34</td>\n",
              "      <td>0.50</td>\n",
              "      <td>198.0</td>\n",
              "    </tr>\n",
              "    <tr>\n",
              "      <th>4</th>\n",
              "      <td>01.01.2009 00:50:00</td>\n",
              "      <td>996.51</td>\n",
              "      <td>-8.27</td>\n",
              "      <td>265.15</td>\n",
              "      <td>-9.04</td>\n",
              "      <td>94.1</td>\n",
              "      <td>3.27</td>\n",
              "      <td>3.08</td>\n",
              "      <td>0.19</td>\n",
              "      <td>1.92</td>\n",
              "      <td>3.09</td>\n",
              "      <td>1309.00</td>\n",
              "      <td>0.32</td>\n",
              "      <td>0.63</td>\n",
              "      <td>214.3</td>\n",
              "    </tr>\n",
              "  </tbody>\n",
              "</table>\n",
              "</div>"
            ],
            "text/plain": [
              "             Date Time  p (mbar)  T (degC)  ...  wv (m/s)  max. wv (m/s)  wd (deg)\n",
              "0  01.01.2009 00:10:00    996.52     -8.02  ...      1.03           1.75     152.3\n",
              "1  01.01.2009 00:20:00    996.57     -8.41  ...      0.72           1.50     136.1\n",
              "2  01.01.2009 00:30:00    996.53     -8.51  ...      0.19           0.63     171.6\n",
              "3  01.01.2009 00:40:00    996.51     -8.31  ...      0.34           0.50     198.0\n",
              "4  01.01.2009 00:50:00    996.51     -8.27  ...      0.32           0.63     214.3\n",
              "\n",
              "[5 rows x 15 columns]"
            ]
          },
          "metadata": {},
          "execution_count": 4
        }
      ]
    },
    {
      "cell_type": "markdown",
      "metadata": {
        "id": "HxhP-fKGmwTQ"
      },
      "source": [
        "Preparação dos dados (converter a frequência de observações de 10 min para 1 hora)"
      ]
    },
    {
      "cell_type": "code",
      "metadata": {
        "colab": {
          "base_uri": "https://localhost:8080/"
        },
        "id": "g2-UBKN04nfB",
        "outputId": "01bfb934-bd47-486e-a7c5-140a41f21854"
      },
      "source": [
        "print(df.shape)\n",
        "\n",
        "# slice [start:stop:step], starting from index 5, take every 6th record.\n",
        "df = df[5::6]\n",
        "\n",
        "print(df.shape)"
      ],
      "execution_count": 5,
      "outputs": [
        {
          "output_type": "stream",
          "name": "stdout",
          "text": [
            "(420551, 15)\n",
            "(70091, 15)\n"
          ]
        }
      ]
    },
    {
      "cell_type": "code",
      "metadata": {
        "colab": {
          "base_uri": "https://localhost:8080/"
        },
        "id": "TCLBLryn5jO9",
        "outputId": "933b75e8-e08e-4421-9323-3c596eab3b82"
      },
      "source": [
        "date_time = pd.to_datetime(df['Date Time'], format='%d.%m.%Y %H:%M:%S')\n",
        "date_time"
      ],
      "execution_count": 6,
      "outputs": [
        {
          "output_type": "execute_result",
          "data": {
            "text/plain": [
              "5        2009-01-01 01:00:00\n",
              "11       2009-01-01 02:00:00\n",
              "17       2009-01-01 03:00:00\n",
              "23       2009-01-01 04:00:00\n",
              "29       2009-01-01 05:00:00\n",
              "                 ...        \n",
              "420521   2016-12-31 19:10:00\n",
              "420527   2016-12-31 20:10:00\n",
              "420533   2016-12-31 21:10:00\n",
              "420539   2016-12-31 22:10:00\n",
              "420545   2016-12-31 23:10:00\n",
              "Name: Date Time, Length: 70091, dtype: datetime64[ns]"
            ]
          },
          "metadata": {},
          "execution_count": 6
        }
      ]
    },
    {
      "cell_type": "markdown",
      "metadata": {
        "id": "rskIulhJyp23"
      },
      "source": [
        "Sumário estatístico da temperatura"
      ]
    },
    {
      "cell_type": "code",
      "metadata": {
        "colab": {
          "base_uri": "https://localhost:8080/"
        },
        "id": "ufK0R6hF5yXO",
        "outputId": "587f84a1-39e2-4481-a308-06e676d2aa39"
      },
      "source": [
        "temperature = df['T (degC)']\n",
        "temperature.describe()"
      ],
      "execution_count": 7,
      "outputs": [
        {
          "output_type": "execute_result",
          "data": {
            "text/plain": [
              "count    70091.000000\n",
              "mean         9.450482\n",
              "std          8.423384\n",
              "min        -22.760000\n",
              "25%          3.350000\n",
              "50%          9.410000\n",
              "75%         15.480000\n",
              "max         37.280000\n",
              "Name: T (degC), dtype: float64"
            ]
          },
          "metadata": {},
          "execution_count": 7
        }
      ]
    },
    {
      "cell_type": "markdown",
      "metadata": {
        "id": "NyM8VVrT4P7h"
      },
      "source": [
        "Iremos usar 1200 exemplos para treinar o modelo e 500 exemplos, tanto para validação quanto para teste."
      ]
    },
    {
      "cell_type": "code",
      "metadata": {
        "colab": {
          "base_uri": "https://localhost:8080/"
        },
        "id": "Caz6XhVK6TS2",
        "outputId": "3c893621-4811-4b99-ec80-0eb460f22b42"
      },
      "source": [
        "train_set = temperature[:1200]\n",
        "valid_set = temperature[69000:69500]\n",
        "test_set = temperature[69500:]\n",
        "print('Proporção de exemplos para treino: {:.2f}%'.format(len(train_set)/len(temperature)))\n",
        "print('Proporção de exemplos para validação: {:.2f}%'.format(len(valid_set)/len(temperature)))\n",
        "print('Proporção de exemplos para teste: {:.2f}%'.format(len(valid_set)/len(temperature)))"
      ],
      "execution_count": 8,
      "outputs": [
        {
          "output_type": "stream",
          "name": "stdout",
          "text": [
            "Proporção de exemplos para treino: 0.02%\n",
            "Proporção de exemplos para validação: 0.01%\n",
            "Proporção de exemplos para teste: 0.01%\n"
          ]
        }
      ]
    },
    {
      "cell_type": "markdown",
      "metadata": {
        "id": "tQRYhhZ453sk"
      },
      "source": [
        "Janelas deslizantes"
      ]
    },
    {
      "cell_type": "code",
      "metadata": {
        "id": "utTP5osP6j-u"
      },
      "source": [
        "def window_generator(sequence, n_steps):\n",
        "    x, y = list(), list()\n",
        "    for i in range(len(sequence)):\n",
        "        \n",
        "        end_ix = i + n_steps\n",
        "        \n",
        "        if end_ix > len(sequence)-1:\n",
        "            break\n",
        "        seq_x, seq_y = sequence[i:end_ix], sequence[end_ix]\n",
        "        x.append(seq_x)\n",
        "        y.append(seq_y)\n",
        "    return array(x), array(y)"
      ],
      "execution_count": 9,
      "outputs": []
    },
    {
      "cell_type": "code",
      "metadata": {
        "id": "Za8BkrsW60Zk"
      },
      "source": [
        "n_steps = 3\n",
        "train_x, train_y = window_generator(train_set.values, n_steps)\n",
        "valid_x, valid_y = window_generator(valid_set.values, n_steps)\n",
        "test_x, test_y = window_generator(test_set.values, n_steps)"
      ],
      "execution_count": 10,
      "outputs": []
    },
    {
      "cell_type": "code",
      "metadata": {
        "id": "HR_p5reo69Ak"
      },
      "source": [
        "class SelfAttention(nn.Module):\n",
        "  def __init__(self, k, heads):\n",
        "    super().__init__()\n",
        "    self.k, self.heads = k, heads\n",
        "\n",
        "    self.tokeys    = nn.Linear(k, k * heads, bias=False)\n",
        "    self.toqueries = nn.Linear(k, k * heads, bias=False)\n",
        "    self.tovalues  = nn.Linear(k, k * heads, bias=False)   \n",
        "    self.unifyheads = nn.Linear(heads * k, k)\n",
        "\n",
        "  def forward(self, x):\n",
        "      b, t, k = x.size()\n",
        "      h = self.heads\n",
        "\n",
        "      queries = self.toqueries(x).view(b, t, h, k)\n",
        "      keys    = self.tokeys(x)   .view(b, t, h, k)\n",
        "      values  = self.tovalues(x) .view(b, t, h, k)\n",
        "\n",
        "\n",
        "      keys = keys.transpose(1, 2).contiguous().view(b * h, t, k)\n",
        "      queries = queries.transpose(1, 2).contiguous().view(b * h, t, k)\n",
        "      values = values.transpose(1, 2).contiguous().view(b * h, t, k)\n",
        "\n",
        "\n",
        "      queries = queries / (k ** (1/2))\n",
        "      keys    = keys / (k ** (1/2))\n",
        "\n",
        "      # - get dot product of queries and keys, and scale\n",
        "      dot = torch.bmm(queries, keys.transpose(1, 2))\n",
        "      # - dot has size (b*h, t, t) containing raw weights\n",
        "\n",
        "      dot = F.softmax(dot, dim=2) \n",
        "      # - dot now contains row-wise normalized weights\n",
        "\n",
        "      out = torch.bmm(dot, values).view(b, h, t, k)\n",
        "\n",
        "      out = out.transpose(1, 2).contiguous().view(b, t, h * k)\n",
        "      return self.unifyheads(out)\n",
        "\n"
      ],
      "execution_count": 11,
      "outputs": []
    },
    {
      "cell_type": "code",
      "metadata": {
        "id": "Mhso9L1pyjYq"
      },
      "source": [
        "results = {}"
      ],
      "execution_count": 12,
      "outputs": []
    },
    {
      "cell_type": "code",
      "metadata": {
        "id": "Chw_7ZT7Ae0K"
      },
      "source": [
        "seed = 15\n",
        "np.random.seed(seed)\n",
        "torch.manual_seed(seed)\n",
        "torch.cuda.manual_seed(seed)\n",
        "torch.backends.cudnn.deterministic=True"
      ],
      "execution_count": 13,
      "outputs": []
    },
    {
      "cell_type": "code",
      "metadata": {
        "id": "lr9-ESd98EIf"
      },
      "source": [
        "n_epochs = 30\n",
        "batch_size = 32"
      ],
      "execution_count": 14,
      "outputs": []
    },
    {
      "cell_type": "code",
      "metadata": {
        "id": "z1jO19kg7HLl"
      },
      "source": [
        "class Dataset(Dataset):\n",
        "    def __init__(self,feature,target):\n",
        "        self.feature = feature\n",
        "        self.target = target\n",
        "    \n",
        "    def __len__(self):\n",
        "        return len(self.feature)\n",
        "    \n",
        "    def __getitem__(self,idx):\n",
        "        item = self.feature[idx]\n",
        "        label = self.target[idx]\n",
        "        item = torch.as_tensor(item, dtype = torch.float32)\n",
        "        label = torch.as_tensor(label, dtype = torch.float32)\n",
        "        return item, label\n",
        "\n",
        "train_ds = Dataset(train_x.reshape(train_x.shape[0],train_x.shape[1],1), train_y)\n",
        "valid_ds = Dataset(valid_x.reshape(valid_x.shape[0],valid_x.shape[1],1), valid_y)\n",
        "test_ds = Dataset(test_x.reshape(test_x.shape[0],test_x.shape[1],1), test_y)\n",
        "\n",
        "train_loader = torch.utils.data.DataLoader(train_ds, batch_size = 1, shuffle = False)\n",
        "valid_loader = torch.utils.data.DataLoader(valid_ds, batch_size = 1, shuffle = False)\n",
        "test_loader = torch.utils.data.DataLoader(test_ds, batch_size = 1, shuffle = False)"
      ],
      "execution_count": 15,
      "outputs": []
    },
    {
      "cell_type": "code",
      "metadata": {
        "colab": {
          "base_uri": "https://localhost:8080/"
        },
        "id": "x-wLpTOv7ykO",
        "outputId": "e0102506-1945-4ee2-fbfd-cc9ab37d3675"
      },
      "source": [
        "dataset = Dataset(train_x.reshape(train_x.shape[0],train_x.shape[1],1),train_y)\n",
        "print(dataset.__getitem__(0))"
      ],
      "execution_count": 16,
      "outputs": [
        {
          "output_type": "stream",
          "name": "stdout",
          "text": [
            "(tensor([[-8.0500],\n",
            "        [-8.8800],\n",
            "        [-8.8100]]), tensor(-9.0500))\n"
          ]
        }
      ]
    },
    {
      "cell_type": "code",
      "metadata": {
        "id": "3C4KWf6W8CgA"
      },
      "source": [
        "def train_model(model, batch_size, n_epochs):\n",
        "    \n",
        "    # to track the training loss as the model trains\n",
        "    train_losses = []\n",
        "    # to track the validation loss as the model trains\n",
        "    valid_losses = []\n",
        "    # to track the average training loss per epoch as the model trains\n",
        "    avg_train_losses = []\n",
        "    # to track the average validation loss per epoch as the model trains\n",
        "    avg_valid_losses = [] \n",
        "    \n",
        "    for epoch in range(1, n_epochs + 1):\n",
        "\n",
        "        ###################\n",
        "        # train the model #\n",
        "        ###################\n",
        "        model.train() # prep model for training\n",
        "        for batch, (data, target) in enumerate(train_loader, 1):\n",
        "            # clear the gradients of all optimized variables\n",
        "            optimizer.zero_grad()\n",
        "            # forward pass: compute predicted outputs by passing inputs to the model\n",
        "            output = model(data)\n",
        "            # calculate the loss\n",
        "            loss = criterion(output, target)\n",
        "            # backward pass: compute gradient of the loss with respect to model parameters\n",
        "            loss.backward()\n",
        "            # perform a single optimization step (parameter update)\n",
        "            optimizer.step()\n",
        "            # record training loss\n",
        "            train_losses.append(loss.item())\n",
        "\n",
        "        ######################    \n",
        "        # validate the model #\n",
        "        ######################\n",
        "        model.eval() # prep model for evaluation\n",
        "        for data, target in valid_loader:\n",
        "            # forward pass: compute predicted outputs by passing inputs to the model\n",
        "            output = model(data)\n",
        "            # calculate the loss\n",
        "            loss = criterion(output, target)\n",
        "            # record validation loss\n",
        "            valid_losses.append(loss.item())\n",
        "\n",
        "        # print training/validation statistics \n",
        "        # calculate average loss over an epoch\n",
        "        train_loss = np.average(train_losses)\n",
        "        valid_loss = np.average(valid_losses)\n",
        "        avg_train_losses.append(train_loss)\n",
        "        avg_valid_losses.append(valid_loss)\n",
        "        \n",
        "        epoch_len = len(str(n_epochs))\n",
        "        \n",
        "        print_msg = (f'[{epoch:>{epoch_len}}/{n_epochs:>{epoch_len}}] ' +\n",
        "                     f'train_loss: {train_loss:.5f} ' +\n",
        "                     f'valid_loss: {valid_loss:.5f}')\n",
        "        \n",
        "        print(print_msg)\n",
        "        \n",
        "        # clear lists to track next epoch\n",
        "        train_losses = []\n",
        "        valid_losses = []\n",
        "  \n",
        "    return  model, avg_train_losses, avg_valid_losses"
      ],
      "execution_count": 17,
      "outputs": []
    },
    {
      "cell_type": "code",
      "metadata": {
        "id": "uZg2co41BGEh"
      },
      "source": [
        "def predict (model):\n",
        "  model.eval()  # prepare model for evaluation\n",
        "  sum = 0\n",
        "  with torch.no_grad():\n",
        "      for data, target in test_loader:\n",
        "          data, target = data.to(device), target.to(device)\n",
        "          output = model(data)\n",
        "          loss = criterion(output,target)\n",
        "          sum += loss.item()\n",
        "\n",
        "\n",
        "  return (sum/len(test_loader))\n",
        " "
      ],
      "execution_count": 18,
      "outputs": []
    },
    {
      "cell_type": "code",
      "metadata": {
        "id": "UOElw0K2RFeA"
      },
      "source": [
        "device = torch.device(\"cuda:0\" if torch.cuda.is_available() else \"cpu\")\n",
        "criterion = nn.MSELoss()"
      ],
      "execution_count": 19,
      "outputs": []
    },
    {
      "cell_type": "code",
      "metadata": {
        "id": "PnKecXDvIwGY"
      },
      "source": [
        "class Net1(nn.Module):\n",
        "    def __init__(self):\n",
        "        super(Net1,self).__init__()\n",
        "        self.layer1 = nn.Sequential(\n",
        "            SelfAttention(1, heads=2),\n",
        "            nn.Conv1d(3, 64, kernel_size = 1)\n",
        "        )\n",
        "\n",
        "        self.relu = nn.ReLU(inplace = True)\n",
        "        self.fc1 = nn.Linear(64,50)\n",
        "        self.fc2 = nn.Linear(50,1)      \n",
        "\n",
        "    def forward(self,x):\n",
        "        x = self.layer1(x)\n",
        "        x = self.relu(x)\n",
        "        x = x.view(-1)\n",
        "        x = self.fc1(x)\n",
        "        x = self.relu(x)\n",
        "        x = self.fc2(x)\n",
        "        \n",
        "        return x\n",
        "\n",
        "#device = torch.device(\"cuda:0\" if torch.cuda.is_available() else \"cpu\")\n",
        "#model1 = Net1().to(device)\n",
        "#optimizer = torch.optim.Adam(model1.parameters(), lr=1e-5)\n",
        "#criterion = nn.MSELoss()"
      ],
      "execution_count": 20,
      "outputs": []
    },
    {
      "cell_type": "code",
      "metadata": {
        "id": "B9d888Ru8HqT"
      },
      "source": [
        "#model1, train_loss, valid_loss = train_model(model1, batch_size, n_epochs)\n",
        "#results[\"Test \" + str(model1) + \"MSELoss: \"] = predict(model1)"
      ],
      "execution_count": 21,
      "outputs": []
    },
    {
      "cell_type": "code",
      "metadata": {
        "id": "fcHanaFZKRQf"
      },
      "source": [
        "class Net2(nn.Module):\n",
        "    def __init__(self):\n",
        "        super(Net2,self).__init__()\n",
        "        self.layer1 = nn.Sequential(\n",
        "            SelfAttention(1, heads=2),\n",
        "            nn.Conv1d(3, 64, kernel_size = 1),\n",
        "            SelfAttention(1, heads=2)\n",
        "        )\n",
        "\n",
        "        self.relu = nn.ReLU(inplace = True)\n",
        "        self.fc1 = nn.Linear(64,50)\n",
        "        self.fc2 = nn.Linear(50,1)     \n",
        "\n",
        "    def forward(self,x):\n",
        "        x = self.layer1(x)\n",
        "        x = self.relu(x)\n",
        "        x = x.view(-1)\n",
        "        x = self.fc1(x)\n",
        "        x = self.relu(x)\n",
        "        x = self.fc2(x)\n",
        "        \n",
        "        return x\n",
        "\n",
        "#device = torch.device(\"cuda:0\" if torch.cuda.is_available() else \"cpu\")\n",
        "#model2 = Net2().to(device)\n",
        "#optimizer = torch.optim.Adam(model2.parameters(), lr=1e-5)\n",
        "#criterion = nn.MSELoss()"
      ],
      "execution_count": 22,
      "outputs": []
    },
    {
      "cell_type": "code",
      "metadata": {
        "id": "hHPV2GAr-VDr"
      },
      "source": [
        "#model2, train_loss, valid_loss = train_model(model2, batch_size, n_epochs)\n",
        "#results[\"Test \" + str(model2) + \"MSELoss: \"] = predict(model2)"
      ],
      "execution_count": 23,
      "outputs": []
    },
    {
      "cell_type": "code",
      "metadata": {
        "id": "VvifErQcKSEI"
      },
      "source": [
        "class Net3(nn.Module):\n",
        "    def __init__(self):\n",
        "        super(Net3,self).__init__()\n",
        "        self.layer1 = nn.Sequential(\n",
        "            nn.Conv1d(3, 64, kernel_size = 1),\n",
        "            SelfAttention(1, heads=2)\n",
        "        )\n",
        "\n",
        "        self.relu = nn.ReLU(inplace = True)\n",
        "        self.fc1 = nn.Linear(64,50)\n",
        "        self.fc2 = nn.Linear(50,1)     \n",
        "\n",
        "    def forward(self,x):\n",
        "        x = self.layer1(x)\n",
        "        x = self.relu(x)\n",
        "        x = x.view(-1)\n",
        "        x = self.fc1(x)\n",
        "        x = self.relu(x)\n",
        "        x = self.fc2(x)\n",
        "        \n",
        "        return x\n",
        "\n",
        "#device = torch.device(\"cuda:0\" if torch.cuda.is_available() else \"cpu\")\n",
        "#model3 = Net3().to(device)\n",
        "#optimizer = torch.optim.Adam(model3.parameters(), lr=1e-5)\n",
        "#criterion = nn.MSELoss()"
      ],
      "execution_count": 24,
      "outputs": []
    },
    {
      "cell_type": "code",
      "metadata": {
        "id": "OZZzEOl--ZVE"
      },
      "source": [
        "#model3, train_loss, valid_loss = train_model(model3, batch_size, n_epochs)\n",
        "#results[\"Test \" + str(model3) + \"MSELoss: \"] = predict(model3)"
      ],
      "execution_count": 25,
      "outputs": []
    },
    {
      "cell_type": "code",
      "metadata": {
        "id": "rdzUiD59KS18"
      },
      "source": [
        "class Net4(nn.Module):\n",
        "    def __init__(self):\n",
        "        super(Net4,self).__init__()\n",
        "        self.layer1 = nn.Sequential(\n",
        "            SelfAttention(1, heads=2),\n",
        "            nn.LayerNorm(1),\n",
        "            SelfAttention(1, heads=2),\n",
        "            nn.LayerNorm(1)\n",
        "        )\n",
        "\n",
        "        self.relu = nn.ReLU(inplace = True)\n",
        "        self.fc1 = nn.Linear(3,50)\n",
        "        self.fc2 = nn.Linear(50,1)      \n",
        "\n",
        "    def forward(self,x):\n",
        "        x = self.layer1(x)\n",
        "        x = self.relu(x)\n",
        "        #print(x.size())\n",
        "        x = x.view(-1)\n",
        "        x = self.fc1(x)\n",
        "        x = self.relu(x)\n",
        "        x = self.fc2(x)\n",
        "        \n",
        "        return x\n",
        "\n",
        "#device = torch.device(\"cuda:0\" if torch.cuda.is_available() else \"cpu\")\n",
        "#model4 = Net4().to(device)\n",
        "#optimizer = torch.optim.Adam(model4.parameters(), lr=1e-5)\n",
        "#criterion = nn.MSELoss()"
      ],
      "execution_count": 26,
      "outputs": []
    },
    {
      "cell_type": "code",
      "metadata": {
        "id": "xs6uZnPIAZOj"
      },
      "source": [
        "#model4, train_loss, valid_loss = train_model(model4, batch_size, n_epochs)\n",
        "#results[\"Test \" + str(model4) + \"MSELoss: \"] = predict(model4)"
      ],
      "execution_count": 27,
      "outputs": []
    },
    {
      "cell_type": "code",
      "metadata": {
        "id": "2LI87g3GKTi-"
      },
      "source": [
        "class Net5(nn.Module):\n",
        "    def __init__(self):\n",
        "        super(Net5,self).__init__()\n",
        "        self.layer1 = nn.Sequential(\n",
        "            nn.Conv1d(3, 64, kernel_size = 1),\n",
        "            SelfAttention(1, heads=2),\n",
        "            nn.LayerNorm(1),\n",
        "            SelfAttention(1, heads=2),\n",
        "            nn.LayerNorm(1)\n",
        "        )\n",
        "\n",
        "        self.relu = nn.ReLU(inplace = True)\n",
        "        self.fc1 = nn.Linear(64,50)\n",
        "        self.fc2 = nn.Linear(50,1)     \n",
        "\n",
        "    def forward(self,x):\n",
        "        x = self.layer1(x)\n",
        "        x = self.relu(x)\n",
        "        x = x.view(-1)\n",
        "        x = self.fc1(x)\n",
        "        x = self.relu(x)\n",
        "        x = self.fc2(x)\n",
        "        \n",
        "        return x\n",
        "\n",
        "#device = torch.device(\"cuda:0\" if torch.cuda.is_available() else \"cpu\")\n",
        "#model5 = Net5().to(device)\n",
        "#optimizer = torch.optim.Adam(model5.parameters(), lr=1e-5)\n",
        "#criterion = nn.MSELoss()"
      ],
      "execution_count": 28,
      "outputs": []
    },
    {
      "cell_type": "code",
      "metadata": {
        "id": "90MjYM7RAeG2"
      },
      "source": [
        "#model5, train_loss, valid_loss = train_model(model5, batch_size, n_epochs)\n",
        "#results[\"Test \" + str(model5) + \"MSELoss: \"] = predict(model5)"
      ],
      "execution_count": 29,
      "outputs": []
    },
    {
      "cell_type": "code",
      "metadata": {
        "id": "PeMy-VHYKUUw"
      },
      "source": [
        "class Net6(nn.Module):\n",
        "    def __init__(self):\n",
        "        super(Net6,self).__init__()\n",
        "        self.layer1 = nn.Sequential(\n",
        "            nn.Conv1d(3, 64, kernel_size = 1),\n",
        "            SelfAttention(1, heads=2),\n",
        "            SelfAttention(1, heads=2)\n",
        "        )\n",
        "\n",
        "        self.relu = nn.ReLU(inplace = True)\n",
        "        self.fc1 = nn.Linear(64,50)\n",
        "        self.fc2 = nn.Linear(50,1)     \n",
        "\n",
        "    def forward(self,x):\n",
        "        x = self.layer1(x)\n",
        "        x = self.relu(x)\n",
        "        x = x.view(-1)\n",
        "        x = self.fc1(x)\n",
        "        x = self.relu(x)\n",
        "        x = self.fc2(x)\n",
        "        \n",
        "        return x\n",
        "\n",
        "#device = torch.device(\"cuda:0\" if torch.cuda.is_available() else \"cpu\")\n",
        "#model6 = Net6().to(device)\n",
        "#optimizer = torch.optim.Adam(model6.parameters(), lr=1e-5)\n",
        "#criterion = nn.MSELoss()"
      ],
      "execution_count": 30,
      "outputs": []
    },
    {
      "cell_type": "code",
      "metadata": {
        "id": "FWKtFTFiAhAL"
      },
      "source": [
        "#model6, train_loss, valid_loss = train_model(model6, batch_size, n_epochs)\n",
        "#results[\"Test \" + str(model6) + \"MSELoss: \"] = predict(model6)"
      ],
      "execution_count": 31,
      "outputs": []
    },
    {
      "cell_type": "code",
      "metadata": {
        "id": "NQERqVuyKVHB"
      },
      "source": [
        "class Net7(nn.Module):\n",
        "    def __init__(self):\n",
        "        super(Net7,self).__init__()\n",
        "        self.layer1 = nn.Sequential(\n",
        "            SelfAttention(1, heads=2),\n",
        "            nn.LayerNorm(1),\n",
        "            nn.Conv1d(3, 64, kernel_size = 1),\n",
        "            SelfAttention(1, heads=2),\n",
        "            nn.LayerNorm(1)\n",
        "        )\n",
        "\n",
        "        self.relu = nn.ReLU(inplace = True)\n",
        "        self.fc1 = nn.Linear(64,50)\n",
        "        self.fc2 = nn.Linear(50,1)      \n",
        "\n",
        "    def forward(self,x):\n",
        "        x = self.layer1(x)\n",
        "        x = self.relu(x)\n",
        "        x = x.view(-1)\n",
        "        x = self.fc1(x)\n",
        "        x = self.relu(x)\n",
        "        x = self.fc2(x)\n",
        "        \n",
        "        return x\n",
        "\n",
        "#device = torch.device(\"cuda:0\" if torch.cuda.is_available() else \"cpu\")\n",
        "#model7 = Net7().to(device)\n",
        "#optimizer = torch.optim.Adam(model7.parameters(), lr=1e-5)\n",
        "#criterion = nn.MSELoss()"
      ],
      "execution_count": 32,
      "outputs": []
    },
    {
      "cell_type": "code",
      "metadata": {
        "id": "TFgSwML9AlW7"
      },
      "source": [
        "#model7, train_loss, valid_loss = train_model(model7, batch_size, n_epochs)\n",
        "#results[\"Test \" + str(model7) + \"MSELoss: \"] = predict(model7)"
      ],
      "execution_count": 33,
      "outputs": []
    },
    {
      "cell_type": "code",
      "metadata": {
        "id": "eYALqOfCn8Yi",
        "colab": {
          "base_uri": "https://localhost:8080/"
        },
        "outputId": "cbb7df58-534c-4fc8-9179-8c89dac4d78a"
      },
      "source": [
        "nets = [Net1(), Net2(), Net3(), Net4(), Net5(), Net6(), Net7()]\n",
        "\n",
        "for n in nets:\n",
        "  model = n.to(device)\n",
        "  optimizer = torch.optim.Adam(model.parameters(), lr=1e-5)\n",
        "  print(model.modules)\n",
        "  model, train_loss, valid_loss = train_model(model, batch_size, n_epochs)\n",
        "  results[\"Test \" + str(n) + \"MSELoss: \"] = predict(model)\n"
      ],
      "execution_count": 34,
      "outputs": [
        {
          "output_type": "stream",
          "name": "stdout",
          "text": [
            "<bound method Module.modules of Net1(\n",
            "  (layer1): Sequential(\n",
            "    (0): SelfAttention(\n",
            "      (tokeys): Linear(in_features=1, out_features=2, bias=False)\n",
            "      (toqueries): Linear(in_features=1, out_features=2, bias=False)\n",
            "      (tovalues): Linear(in_features=1, out_features=2, bias=False)\n",
            "      (unifyheads): Linear(in_features=2, out_features=1, bias=True)\n",
            "    )\n",
            "    (1): Conv1d(3, 64, kernel_size=(1,), stride=(1,))\n",
            "  )\n",
            "  (relu): ReLU(inplace=True)\n",
            "  (fc1): Linear(in_features=64, out_features=50, bias=True)\n",
            "  (fc2): Linear(in_features=50, out_features=1, bias=True)\n",
            ")>\n",
            "[ 1/30] train_loss: 31.12170 valid_loss: 41.62337\n",
            "[ 2/30] train_loss: 30.66393 valid_loss: 41.85033\n",
            "[ 3/30] train_loss: 30.10756 valid_loss: 42.04209\n",
            "[ 4/30] train_loss: 29.40699 valid_loss: 42.14557\n",
            "[ 5/30] train_loss: 28.57475 valid_loss: 42.12058\n",
            "[ 6/30] train_loss: 27.59555 valid_loss: 41.92150\n",
            "[ 7/30] train_loss: 26.46112 valid_loss: 41.53049\n",
            "[ 8/30] train_loss: 25.17387 valid_loss: 40.93110\n",
            "[ 9/30] train_loss: 23.73233 valid_loss: 40.10346\n",
            "[10/30] train_loss: 22.14084 valid_loss: 39.05220\n",
            "[11/30] train_loss: 20.40900 valid_loss: 37.78384\n",
            "[12/30] train_loss: 18.55794 valid_loss: 36.28725\n",
            "[13/30] train_loss: 16.63014 valid_loss: 34.59451\n",
            "[14/30] train_loss: 14.68566 valid_loss: 32.81500\n",
            "[15/30] train_loss: 12.77013 valid_loss: 30.96900\n",
            "[16/30] train_loss: 10.93215 valid_loss: 29.08394\n",
            "[17/30] train_loss: 9.21842 valid_loss: 27.21188\n",
            "[18/30] train_loss: 7.67335 valid_loss: 25.34808\n",
            "[19/30] train_loss: 6.32754 valid_loss: 23.44706\n",
            "[20/30] train_loss: 5.19308 valid_loss: 21.61463\n",
            "[21/30] train_loss: 4.27595 valid_loss: 19.89979\n",
            "[22/30] train_loss: 3.56338 valid_loss: 18.27999\n",
            "[23/30] train_loss: 3.03396 valid_loss: 16.78402\n",
            "[24/30] train_loss: 2.65953 valid_loss: 15.42373\n",
            "[25/30] train_loss: 2.40415 valid_loss: 14.20660\n",
            "[26/30] train_loss: 2.23322 valid_loss: 13.13363\n",
            "[27/30] train_loss: 2.11941 valid_loss: 12.19970\n",
            "[28/30] train_loss: 2.04335 valid_loss: 11.38973\n",
            "[29/30] train_loss: 1.99217 valid_loss: 10.68804\n",
            "[30/30] train_loss: 1.95685 valid_loss: 10.07851\n",
            "<bound method Module.modules of Net2(\n",
            "  (layer1): Sequential(\n",
            "    (0): SelfAttention(\n",
            "      (tokeys): Linear(in_features=1, out_features=2, bias=False)\n",
            "      (toqueries): Linear(in_features=1, out_features=2, bias=False)\n",
            "      (tovalues): Linear(in_features=1, out_features=2, bias=False)\n",
            "      (unifyheads): Linear(in_features=2, out_features=1, bias=True)\n",
            "    )\n",
            "    (1): Conv1d(3, 64, kernel_size=(1,), stride=(1,))\n",
            "    (2): SelfAttention(\n",
            "      (tokeys): Linear(in_features=1, out_features=2, bias=False)\n",
            "      (toqueries): Linear(in_features=1, out_features=2, bias=False)\n",
            "      (tovalues): Linear(in_features=1, out_features=2, bias=False)\n",
            "      (unifyheads): Linear(in_features=2, out_features=1, bias=True)\n",
            "    )\n",
            "  )\n",
            "  (relu): ReLU(inplace=True)\n",
            "  (fc1): Linear(in_features=64, out_features=50, bias=True)\n",
            "  (fc2): Linear(in_features=50, out_features=1, bias=True)\n",
            ")>\n",
            "[ 1/30] train_loss: 30.93894 valid_loss: 41.54821\n",
            "[ 2/30] train_loss: 30.83967 valid_loss: 41.67369\n",
            "[ 3/30] train_loss: 30.72225 valid_loss: 41.80292\n",
            "[ 4/30] train_loss: 30.59679 valid_loss: 41.93697\n",
            "[ 5/30] train_loss: 30.45979 valid_loss: 42.07073\n",
            "[ 6/30] train_loss: 30.30815 valid_loss: 42.20598\n",
            "[ 7/30] train_loss: 30.13518 valid_loss: 42.34485\n",
            "[ 8/30] train_loss: 29.93290 valid_loss: 42.48794\n",
            "[ 9/30] train_loss: 29.69632 valid_loss: 42.63293\n",
            "[10/30] train_loss: 29.41987 valid_loss: 42.77967\n",
            "[11/30] train_loss: 29.09285 valid_loss: 42.92842\n",
            "[12/30] train_loss: 28.70478 valid_loss: 43.07736\n",
            "[13/30] train_loss: 28.24104 valid_loss: 43.22478\n",
            "[14/30] train_loss: 27.68628 valid_loss: 43.36728\n",
            "[15/30] train_loss: 27.02206 valid_loss: 43.50348\n",
            "[16/30] train_loss: 26.23280 valid_loss: 43.62922\n",
            "[17/30] train_loss: 25.30129 valid_loss: 43.73435\n",
            "[18/30] train_loss: 24.21850 valid_loss: 43.80796\n",
            "[19/30] train_loss: 22.97380 valid_loss: 43.84381\n",
            "[20/30] train_loss: 21.54806 valid_loss: 43.83160\n",
            "[21/30] train_loss: 19.95301 valid_loss: 43.77209\n",
            "[22/30] train_loss: 18.19991 valid_loss: 43.65034\n",
            "[23/30] train_loss: 16.30893 valid_loss: 43.46936\n",
            "[24/30] train_loss: 14.32328 valid_loss: 43.23193\n",
            "[25/30] train_loss: 12.29955 valid_loss: 42.95146\n",
            "[26/30] train_loss: 10.35080 valid_loss: 42.64360\n",
            "[27/30] train_loss: 8.64739 valid_loss: 42.34276\n",
            "[28/30] train_loss: 7.39182 valid_loss: 42.08015\n",
            "[29/30] train_loss: 6.70294 valid_loss: 41.88188\n",
            "[30/30] train_loss: 6.42838 valid_loss: 41.72997\n",
            "<bound method Module.modules of Net3(\n",
            "  (layer1): Sequential(\n",
            "    (0): Conv1d(3, 64, kernel_size=(1,), stride=(1,))\n",
            "    (1): SelfAttention(\n",
            "      (tokeys): Linear(in_features=1, out_features=2, bias=False)\n",
            "      (toqueries): Linear(in_features=1, out_features=2, bias=False)\n",
            "      (tovalues): Linear(in_features=1, out_features=2, bias=False)\n",
            "      (unifyheads): Linear(in_features=2, out_features=1, bias=True)\n",
            "    )\n",
            "  )\n",
            "  (relu): ReLU(inplace=True)\n",
            "  (fc1): Linear(in_features=64, out_features=50, bias=True)\n",
            "  (fc2): Linear(in_features=50, out_features=1, bias=True)\n",
            ")>\n",
            "[ 1/30] train_loss: 32.09499 valid_loss: 40.10876\n",
            "[ 2/30] train_loss: 31.87803 valid_loss: 40.12476\n",
            "[ 3/30] train_loss: 31.51305 valid_loss: 40.08074\n",
            "[ 4/30] train_loss: 30.97882 valid_loss: 39.98214\n",
            "[ 5/30] train_loss: 30.20579 valid_loss: 39.84261\n",
            "[ 6/30] train_loss: 29.20694 valid_loss: 39.64683\n",
            "[ 7/30] train_loss: 27.95106 valid_loss: 39.37927\n",
            "[ 8/30] train_loss: 26.42610 valid_loss: 39.01388\n",
            "[ 9/30] train_loss: 24.69400 valid_loss: 38.52272\n",
            "[10/30] train_loss: 22.77812 valid_loss: 37.86171\n",
            "[11/30] train_loss: 20.61515 valid_loss: 36.99462\n",
            "[12/30] train_loss: 18.28513 valid_loss: 35.89648\n",
            "[13/30] train_loss: 15.82638 valid_loss: 34.57990\n",
            "[14/30] train_loss: 13.33976 valid_loss: 33.00377\n",
            "[15/30] train_loss: 11.03419 valid_loss: 31.18021\n",
            "[16/30] train_loss: 9.14560 valid_loss: 29.18648\n",
            "[17/30] train_loss: 7.90369 valid_loss: 27.11235\n",
            "[18/30] train_loss: 7.28852 valid_loss: 25.13513\n",
            "[19/30] train_loss: 6.95525 valid_loss: 23.20328\n",
            "[20/30] train_loss: 6.66352 valid_loss: 21.23166\n",
            "[21/30] train_loss: 6.37008 valid_loss: 19.17987\n",
            "[22/30] train_loss: 6.07788 valid_loss: 17.05506\n",
            "[23/30] train_loss: 5.78654 valid_loss: 14.91187\n",
            "[24/30] train_loss: 5.49550 valid_loss: 12.78887\n",
            "[25/30] train_loss: 5.20471 valid_loss: 10.70557\n",
            "[26/30] train_loss: 4.91538 valid_loss: 8.71781\n",
            "[27/30] train_loss: 4.63080 valid_loss: 6.91714\n",
            "[28/30] train_loss: 4.35436 valid_loss: 5.39001\n",
            "[29/30] train_loss: 4.08981 valid_loss: 4.22231\n",
            "[30/30] train_loss: 3.84307 valid_loss: 3.47571\n",
            "<bound method Module.modules of Net4(\n",
            "  (layer1): Sequential(\n",
            "    (0): SelfAttention(\n",
            "      (tokeys): Linear(in_features=1, out_features=2, bias=False)\n",
            "      (toqueries): Linear(in_features=1, out_features=2, bias=False)\n",
            "      (tovalues): Linear(in_features=1, out_features=2, bias=False)\n",
            "      (unifyheads): Linear(in_features=2, out_features=1, bias=True)\n",
            "    )\n",
            "    (1): LayerNorm((1,), eps=1e-05, elementwise_affine=True)\n",
            "    (2): SelfAttention(\n",
            "      (tokeys): Linear(in_features=1, out_features=2, bias=False)\n",
            "      (toqueries): Linear(in_features=1, out_features=2, bias=False)\n",
            "      (tovalues): Linear(in_features=1, out_features=2, bias=False)\n",
            "      (unifyheads): Linear(in_features=2, out_features=1, bias=True)\n",
            "    )\n",
            "    (3): LayerNorm((1,), eps=1e-05, elementwise_affine=True)\n",
            "  )\n",
            "  (relu): ReLU(inplace=True)\n",
            "  (fc1): Linear(in_features=3, out_features=50, bias=True)\n",
            "  (fc2): Linear(in_features=50, out_features=1, bias=True)\n",
            ")>\n",
            "[ 1/30] train_loss: 31.03446 valid_loss: 41.54408\n",
            "[ 2/30] train_loss: 30.77541 valid_loss: 41.90262\n",
            "[ 3/30] train_loss: 30.49164 valid_loss: 42.27242\n",
            "[ 4/30] train_loss: 30.21376 valid_loss: 42.64670\n",
            "[ 5/30] train_loss: 29.94529 valid_loss: 43.02333\n",
            "[ 6/30] train_loss: 29.68689 valid_loss: 43.40171\n",
            "[ 7/30] train_loss: 29.43833 valid_loss: 43.78184\n",
            "[ 8/30] train_loss: 29.19962 valid_loss: 44.16203\n",
            "[ 9/30] train_loss: 28.97081 valid_loss: 44.54335\n",
            "[10/30] train_loss: 28.75091 valid_loss: 44.92569\n",
            "[11/30] train_loss: 28.54150 valid_loss: 45.30229\n",
            "[12/30] train_loss: 28.34190 valid_loss: 45.68023\n",
            "[13/30] train_loss: 28.14944 valid_loss: 46.06604\n",
            "[14/30] train_loss: 27.96009 valid_loss: 46.45539\n",
            "[15/30] train_loss: 27.77950 valid_loss: 46.84304\n",
            "[16/30] train_loss: 27.60713 valid_loss: 47.22909\n",
            "[17/30] train_loss: 27.44318 valid_loss: 47.61265\n",
            "[18/30] train_loss: 27.28679 valid_loss: 47.99519\n",
            "[19/30] train_loss: 27.13761 valid_loss: 48.37505\n",
            "[20/30] train_loss: 26.99629 valid_loss: 48.75108\n",
            "[21/30] train_loss: 26.86173 valid_loss: 49.12592\n",
            "[22/30] train_loss: 26.73345 valid_loss: 49.49876\n",
            "[23/30] train_loss: 26.61142 valid_loss: 49.86908\n",
            "[24/30] train_loss: 26.49548 valid_loss: 50.23659\n",
            "[25/30] train_loss: 26.38548 valid_loss: 50.60081\n",
            "[26/30] train_loss: 26.28128 valid_loss: 50.96116\n",
            "[27/30] train_loss: 26.18275 valid_loss: 51.31721\n",
            "[28/30] train_loss: 26.08972 valid_loss: 51.66861\n",
            "[29/30] train_loss: 26.00198 valid_loss: 52.01516\n",
            "[30/30] train_loss: 25.91931 valid_loss: 52.35644\n",
            "<bound method Module.modules of Net5(\n",
            "  (layer1): Sequential(\n",
            "    (0): Conv1d(3, 64, kernel_size=(1,), stride=(1,))\n",
            "    (1): SelfAttention(\n",
            "      (tokeys): Linear(in_features=1, out_features=2, bias=False)\n",
            "      (toqueries): Linear(in_features=1, out_features=2, bias=False)\n",
            "      (tovalues): Linear(in_features=1, out_features=2, bias=False)\n",
            "      (unifyheads): Linear(in_features=2, out_features=1, bias=True)\n",
            "    )\n",
            "    (2): LayerNorm((1,), eps=1e-05, elementwise_affine=True)\n",
            "    (3): SelfAttention(\n",
            "      (tokeys): Linear(in_features=1, out_features=2, bias=False)\n",
            "      (toqueries): Linear(in_features=1, out_features=2, bias=False)\n",
            "      (tovalues): Linear(in_features=1, out_features=2, bias=False)\n",
            "      (unifyheads): Linear(in_features=2, out_features=1, bias=True)\n",
            "    )\n",
            "    (4): LayerNorm((1,), eps=1e-05, elementwise_affine=True)\n",
            "  )\n",
            "  (relu): ReLU(inplace=True)\n",
            "  (fc1): Linear(in_features=64, out_features=50, bias=True)\n",
            "  (fc2): Linear(in_features=50, out_features=1, bias=True)\n",
            ")>\n",
            "[ 1/30] train_loss: 31.70317 valid_loss: 40.71295\n",
            "[ 2/30] train_loss: 31.51918 valid_loss: 40.97163\n",
            "[ 3/30] train_loss: 31.27001 valid_loss: 41.29155\n",
            "[ 4/30] train_loss: 30.96847 valid_loss: 41.69359\n",
            "[ 5/30] train_loss: 30.62249 valid_loss: 42.15405\n",
            "[ 6/30] train_loss: 30.25028 valid_loss: 42.68283\n",
            "[ 7/30] train_loss: 29.84976 valid_loss: 43.28549\n",
            "[ 8/30] train_loss: 29.42275 valid_loss: 43.97266\n",
            "[ 9/30] train_loss: 28.97766 valid_loss: 44.73848\n",
            "[10/30] train_loss: 28.51929 valid_loss: 45.60263\n",
            "[11/30] train_loss: 28.06497 valid_loss: 46.51977\n",
            "[12/30] train_loss: 27.63135 valid_loss: 47.48295\n",
            "[13/30] train_loss: 27.22607 valid_loss: 48.47721\n",
            "[14/30] train_loss: 26.85553 valid_loss: 49.49050\n",
            "[15/30] train_loss: 26.51711 valid_loss: 50.53478\n",
            "[16/30] train_loss: 26.21871 valid_loss: 51.54775\n",
            "[17/30] train_loss: 25.96487 valid_loss: 52.52349\n",
            "[18/30] train_loss: 25.75198 valid_loss: 53.45036\n",
            "[19/30] train_loss: 25.57451 valid_loss: 54.32736\n",
            "[20/30] train_loss: 25.42635 valid_loss: 55.15611\n",
            "[21/30] train_loss: 25.30628 valid_loss: 55.91329\n",
            "[22/30] train_loss: 25.21042 valid_loss: 56.60018\n",
            "[23/30] train_loss: 25.13434 valid_loss: 57.21926\n",
            "[24/30] train_loss: 25.07425 valid_loss: 57.77435\n",
            "[25/30] train_loss: 25.02703 valid_loss: 58.26835\n",
            "[26/30] train_loss: 24.98990 valid_loss: 58.70371\n",
            "[27/30] train_loss: 24.96096 valid_loss: 59.08836\n",
            "[28/30] train_loss: 24.93821 valid_loss: 59.42427\n",
            "[29/30] train_loss: 24.92046 valid_loss: 59.71899\n",
            "[30/30] train_loss: 24.90654 valid_loss: 59.97555\n",
            "<bound method Module.modules of Net6(\n",
            "  (layer1): Sequential(\n",
            "    (0): Conv1d(3, 64, kernel_size=(1,), stride=(1,))\n",
            "    (1): SelfAttention(\n",
            "      (tokeys): Linear(in_features=1, out_features=2, bias=False)\n",
            "      (toqueries): Linear(in_features=1, out_features=2, bias=False)\n",
            "      (tovalues): Linear(in_features=1, out_features=2, bias=False)\n",
            "      (unifyheads): Linear(in_features=2, out_features=1, bias=True)\n",
            "    )\n",
            "    (2): SelfAttention(\n",
            "      (tokeys): Linear(in_features=1, out_features=2, bias=False)\n",
            "      (toqueries): Linear(in_features=1, out_features=2, bias=False)\n",
            "      (tovalues): Linear(in_features=1, out_features=2, bias=False)\n",
            "      (unifyheads): Linear(in_features=2, out_features=1, bias=True)\n",
            "    )\n",
            "  )\n",
            "  (relu): ReLU(inplace=True)\n",
            "  (fc1): Linear(in_features=64, out_features=50, bias=True)\n",
            "  (fc2): Linear(in_features=50, out_features=1, bias=True)\n",
            ")>\n",
            "[ 1/30] train_loss: 30.50217 valid_loss: 42.89300\n",
            "[ 2/30] train_loss: 29.51004 valid_loss: 44.55363\n",
            "[ 3/30] train_loss: 28.53721 valid_loss: 46.27343\n",
            "[ 4/30] train_loss: 27.70044 valid_loss: 47.97488\n",
            "[ 5/30] train_loss: 27.02913 valid_loss: 49.58730\n",
            "[ 6/30] train_loss: 26.47999 valid_loss: 51.15067\n",
            "[ 7/30] train_loss: 26.05208 valid_loss: 52.59160\n",
            "[ 8/30] train_loss: 25.72745 valid_loss: 53.88558\n",
            "[ 9/30] train_loss: 25.48536 valid_loss: 55.03368\n",
            "[10/30] train_loss: 25.30655 valid_loss: 56.03449\n",
            "[11/30] train_loss: 25.17548 valid_loss: 56.89352\n",
            "[12/30] train_loss: 25.07921 valid_loss: 57.62056\n",
            "[13/30] train_loss: 25.00726 valid_loss: 58.22718\n",
            "[14/30] train_loss: 24.95128 valid_loss: 58.72523\n",
            "[15/30] train_loss: 24.90453 valid_loss: 59.12483\n",
            "[16/30] train_loss: 24.86082 valid_loss: 59.43387\n",
            "[17/30] train_loss: 24.81601 valid_loss: 59.66192\n",
            "[18/30] train_loss: 24.76688 valid_loss: 59.81566\n",
            "[19/30] train_loss: 24.70939 valid_loss: 59.89997\n",
            "[20/30] train_loss: 24.63985 valid_loss: 59.92092\n",
            "[21/30] train_loss: 24.55604 valid_loss: 59.88920\n",
            "[22/30] train_loss: 24.45564 valid_loss: 59.81158\n",
            "[23/30] train_loss: 24.33709 valid_loss: 59.69394\n",
            "[24/30] train_loss: 24.19818 valid_loss: 59.53739\n",
            "[25/30] train_loss: 24.03793 valid_loss: 59.34275\n",
            "[26/30] train_loss: 23.85359 valid_loss: 59.06767\n",
            "[27/30] train_loss: 23.64236 valid_loss: 58.73937\n",
            "[28/30] train_loss: 23.40777 valid_loss: 58.41567\n",
            "[29/30] train_loss: 23.14701 valid_loss: 58.02016\n",
            "[30/30] train_loss: 22.85045 valid_loss: 57.56490\n",
            "<bound method Module.modules of Net7(\n",
            "  (layer1): Sequential(\n",
            "    (0): SelfAttention(\n",
            "      (tokeys): Linear(in_features=1, out_features=2, bias=False)\n",
            "      (toqueries): Linear(in_features=1, out_features=2, bias=False)\n",
            "      (tovalues): Linear(in_features=1, out_features=2, bias=False)\n",
            "      (unifyheads): Linear(in_features=2, out_features=1, bias=True)\n",
            "    )\n",
            "    (1): LayerNorm((1,), eps=1e-05, elementwise_affine=True)\n",
            "    (2): Conv1d(3, 64, kernel_size=(1,), stride=(1,))\n",
            "    (3): SelfAttention(\n",
            "      (tokeys): Linear(in_features=1, out_features=2, bias=False)\n",
            "      (toqueries): Linear(in_features=1, out_features=2, bias=False)\n",
            "      (tovalues): Linear(in_features=1, out_features=2, bias=False)\n",
            "      (unifyheads): Linear(in_features=2, out_features=1, bias=True)\n",
            "    )\n",
            "    (4): LayerNorm((1,), eps=1e-05, elementwise_affine=True)\n",
            "  )\n",
            "  (relu): ReLU(inplace=True)\n",
            "  (fc1): Linear(in_features=64, out_features=50, bias=True)\n",
            "  (fc2): Linear(in_features=50, out_features=1, bias=True)\n",
            ")>\n",
            "[ 1/30] train_loss: 31.74229 valid_loss: 40.64495\n",
            "[ 2/30] train_loss: 31.62905 valid_loss: 40.78475\n",
            "[ 3/30] train_loss: 31.50136 valid_loss: 40.93089\n",
            "[ 4/30] train_loss: 31.37197 valid_loss: 41.07936\n",
            "[ 5/30] train_loss: 31.24227 valid_loss: 41.23160\n",
            "[ 6/30] train_loss: 31.11201 valid_loss: 41.38709\n",
            "[ 7/30] train_loss: 30.98160 valid_loss: 41.54565\n",
            "[ 8/30] train_loss: 30.85121 valid_loss: 41.70718\n",
            "[ 9/30] train_loss: 30.72097 valid_loss: 41.87168\n",
            "[10/30] train_loss: 30.59096 valid_loss: 42.03916\n",
            "[11/30] train_loss: 30.46116 valid_loss: 42.20989\n",
            "[12/30] train_loss: 30.33123 valid_loss: 42.38474\n",
            "[13/30] train_loss: 30.20069 valid_loss: 42.56394\n",
            "[14/30] train_loss: 30.06985 valid_loss: 42.74765\n",
            "[15/30] train_loss: 29.93835 valid_loss: 42.93621\n",
            "[16/30] train_loss: 29.80641 valid_loss: 43.12953\n",
            "[17/30] train_loss: 29.67419 valid_loss: 43.32737\n",
            "[18/30] train_loss: 29.54194 valid_loss: 43.53017\n",
            "[19/30] train_loss: 29.40933 valid_loss: 43.73819\n",
            "[20/30] train_loss: 29.27667 valid_loss: 43.95105\n",
            "[21/30] train_loss: 29.14426 valid_loss: 44.16850\n",
            "[22/30] train_loss: 29.01238 valid_loss: 44.39034\n",
            "[23/30] train_loss: 28.88123 valid_loss: 44.61639\n",
            "[24/30] train_loss: 28.75102 valid_loss: 44.84647\n",
            "[25/30] train_loss: 28.62193 valid_loss: 45.08039\n",
            "[26/30] train_loss: 28.49414 valid_loss: 45.31802\n",
            "[27/30] train_loss: 28.36776 valid_loss: 45.55941\n",
            "[28/30] train_loss: 28.24270 valid_loss: 45.80489\n",
            "[29/30] train_loss: 28.11901 valid_loss: 46.05431\n",
            "[30/30] train_loss: 27.99690 valid_loss: 46.30719\n"
          ]
        }
      ]
    },
    {
      "cell_type": "code",
      "metadata": {
        "colab": {
          "base_uri": "https://localhost:8080/",
          "height": 585
        },
        "id": "4Wv-gm6e8odH",
        "outputId": "872d9fac-a429-4949-ccd3-7bd633fd3d23"
      },
      "source": [
        "fig = plt.figure(figsize=(10,8))\n",
        "plt.plot(range(1,len(train_loss)+1),train_loss, label='Training Loss')\n",
        "plt.plot(range(1,len(valid_loss)+1),valid_loss,label='Validation Loss')\n",
        "\n",
        "plt.xlabel('epochs')\n",
        "plt.ylabel('loss')\n",
        "plt.xlim(0, len(train_loss)+1)\n",
        "plt.grid(True)\n",
        "plt.legend()\n",
        "plt.tight_layout()\n",
        "plt.show()\n",
        "fig.savefig('loss_plot.png', bbox_inches='tight')"
      ],
      "execution_count": 35,
      "outputs": [
        {
          "output_type": "display_data",
          "data": {
            "image/png": "[encoded data removed]",
            "text/plain": [
              "<Figure size 720x576 with 1 Axes>"
            ]
          },
          "metadata": {
            "needs_background": "light"
          }
        }
      ]
    },
    {
      "cell_type": "code",
      "metadata": {
        "colab": {
          "base_uri": "https://localhost:8080/"
        },
        "id": "7b9ZV-O587If",
        "outputId": "074d0f52-5409-4cd5-b55a-a4faa3c15f8d"
      },
      "source": [
        "i = 0\n",
        "for batch, (x, y) in enumerate(test_loader, 1):\n",
        "  i = i + 1\n",
        "  print(x[0].numpy())\n",
        "  print(y.numpy())\n",
        "  print(model(x))\n",
        "  if i > 10:\n",
        "    break\n",
        "  print()"
      ],
      "execution_count": 36,
      "outputs": [
        {
          "output_type": "stream",
          "name": "stdout",
          "text": [
            "[[-8.01]\n",
            " [-6.62]\n",
            " [-4.85]]\n",
            "[-2.24]\n",
            "tensor([-0.7993], grad_fn=<AddBackward0>)\n",
            "\n",
            "[[-6.62]\n",
            " [-4.85]\n",
            " [-2.24]]\n",
            "[0.29]\n",
            "tensor([-0.7993], grad_fn=<AddBackward0>)\n",
            "\n",
            "[[-4.85]\n",
            " [-2.24]\n",
            " [ 0.29]]\n",
            "[0.08]\n",
            "tensor([-0.7993], grad_fn=<AddBackward0>)\n",
            "\n",
            "[[-2.24]\n",
            " [ 0.29]\n",
            " [ 0.08]]\n",
            "[1.]\n",
            "tensor([-0.7993], grad_fn=<AddBackward0>)\n",
            "\n",
            "[[0.29]\n",
            " [0.08]\n",
            " [1.  ]]\n",
            "[1.1]\n",
            "tensor([-0.7993], grad_fn=<AddBackward0>)\n",
            "\n",
            "[[0.08]\n",
            " [1.  ]\n",
            " [1.1 ]]\n",
            "[1.31]\n",
            "tensor([-0.7993], grad_fn=<AddBackward0>)\n",
            "\n",
            "[[1.  ]\n",
            " [1.1 ]\n",
            " [1.31]]\n",
            "[1.24]\n",
            "tensor([-0.7993], grad_fn=<AddBackward0>)\n",
            "\n",
            "[[1.1 ]\n",
            " [1.31]\n",
            " [1.24]]\n",
            "[1.06]\n",
            "tensor([-0.7993], grad_fn=<AddBackward0>)\n",
            "\n",
            "[[1.31]\n",
            " [1.24]\n",
            " [1.06]]\n",
            "[1.66]\n",
            "tensor([-0.7993], grad_fn=<AddBackward0>)\n",
            "\n",
            "[[1.24]\n",
            " [1.06]\n",
            " [1.66]]\n",
            "[1.52]\n",
            "tensor([-0.7993], grad_fn=<AddBackward0>)\n",
            "\n",
            "[[1.06]\n",
            " [1.66]\n",
            " [1.52]]\n",
            "[1.49]\n",
            "tensor([-0.7993], grad_fn=<AddBackward0>)\n"
          ]
        }
      ]
    },
    {
      "cell_type": "code",
      "metadata": {
        "id": "czARonOgDmbO",
        "colab": {
          "base_uri": "https://localhost:8080/"
        },
        "outputId": "060f0bcb-f85f-493e-a611-e52c36ae51a9"
      },
      "source": [
        "\n",
        "\n",
        "for x in results:\n",
        "  print(x,':',results[x],'\\n')"
      ],
      "execution_count": 37,
      "outputs": [
        {
          "output_type": "stream",
          "name": "stdout",
          "text": [
            "Test Net1(\n",
            "  (layer1): Sequential(\n",
            "    (0): SelfAttention(\n",
            "      (tokeys): Linear(in_features=1, out_features=2, bias=False)\n",
            "      (toqueries): Linear(in_features=1, out_features=2, bias=False)\n",
            "      (tovalues): Linear(in_features=1, out_features=2, bias=False)\n",
            "      (unifyheads): Linear(in_features=2, out_features=1, bias=True)\n",
            "    )\n",
            "    (1): Conv1d(3, 64, kernel_size=(1,), stride=(1,))\n",
            "  )\n",
            "  (relu): ReLU(inplace=True)\n",
            "  (fc1): Linear(in_features=64, out_features=50, bias=True)\n",
            "  (fc2): Linear(in_features=50, out_features=1, bias=True)\n",
            ")MSELoss:  : 4.961216407561811 \n",
            "\n",
            "Test Net2(\n",
            "  (layer1): Sequential(\n",
            "    (0): SelfAttention(\n",
            "      (tokeys): Linear(in_features=1, out_features=2, bias=False)\n",
            "      (toqueries): Linear(in_features=1, out_features=2, bias=False)\n",
            "      (tovalues): Linear(in_features=1, out_features=2, bias=False)\n",
            "      (unifyheads): Linear(in_features=2, out_features=1, bias=True)\n",
            "    )\n",
            "    (1): Conv1d(3, 64, kernel_size=(1,), stride=(1,))\n",
            "    (2): SelfAttention(\n",
            "      (tokeys): Linear(in_features=1, out_features=2, bias=False)\n",
            "      (toqueries): Linear(in_features=1, out_features=2, bias=False)\n",
            "      (tovalues): Linear(in_features=1, out_features=2, bias=False)\n",
            "      (unifyheads): Linear(in_features=2, out_features=1, bias=True)\n",
            "    )\n",
            "  )\n",
            "  (relu): ReLU(inplace=True)\n",
            "  (fc1): Linear(in_features=64, out_features=50, bias=True)\n",
            "  (fc2): Linear(in_features=50, out_features=1, bias=True)\n",
            ")MSELoss:  : 25.745405710245404 \n",
            "\n",
            "Test Net3(\n",
            "  (layer1): Sequential(\n",
            "    (0): Conv1d(3, 64, kernel_size=(1,), stride=(1,))\n",
            "    (1): SelfAttention(\n",
            "      (tokeys): Linear(in_features=1, out_features=2, bias=False)\n",
            "      (toqueries): Linear(in_features=1, out_features=2, bias=False)\n",
            "      (tovalues): Linear(in_features=1, out_features=2, bias=False)\n",
            "      (unifyheads): Linear(in_features=2, out_features=1, bias=True)\n",
            "    )\n",
            "  )\n",
            "  (relu): ReLU(inplace=True)\n",
            "  (fc1): Linear(in_features=64, out_features=50, bias=True)\n",
            "  (fc2): Linear(in_features=50, out_features=1, bias=True)\n",
            ")MSELoss:  : 4.066821258667964 \n",
            "\n",
            "Test Net4(\n",
            "  (layer1): Sequential(\n",
            "    (0): SelfAttention(\n",
            "      (tokeys): Linear(in_features=1, out_features=2, bias=False)\n",
            "      (toqueries): Linear(in_features=1, out_features=2, bias=False)\n",
            "      (tovalues): Linear(in_features=1, out_features=2, bias=False)\n",
            "      (unifyheads): Linear(in_features=2, out_features=1, bias=True)\n",
            "    )\n",
            "    (1): LayerNorm((1,), eps=1e-05, elementwise_affine=True)\n",
            "    (2): SelfAttention(\n",
            "      (tokeys): Linear(in_features=1, out_features=2, bias=False)\n",
            "      (toqueries): Linear(in_features=1, out_features=2, bias=False)\n",
            "      (tovalues): Linear(in_features=1, out_features=2, bias=False)\n",
            "      (unifyheads): Linear(in_features=2, out_features=1, bias=True)\n",
            "    )\n",
            "    (3): LayerNorm((1,), eps=1e-05, elementwise_affine=True)\n",
            "  )\n",
            "  (relu): ReLU(inplace=True)\n",
            "  (fc1): Linear(in_features=3, out_features=50, bias=True)\n",
            "  (fc2): Linear(in_features=50, out_features=1, bias=True)\n",
            ")MSELoss:  : 32.794191431457676 \n",
            "\n",
            "Test Net5(\n",
            "  (layer1): Sequential(\n",
            "    (0): Conv1d(3, 64, kernel_size=(1,), stride=(1,))\n",
            "    (1): SelfAttention(\n",
            "      (tokeys): Linear(in_features=1, out_features=2, bias=False)\n",
            "      (toqueries): Linear(in_features=1, out_features=2, bias=False)\n",
            "      (tovalues): Linear(in_features=1, out_features=2, bias=False)\n",
            "      (unifyheads): Linear(in_features=2, out_features=1, bias=True)\n",
            "    )\n",
            "    (2): LayerNorm((1,), eps=1e-05, elementwise_affine=True)\n",
            "    (3): SelfAttention(\n",
            "      (tokeys): Linear(in_features=1, out_features=2, bias=False)\n",
            "      (toqueries): Linear(in_features=1, out_features=2, bias=False)\n",
            "      (tovalues): Linear(in_features=1, out_features=2, bias=False)\n",
            "      (unifyheads): Linear(in_features=2, out_features=1, bias=True)\n",
            "    )\n",
            "    (4): LayerNorm((1,), eps=1e-05, elementwise_affine=True)\n",
            "  )\n",
            "  (relu): ReLU(inplace=True)\n",
            "  (fc1): Linear(in_features=64, out_features=50, bias=True)\n",
            "  (fc2): Linear(in_features=50, out_features=1, bias=True)\n",
            ")MSELoss:  : 40.40863464915894 \n",
            "\n",
            "Test Net6(\n",
            "  (layer1): Sequential(\n",
            "    (0): Conv1d(3, 64, kernel_size=(1,), stride=(1,))\n",
            "    (1): SelfAttention(\n",
            "      (tokeys): Linear(in_features=1, out_features=2, bias=False)\n",
            "      (toqueries): Linear(in_features=1, out_features=2, bias=False)\n",
            "      (tovalues): Linear(in_features=1, out_features=2, bias=False)\n",
            "      (unifyheads): Linear(in_features=2, out_features=1, bias=True)\n",
            "    )\n",
            "    (2): SelfAttention(\n",
            "      (tokeys): Linear(in_features=1, out_features=2, bias=False)\n",
            "      (toqueries): Linear(in_features=1, out_features=2, bias=False)\n",
            "      (tovalues): Linear(in_features=1, out_features=2, bias=False)\n",
            "      (unifyheads): Linear(in_features=2, out_features=1, bias=True)\n",
            "    )\n",
            "  )\n",
            "  (relu): ReLU(inplace=True)\n",
            "  (fc1): Linear(in_features=64, out_features=50, bias=True)\n",
            "  (fc2): Linear(in_features=50, out_features=1, bias=True)\n",
            ")MSELoss:  : 40.187685639684695 \n",
            "\n",
            "Test Net7(\n",
            "  (layer1): Sequential(\n",
            "    (0): SelfAttention(\n",
            "      (tokeys): Linear(in_features=1, out_features=2, bias=False)\n",
            "      (toqueries): Linear(in_features=1, out_features=2, bias=False)\n",
            "      (tovalues): Linear(in_features=1, out_features=2, bias=False)\n",
            "      (unifyheads): Linear(in_features=2, out_features=1, bias=True)\n",
            "    )\n",
            "    (1): LayerNorm((1,), eps=1e-05, elementwise_affine=True)\n",
            "    (2): Conv1d(3, 64, kernel_size=(1,), stride=(1,))\n",
            "    (3): SelfAttention(\n",
            "      (tokeys): Linear(in_features=1, out_features=2, bias=False)\n",
            "      (toqueries): Linear(in_features=1, out_features=2, bias=False)\n",
            "      (tovalues): Linear(in_features=1, out_features=2, bias=False)\n",
            "      (unifyheads): Linear(in_features=2, out_features=1, bias=True)\n",
            "    )\n",
            "    (4): LayerNorm((1,), eps=1e-05, elementwise_affine=True)\n",
            "  )\n",
            "  (relu): ReLU(inplace=True)\n",
            "  (fc1): Linear(in_features=64, out_features=50, bias=True)\n",
            "  (fc2): Linear(in_features=50, out_features=1, bias=True)\n",
            ")MSELoss:  : 26.749354785953116 \n",
            "\n"
          ]
        }
      ]
    }
  ]
}