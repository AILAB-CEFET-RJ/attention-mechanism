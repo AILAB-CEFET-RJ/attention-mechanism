{
  "nbformat": 4,
  "nbformat_minor": 0,
  "metadata": {
    "colab": {
      "name": "TemperatureSelfAttention.ipynb",
      "provenance": [],
      "collapsed_sections": [],
      "authorship_tag": "ABX9TyOWxkeT1EKy6G0/UTPSuKZM",
      "include_colab_link": true
    },
    "kernelspec": {
      "name": "python3",
      "display_name": "Python 3"
    },
    "language_info": {
      "name": "python"
    }
  },
  "cells": [
    {
      "cell_type": "markdown",
      "metadata": {
        "id": "view-in-github",
        "colab_type": "text"
      },
      "source": [
        "<a href=\"https://colab.research.google.com/github/MLRG-CEFET-RJ/attention-mechanism/blob/main/TemperatureSelfAttention.ipynb\" target=\"_parent\"><img src=\"https://colab.research.google.com/assets/colab-badge.svg\" alt=\"Open In Colab\"/></a>"
      ]
    },
    {
      "cell_type": "code",
      "metadata": {
        "id": "1K6mVmNS2IIu"
      },
      "source": [
        "from torch.utils.data import Dataset, DataLoader\n",
        "from tqdm import tqdm_notebook as tqdm\n",
        "import torch.nn.functional as F\n",
        "import matplotlib.pyplot as plt\n",
        "import requests, zipfile, io\n",
        "from numpy import array\n",
        "import torch.nn as nn\n",
        "import pandas as pd\n",
        "import numpy as np\n",
        "import torch\n",
        "import os\n",
        "import gc\n"
      ],
      "execution_count": 1,
      "outputs": []
    },
    {
      "cell_type": "markdown",
      "metadata": {
        "id": "kNIceLOZw8Lt"
      },
      "source": [
        "Baixar o arquivo com o conjunto de dados."
      ]
    },
    {
      "cell_type": "code",
      "metadata": {
        "id": "d51q0jEW3FzC"
      },
      "source": [
        "zip_file_url = 'https://storage.googleapis.com/tensorflow/tf-keras-datasets/jena_climate_2009_2016.csv.zip'\n",
        "\n",
        "r = requests.get(zip_file_url, stream=True)\n",
        "z = zipfile.ZipFile(io.BytesIO(r.content))\n",
        "z.extractall()"
      ],
      "execution_count": 2,
      "outputs": []
    },
    {
      "cell_type": "markdown",
      "metadata": {
        "id": "VBT49NJOxIaA"
      },
      "source": [
        "Carregar o arquivo (em formato CSV) para um objeto"
      ]
    },
    {
      "cell_type": "code",
      "metadata": {
        "id": "g_AA4hCM3eG9"
      },
      "source": [
        "df = pd.read_csv('jena_climate_2009_2016.csv')"
      ],
      "execution_count": 3,
      "outputs": []
    },
    {
      "cell_type": "markdown",
      "metadata": {
        "id": "eXwjsIVBxWXJ"
      },
      "source": [
        "Visualização dos dados"
      ]
    },
    {
      "cell_type": "code",
      "metadata": {
        "colab": {
          "base_uri": "https://localhost:8080/",
          "height": 310
        },
        "id": "_rUGPc4E3hKW",
        "outputId": "df568256-b1f9-4fe3-ca69-0b563f22672c"
      },
      "source": [
        "df.head(5)"
      ],
      "execution_count": 4,
      "outputs": [
        {
          "output_type": "execute_result",
          "data": {
            "text/html": [
              "<div>\n",
              "<style scoped>\n",
              "    .dataframe tbody tr th:only-of-type {\n",
              "        vertical-align: middle;\n",
              "    }\n",
              "\n",
              "    .dataframe tbody tr th {\n",
              "        vertical-align: top;\n",
              "    }\n",
              "\n",
              "    .dataframe thead th {\n",
              "        text-align: right;\n",
              "    }\n",
              "</style>\n",
              "<table border=\"1\" class=\"dataframe\">\n",
              "  <thead>\n",
              "    <tr style=\"text-align: right;\">\n",
              "      <th></th>\n",
              "      <th>Date Time</th>\n",
              "      <th>p (mbar)</th>\n",
              "      <th>T (degC)</th>\n",
              "      <th>Tpot (K)</th>\n",
              "      <th>Tdew (degC)</th>\n",
              "      <th>rh (%)</th>\n",
              "      <th>VPmax (mbar)</th>\n",
              "      <th>VPact (mbar)</th>\n",
              "      <th>VPdef (mbar)</th>\n",
              "      <th>sh (g/kg)</th>\n",
              "      <th>H2OC (mmol/mol)</th>\n",
              "      <th>rho (g/m**3)</th>\n",
              "      <th>wv (m/s)</th>\n",
              "      <th>max. wv (m/s)</th>\n",
              "      <th>wd (deg)</th>\n",
              "    </tr>\n",
              "  </thead>\n",
              "  <tbody>\n",
              "    <tr>\n",
              "      <th>0</th>\n",
              "      <td>01.01.2009 00:10:00</td>\n",
              "      <td>996.52</td>\n",
              "      <td>-8.02</td>\n",
              "      <td>265.40</td>\n",
              "      <td>-8.90</td>\n",
              "      <td>93.3</td>\n",
              "      <td>3.33</td>\n",
              "      <td>3.11</td>\n",
              "      <td>0.22</td>\n",
              "      <td>1.94</td>\n",
              "      <td>3.12</td>\n",
              "      <td>1307.75</td>\n",
              "      <td>1.03</td>\n",
              "      <td>1.75</td>\n",
              "      <td>152.3</td>\n",
              "    </tr>\n",
              "    <tr>\n",
              "      <th>1</th>\n",
              "      <td>01.01.2009 00:20:00</td>\n",
              "      <td>996.57</td>\n",
              "      <td>-8.41</td>\n",
              "      <td>265.01</td>\n",
              "      <td>-9.28</td>\n",
              "      <td>93.4</td>\n",
              "      <td>3.23</td>\n",
              "      <td>3.02</td>\n",
              "      <td>0.21</td>\n",
              "      <td>1.89</td>\n",
              "      <td>3.03</td>\n",
              "      <td>1309.80</td>\n",
              "      <td>0.72</td>\n",
              "      <td>1.50</td>\n",
              "      <td>136.1</td>\n",
              "    </tr>\n",
              "    <tr>\n",
              "      <th>2</th>\n",
              "      <td>01.01.2009 00:30:00</td>\n",
              "      <td>996.53</td>\n",
              "      <td>-8.51</td>\n",
              "      <td>264.91</td>\n",
              "      <td>-9.31</td>\n",
              "      <td>93.9</td>\n",
              "      <td>3.21</td>\n",
              "      <td>3.01</td>\n",
              "      <td>0.20</td>\n",
              "      <td>1.88</td>\n",
              "      <td>3.02</td>\n",
              "      <td>1310.24</td>\n",
              "      <td>0.19</td>\n",
              "      <td>0.63</td>\n",
              "      <td>171.6</td>\n",
              "    </tr>\n",
              "    <tr>\n",
              "      <th>3</th>\n",
              "      <td>01.01.2009 00:40:00</td>\n",
              "      <td>996.51</td>\n",
              "      <td>-8.31</td>\n",
              "      <td>265.12</td>\n",
              "      <td>-9.07</td>\n",
              "      <td>94.2</td>\n",
              "      <td>3.26</td>\n",
              "      <td>3.07</td>\n",
              "      <td>0.19</td>\n",
              "      <td>1.92</td>\n",
              "      <td>3.08</td>\n",
              "      <td>1309.19</td>\n",
              "      <td>0.34</td>\n",
              "      <td>0.50</td>\n",
              "      <td>198.0</td>\n",
              "    </tr>\n",
              "    <tr>\n",
              "      <th>4</th>\n",
              "      <td>01.01.2009 00:50:00</td>\n",
              "      <td>996.51</td>\n",
              "      <td>-8.27</td>\n",
              "      <td>265.15</td>\n",
              "      <td>-9.04</td>\n",
              "      <td>94.1</td>\n",
              "      <td>3.27</td>\n",
              "      <td>3.08</td>\n",
              "      <td>0.19</td>\n",
              "      <td>1.92</td>\n",
              "      <td>3.09</td>\n",
              "      <td>1309.00</td>\n",
              "      <td>0.32</td>\n",
              "      <td>0.63</td>\n",
              "      <td>214.3</td>\n",
              "    </tr>\n",
              "  </tbody>\n",
              "</table>\n",
              "</div>"
            ],
            "text/plain": [
              "             Date Time  p (mbar)  T (degC)  ...  wv (m/s)  max. wv (m/s)  wd (deg)\n",
              "0  01.01.2009 00:10:00    996.52     -8.02  ...      1.03           1.75     152.3\n",
              "1  01.01.2009 00:20:00    996.57     -8.41  ...      0.72           1.50     136.1\n",
              "2  01.01.2009 00:30:00    996.53     -8.51  ...      0.19           0.63     171.6\n",
              "3  01.01.2009 00:40:00    996.51     -8.31  ...      0.34           0.50     198.0\n",
              "4  01.01.2009 00:50:00    996.51     -8.27  ...      0.32           0.63     214.3\n",
              "\n",
              "[5 rows x 15 columns]"
            ]
          },
          "metadata": {},
          "execution_count": 4
        }
      ]
    },
    {
      "cell_type": "markdown",
      "metadata": {
        "id": "HxhP-fKGmwTQ"
      },
      "source": [
        "Preparação dos dados (converter a frequência de observações de 10 min para 1 hora)"
      ]
    },
    {
      "cell_type": "code",
      "metadata": {
        "colab": {
          "base_uri": "https://localhost:8080/"
        },
        "id": "g2-UBKN04nfB",
        "outputId": "c59f718a-a395-4024-e490-f05bbe909dd5"
      },
      "source": [
        "print(df.shape)\n",
        "\n",
        "# slice [start:stop:step], starting from index 5, take every 6th record.\n",
        "df = df[5::6]\n",
        "\n",
        "print(df.shape)"
      ],
      "execution_count": 5,
      "outputs": [
        {
          "output_type": "stream",
          "name": "stdout",
          "text": [
            "(420551, 15)\n",
            "(70091, 15)\n"
          ]
        }
      ]
    },
    {
      "cell_type": "code",
      "metadata": {
        "colab": {
          "base_uri": "https://localhost:8080/"
        },
        "id": "TCLBLryn5jO9",
        "outputId": "17a7801e-3e58-4ca6-e91d-cb56e15fe03b"
      },
      "source": [
        "date_time = pd.to_datetime(df['Date Time'], format='%d.%m.%Y %H:%M:%S')\n",
        "date_time"
      ],
      "execution_count": 6,
      "outputs": [
        {
          "output_type": "execute_result",
          "data": {
            "text/plain": [
              "5        2009-01-01 01:00:00\n",
              "11       2009-01-01 02:00:00\n",
              "17       2009-01-01 03:00:00\n",
              "23       2009-01-01 04:00:00\n",
              "29       2009-01-01 05:00:00\n",
              "                 ...        \n",
              "420521   2016-12-31 19:10:00\n",
              "420527   2016-12-31 20:10:00\n",
              "420533   2016-12-31 21:10:00\n",
              "420539   2016-12-31 22:10:00\n",
              "420545   2016-12-31 23:10:00\n",
              "Name: Date Time, Length: 70091, dtype: datetime64[ns]"
            ]
          },
          "metadata": {},
          "execution_count": 6
        }
      ]
    },
    {
      "cell_type": "markdown",
      "metadata": {
        "id": "rskIulhJyp23"
      },
      "source": [
        "Sumário estatístico da temperatura"
      ]
    },
    {
      "cell_type": "code",
      "metadata": {
        "colab": {
          "base_uri": "https://localhost:8080/"
        },
        "id": "ufK0R6hF5yXO",
        "outputId": "b36f0e0d-6dd8-4305-bb8c-b10164608870"
      },
      "source": [
        "temperature = df['T (degC)']\n",
        "temperature.describe()"
      ],
      "execution_count": 7,
      "outputs": [
        {
          "output_type": "execute_result",
          "data": {
            "text/plain": [
              "count    70091.000000\n",
              "mean         9.450482\n",
              "std          8.423384\n",
              "min        -22.760000\n",
              "25%          3.350000\n",
              "50%          9.410000\n",
              "75%         15.480000\n",
              "max         37.280000\n",
              "Name: T (degC), dtype: float64"
            ]
          },
          "metadata": {},
          "execution_count": 7
        }
      ]
    },
    {
      "cell_type": "markdown",
      "metadata": {
        "id": "NyM8VVrT4P7h"
      },
      "source": [
        "Iremos usar 1200 exemplos para treinar o modelo e 500 exemplos, tanto para validação quanto para teste."
      ]
    },
    {
      "cell_type": "code",
      "metadata": {
        "colab": {
          "base_uri": "https://localhost:8080/"
        },
        "id": "Caz6XhVK6TS2",
        "outputId": "5c283a2e-b79e-43f8-ca38-6e2a9e4b1619"
      },
      "source": [
        "train_set = temperature[:1200]\n",
        "valid_set = temperature[69000:69500]\n",
        "test_set = temperature[69500:]\n",
        "print('Proporção de exemplos para treino: {:.2f}%'.format(len(train_set)/len(temperature)))\n",
        "print('Proporção de exemplos para validação: {:.2f}%'.format(len(valid_set)/len(temperature)))\n",
        "print('Proporção de exemplos para teste: {:.2f}%'.format(len(valid_set)/len(temperature)))"
      ],
      "execution_count": 8,
      "outputs": [
        {
          "output_type": "stream",
          "name": "stdout",
          "text": [
            "Proporção de exemplos para treino: 0.02%\n",
            "Proporção de exemplos para validação: 0.01%\n",
            "Proporção de exemplos para teste: 0.01%\n"
          ]
        }
      ]
    },
    {
      "cell_type": "markdown",
      "metadata": {
        "id": "tQRYhhZ453sk"
      },
      "source": [
        "Janelas deslizantes"
      ]
    },
    {
      "cell_type": "code",
      "metadata": {
        "id": "utTP5osP6j-u"
      },
      "source": [
        "def window_generator(sequence, n_steps):\n",
        "    x, y = list(), list()\n",
        "    for i in range(len(sequence)):\n",
        "        \n",
        "        end_ix = i + n_steps\n",
        "        \n",
        "        if end_ix > len(sequence)-1:\n",
        "            break\n",
        "        seq_x, seq_y = sequence[i:end_ix], sequence[end_ix]\n",
        "        x.append(seq_x)\n",
        "        y.append(seq_y)\n",
        "    return array(x), array(y)"
      ],
      "execution_count": 9,
      "outputs": []
    },
    {
      "cell_type": "code",
      "metadata": {
        "id": "Za8BkrsW60Zk"
      },
      "source": [
        "n_steps = 3\n",
        "train_x, train_y = window_generator(train_set.values, n_steps)\n",
        "valid_x, valid_y = window_generator(valid_set.values, n_steps)\n",
        "test_x, test_y = window_generator(test_set.values, n_steps)"
      ],
      "execution_count": 10,
      "outputs": []
    },
    {
      "cell_type": "code",
      "metadata": {
        "id": "HR_p5reo69Ak"
      },
      "source": [
        "class SelfAttention(nn.Module):\n",
        "  def __init__(self, k, heads):\n",
        "    super().__init__()\n",
        "    self.k, self.heads = k, heads\n",
        "\n",
        "    self.tokeys    = nn.Linear(k, k * heads, bias=False)\n",
        "    self.toqueries = nn.Linear(k, k * heads, bias=False)\n",
        "    self.tovalues  = nn.Linear(k, k * heads, bias=False)   \n",
        "    self.unifyheads = nn.Linear(heads * k, k)\n",
        "\n",
        "  def forward(self, x):\n",
        "      b, t, k = x.size()\n",
        "      h = self.heads\n",
        "\n",
        "      queries = self.toqueries(x).view(b, t, h, k)\n",
        "      keys    = self.tokeys(x)   .view(b, t, h, k)\n",
        "      values  = self.tovalues(x) .view(b, t, h, k)\n",
        "\n",
        "\n",
        "      keys = keys.transpose(1, 2).contiguous().view(b * h, t, k)\n",
        "      queries = queries.transpose(1, 2).contiguous().view(b * h, t, k)\n",
        "      values = values.transpose(1, 2).contiguous().view(b * h, t, k)\n",
        "\n",
        "\n",
        "      queries = queries / (k ** (1/2))\n",
        "      keys    = keys / (k ** (1/2))\n",
        "\n",
        "      # - get dot product of queries and keys, and scale\n",
        "      dot = torch.bmm(queries, keys.transpose(1, 2))\n",
        "      # - dot has size (b*h, t, t) containing raw weights\n",
        "\n",
        "      dot = F.softmax(dot, dim=2) \n",
        "      # - dot now contains row-wise normalized weights\n",
        "\n",
        "      out = torch.bmm(dot, values).view(b, h, t, k)\n",
        "\n",
        "      out = out.transpose(1, 2).contiguous().view(b, t, h * k)\n",
        "      return self.unifyheads(out)\n",
        "\n"
      ],
      "execution_count": 11,
      "outputs": []
    },
    {
      "cell_type": "code",
      "metadata": {
        "id": "Mhso9L1pyjYq"
      },
      "source": [
        "results = {}"
      ],
      "execution_count": 12,
      "outputs": []
    },
    {
      "cell_type": "code",
      "metadata": {
        "id": "Chw_7ZT7Ae0K"
      },
      "source": [
        "seed = 15\n",
        "np.random.seed(seed)\n",
        "torch.manual_seed(seed)\n",
        "torch.cuda.manual_seed(seed)\n",
        "torch.backends.cudnn.deterministic=True"
      ],
      "execution_count": 13,
      "outputs": []
    },
    {
      "cell_type": "code",
      "metadata": {
        "id": "lr9-ESd98EIf"
      },
      "source": [
        "n_epochs = 30\n",
        "batch_size = 32"
      ],
      "execution_count": 14,
      "outputs": []
    },
    {
      "cell_type": "code",
      "metadata": {
        "id": "z1jO19kg7HLl"
      },
      "source": [
        "class Dataset(Dataset):\n",
        "    def __init__(self,feature,target):\n",
        "        self.feature = feature\n",
        "        self.target = target\n",
        "    \n",
        "    def __len__(self):\n",
        "        return len(self.feature)\n",
        "    \n",
        "    def __getitem__(self,idx):\n",
        "        item = self.feature[idx]\n",
        "        label = self.target[idx]\n",
        "        item = torch.as_tensor(item, dtype = torch.float32)\n",
        "        label = torch.as_tensor(label, dtype = torch.float32)\n",
        "        return item, label\n",
        "\n",
        "train_ds = Dataset(train_x.reshape(train_x.shape[0],train_x.shape[1],1), train_y)\n",
        "valid_ds = Dataset(valid_x.reshape(valid_x.shape[0],valid_x.shape[1],1), valid_y)\n",
        "test_ds = Dataset(test_x.reshape(test_x.shape[0],test_x.shape[1],1), test_y)\n",
        "\n",
        "train_loader = torch.utils.data.DataLoader(train_ds, batch_size = 1, shuffle = False)\n",
        "valid_loader = torch.utils.data.DataLoader(valid_ds, batch_size = 1, shuffle = False)\n",
        "test_loader = torch.utils.data.DataLoader(test_ds, batch_size = 1, shuffle = False)"
      ],
      "execution_count": 15,
      "outputs": []
    },
    {
      "cell_type": "code",
      "metadata": {
        "colab": {
          "base_uri": "https://localhost:8080/"
        },
        "id": "x-wLpTOv7ykO",
        "outputId": "dc6c65b6-bb8a-42c5-eea5-4ca932fe8093"
      },
      "source": [
        "dataset = Dataset(train_x.reshape(train_x.shape[0],train_x.shape[1],1),train_y)\n",
        "print(dataset.__getitem__(0))"
      ],
      "execution_count": 16,
      "outputs": [
        {
          "output_type": "stream",
          "name": "stdout",
          "text": [
            "(tensor([[-8.0500],\n",
            "        [-8.8800],\n",
            "        [-8.8100]]), tensor(-9.0500))\n"
          ]
        }
      ]
    },
    {
      "cell_type": "code",
      "metadata": {
        "id": "3C4KWf6W8CgA"
      },
      "source": [
        "def train_model(model, batch_size, n_epochs):\n",
        "    \n",
        "    # to track the training loss as the model trains\n",
        "    train_losses = []\n",
        "    # to track the validation loss as the model trains\n",
        "    valid_losses = []\n",
        "    # to track the average training loss per epoch as the model trains\n",
        "    avg_train_losses = []\n",
        "    # to track the average validation loss per epoch as the model trains\n",
        "    avg_valid_losses = [] \n",
        "    \n",
        "    for epoch in range(1, n_epochs + 1):\n",
        "\n",
        "        ###################\n",
        "        # train the model #\n",
        "        ###################\n",
        "        model.train() # prep model for training\n",
        "        for batch, (data, target) in enumerate(train_loader, 1):\n",
        "            # clear the gradients of all optimized variables\n",
        "            optimizer.zero_grad()\n",
        "            # forward pass: compute predicted outputs by passing inputs to the model\n",
        "            output = model(data)\n",
        "            # calculate the loss\n",
        "            loss = criterion(output, target)\n",
        "            # backward pass: compute gradient of the loss with respect to model parameters\n",
        "            loss.backward()\n",
        "            # perform a single optimization step (parameter update)\n",
        "            optimizer.step()\n",
        "            # record training loss\n",
        "            train_losses.append(loss.item())\n",
        "\n",
        "        ######################    \n",
        "        # validate the model #\n",
        "        ######################\n",
        "        model.eval() # prep model for evaluation\n",
        "        for data, target in valid_loader:\n",
        "            # forward pass: compute predicted outputs by passing inputs to the model\n",
        "            output = model(data)\n",
        "            # calculate the loss\n",
        "            loss = criterion(output, target)\n",
        "            # record validation loss\n",
        "            valid_losses.append(loss.item())\n",
        "\n",
        "        # print training/validation statistics \n",
        "        # calculate average loss over an epoch\n",
        "        train_loss = np.average(train_losses)\n",
        "        valid_loss = np.average(valid_losses)\n",
        "        avg_train_losses.append(train_loss)\n",
        "        avg_valid_losses.append(valid_loss)\n",
        "        \n",
        "        epoch_len = len(str(n_epochs))\n",
        "        \n",
        "        print_msg = (f'[{epoch:>{epoch_len}}/{n_epochs:>{epoch_len}}] ' +\n",
        "                     f'train_loss: {train_loss:.5f} ' +\n",
        "                     f'valid_loss: {valid_loss:.5f}')\n",
        "        \n",
        "        print(print_msg)\n",
        "        \n",
        "        # clear lists to track next epoch\n",
        "        train_losses = []\n",
        "        valid_losses = []\n",
        "  \n",
        "    return  model, avg_train_losses, avg_valid_losses"
      ],
      "execution_count": 17,
      "outputs": []
    },
    {
      "cell_type": "code",
      "metadata": {
        "id": "uZg2co41BGEh"
      },
      "source": [
        "def predict (model):\n",
        "  model.eval()  # prepare model for evaluation\n",
        "  sum = 0\n",
        "  with torch.no_grad():\n",
        "      for data, target in test_loader:\n",
        "          data, target = data.to(device), target.to(device)\n",
        "          output = model(data)\n",
        "          loss = criterion(output,target)\n",
        "          sum += loss.item()\n",
        "\n",
        "\n",
        "  return (sum/len(test_loader))\n",
        " "
      ],
      "execution_count": 18,
      "outputs": []
    },
    {
      "cell_type": "code",
      "metadata": {
        "id": "PnKecXDvIwGY"
      },
      "source": [
        "class Net1(nn.Module):\n",
        "    def __init__(self):\n",
        "        super(Net1,self).__init__()\n",
        "        self.layer1 = nn.Sequential(\n",
        "            SelfAttention(1, heads=2),\n",
        "            nn.Conv1d(3, 64, kernel_size = 1)\n",
        "        )\n",
        "\n",
        "        self.relu = nn.ReLU(inplace = True)\n",
        "        self.fc1 = nn.Linear(64,50)\n",
        "        self.fc2 = nn.Linear(50,1)      \n",
        "\n",
        "    def forward(self,x):\n",
        "        x = self.layer1(x)\n",
        "        x = self.relu(x)\n",
        "        x = x.view(-1)\n",
        "        x = self.fc1(x)\n",
        "        x = self.relu(x)\n",
        "        x = self.fc2(x)\n",
        "        \n",
        "        return x\n",
        "\n",
        "device = torch.device(\"cuda:0\" if torch.cuda.is_available() else \"cpu\")\n",
        "model1 = Net1().to(device)\n",
        "optimizer = torch.optim.Adam(model1.parameters(), lr=1e-5)\n",
        "criterion = nn.MSELoss()"
      ],
      "execution_count": 19,
      "outputs": []
    },
    {
      "cell_type": "code",
      "metadata": {
        "colab": {
          "base_uri": "https://localhost:8080/"
        },
        "id": "B9d888Ru8HqT",
        "outputId": "17f2231e-86b3-401e-9d19-91d0b05600d4"
      },
      "source": [
        "model1, train_loss, valid_loss = train_model(model1, batch_size, n_epochs)\n",
        "results[\"Test \" + str(model1) + \"MSELoss: \"] = predict(model1)"
      ],
      "execution_count": 20,
      "outputs": [
        {
          "output_type": "stream",
          "name": "stdout",
          "text": [
            "[ 1/30] train_loss: 31.12170 valid_loss: 41.62337\n",
            "[ 2/30] train_loss: 30.66393 valid_loss: 41.85033\n",
            "[ 3/30] train_loss: 30.10756 valid_loss: 42.04209\n",
            "[ 4/30] train_loss: 29.40699 valid_loss: 42.14557\n",
            "[ 5/30] train_loss: 28.57475 valid_loss: 42.12058\n",
            "[ 6/30] train_loss: 27.59555 valid_loss: 41.92150\n",
            "[ 7/30] train_loss: 26.46112 valid_loss: 41.53049\n",
            "[ 8/30] train_loss: 25.17387 valid_loss: 40.93110\n",
            "[ 9/30] train_loss: 23.73233 valid_loss: 40.10346\n",
            "[10/30] train_loss: 22.14084 valid_loss: 39.05220\n",
            "[11/30] train_loss: 20.40900 valid_loss: 37.78384\n",
            "[12/30] train_loss: 18.55794 valid_loss: 36.28725\n",
            "[13/30] train_loss: 16.63014 valid_loss: 34.59451\n",
            "[14/30] train_loss: 14.68566 valid_loss: 32.81500\n",
            "[15/30] train_loss: 12.77013 valid_loss: 30.96900\n",
            "[16/30] train_loss: 10.93215 valid_loss: 29.08394\n",
            "[17/30] train_loss: 9.21842 valid_loss: 27.21188\n",
            "[18/30] train_loss: 7.67335 valid_loss: 25.34808\n",
            "[19/30] train_loss: 6.32754 valid_loss: 23.44706\n",
            "[20/30] train_loss: 5.19308 valid_loss: 21.61463\n",
            "[21/30] train_loss: 4.27595 valid_loss: 19.89979\n",
            "[22/30] train_loss: 3.56338 valid_loss: 18.27999\n",
            "[23/30] train_loss: 3.03396 valid_loss: 16.78402\n",
            "[24/30] train_loss: 2.65953 valid_loss: 15.42373\n",
            "[25/30] train_loss: 2.40415 valid_loss: 14.20660\n",
            "[26/30] train_loss: 2.23322 valid_loss: 13.13363\n",
            "[27/30] train_loss: 2.11941 valid_loss: 12.19970\n",
            "[28/30] train_loss: 2.04335 valid_loss: 11.38973\n",
            "[29/30] train_loss: 1.99217 valid_loss: 10.68804\n",
            "[30/30] train_loss: 1.95685 valid_loss: 10.07851\n"
          ]
        }
      ]
    },
    {
      "cell_type": "code",
      "metadata": {
        "id": "fcHanaFZKRQf"
      },
      "source": [
        "class Net2(nn.Module):\n",
        "    def __init__(self):\n",
        "        super(Net2,self).__init__()\n",
        "        self.layer1 = nn.Sequential(\n",
        "            SelfAttention(1, heads=2),\n",
        "            nn.Conv1d(3, 64, kernel_size = 1),\n",
        "            SelfAttention(1, heads=2)\n",
        "        )\n",
        "\n",
        "        self.relu = nn.ReLU(inplace = True)\n",
        "        self.fc1 = nn.Linear(64,50)\n",
        "        self.fc2 = nn.Linear(50,1)     \n",
        "\n",
        "    def forward(self,x):\n",
        "        x = self.layer1(x)\n",
        "        x = self.relu(x)\n",
        "        x = x.view(-1)\n",
        "        x = self.fc1(x)\n",
        "        x = self.relu(x)\n",
        "        x = self.fc2(x)\n",
        "        \n",
        "        return x\n",
        "\n",
        "device = torch.device(\"cuda:0\" if torch.cuda.is_available() else \"cpu\")\n",
        "model2 = Net2().to(device)\n",
        "optimizer = torch.optim.Adam(model2.parameters(), lr=1e-5)\n",
        "criterion = nn.MSELoss()"
      ],
      "execution_count": 21,
      "outputs": []
    },
    {
      "cell_type": "code",
      "metadata": {
        "colab": {
          "base_uri": "https://localhost:8080/"
        },
        "id": "hHPV2GAr-VDr",
        "outputId": "3f5463b7-e424-4371-f125-05af350cd5be"
      },
      "source": [
        "model2, train_loss, valid_loss = train_model(model2, batch_size, n_epochs)\n",
        "results[\"Test \" + str(model2) + \"MSELoss: \"] = predict(model2)"
      ],
      "execution_count": 22,
      "outputs": [
        {
          "output_type": "stream",
          "name": "stdout",
          "text": [
            "[ 1/30] train_loss: 31.04564 valid_loss: 41.44039\n",
            "[ 2/30] train_loss: 30.94705 valid_loss: 41.57525\n",
            "[ 3/30] train_loss: 30.83620 valid_loss: 41.71384\n",
            "[ 4/30] train_loss: 30.72433 valid_loss: 41.85569\n",
            "[ 5/30] train_loss: 30.61202 valid_loss: 42.00007\n",
            "[ 6/30] train_loss: 30.49977 valid_loss: 42.14672\n",
            "[ 7/30] train_loss: 30.38777 valid_loss: 42.29556\n",
            "[ 8/30] train_loss: 30.27606 valid_loss: 42.44660\n",
            "[ 9/30] train_loss: 30.16507 valid_loss: 42.59906\n",
            "[10/30] train_loss: 30.05435 valid_loss: 42.75482\n",
            "[11/30] train_loss: 29.94354 valid_loss: 42.91278\n",
            "[12/30] train_loss: 29.83296 valid_loss: 43.07373\n",
            "[13/30] train_loss: 29.72296 valid_loss: 43.23665\n",
            "[14/30] train_loss: 29.61292 valid_loss: 43.40340\n",
            "[15/30] train_loss: 29.50250 valid_loss: 43.57376\n",
            "[16/30] train_loss: 29.39195 valid_loss: 43.74767\n",
            "[17/30] train_loss: 29.28117 valid_loss: 43.92587\n",
            "[18/30] train_loss: 29.16976 valid_loss: 44.10871\n",
            "[19/30] train_loss: 29.05793 valid_loss: 44.29589\n",
            "[20/30] train_loss: 28.94591 valid_loss: 44.48723\n",
            "[21/30] train_loss: 28.83392 valid_loss: 44.68254\n",
            "[22/30] train_loss: 28.72216 valid_loss: 44.88167\n",
            "[23/30] train_loss: 28.61080 valid_loss: 45.08441\n",
            "[24/30] train_loss: 28.50003 valid_loss: 45.29061\n",
            "[25/30] train_loss: 28.38999 valid_loss: 45.50008\n",
            "[26/30] train_loss: 28.28086 valid_loss: 45.71262\n",
            "[27/30] train_loss: 28.17278 valid_loss: 45.92806\n",
            "[28/30] train_loss: 28.06589 valid_loss: 46.14618\n",
            "[29/30] train_loss: 27.96032 valid_loss: 46.36682\n",
            "[30/30] train_loss: 27.85619 valid_loss: 46.58974\n"
          ]
        }
      ]
    },
    {
      "cell_type": "code",
      "metadata": {
        "id": "VvifErQcKSEI"
      },
      "source": [
        "class Net3(nn.Module):\n",
        "    def __init__(self):\n",
        "        super(Net3,self).__init__()\n",
        "        self.layer1 = nn.Sequential(\n",
        "            nn.Conv1d(3, 64, kernel_size = 1),\n",
        "            SelfAttention(1, heads=2)\n",
        "        )\n",
        "\n",
        "        self.relu = nn.ReLU(inplace = True)\n",
        "        self.fc1 = nn.Linear(64,50)\n",
        "        self.fc2 = nn.Linear(50,1)     \n",
        "\n",
        "    def forward(self,x):\n",
        "        x = self.layer1(x)\n",
        "        x = self.relu(x)\n",
        "        x = x.view(-1)\n",
        "        x = self.fc1(x)\n",
        "        x = self.relu(x)\n",
        "        x = self.fc2(x)\n",
        "        \n",
        "        return x\n",
        "\n",
        "device = torch.device(\"cuda:0\" if torch.cuda.is_available() else \"cpu\")\n",
        "model3 = Net3().to(device)\n",
        "optimizer = torch.optim.Adam(model3.parameters(), lr=1e-5)\n",
        "criterion = nn.MSELoss()"
      ],
      "execution_count": 23,
      "outputs": []
    },
    {
      "cell_type": "code",
      "metadata": {
        "colab": {
          "base_uri": "https://localhost:8080/"
        },
        "id": "OZZzEOl--ZVE",
        "outputId": "345af62f-8538-4e54-8349-172bdcfb11e6"
      },
      "source": [
        "model3, train_loss, valid_loss = train_model(model3, batch_size, n_epochs)\n",
        "results[\"Test \" + str(model3) + \"MSELoss: \"] = predict(model3)"
      ],
      "execution_count": 24,
      "outputs": [
        {
          "output_type": "stream",
          "name": "stdout",
          "text": [
            "[ 1/30] train_loss: 35.78819 valid_loss: 36.99070\n",
            "[ 2/30] train_loss: 32.50687 valid_loss: 34.71549\n",
            "[ 3/30] train_loss: 28.82403 valid_loss: 32.19829\n",
            "[ 4/30] train_loss: 25.35868 valid_loss: 29.50883\n",
            "[ 5/30] train_loss: 22.09552 valid_loss: 26.63399\n",
            "[ 6/30] train_loss: 18.79954 valid_loss: 23.59162\n",
            "[ 7/30] train_loss: 15.50594 valid_loss: 20.36158\n",
            "[ 8/30] train_loss: 12.02423 valid_loss: 17.04525\n",
            "[ 9/30] train_loss: 8.90690 valid_loss: 13.79926\n",
            "[10/30] train_loss: 6.34180 valid_loss: 10.76695\n",
            "[11/30] train_loss: 4.52472 valid_loss: 8.19036\n",
            "[12/30] train_loss: 3.60350 valid_loss: 6.22063\n",
            "[13/30] train_loss: 3.28547 valid_loss: 4.79300\n",
            "[14/30] train_loss: 3.12395 valid_loss: 3.77691\n",
            "[15/30] train_loss: 2.99112 valid_loss: 3.08804\n",
            "[16/30] train_loss: 2.88104 valid_loss: 2.65758\n",
            "[17/30] train_loss: 2.78731 valid_loss: 2.40019\n",
            "[18/30] train_loss: 2.70428 valid_loss: 2.24509\n",
            "[19/30] train_loss: 2.62878 valid_loss: 2.14770\n",
            "[20/30] train_loss: 2.56221 valid_loss: 2.07987\n",
            "[21/30] train_loss: 2.49933 valid_loss: 2.02900\n",
            "[22/30] train_loss: 2.43935 valid_loss: 1.98648\n",
            "[23/30] train_loss: 2.38157 valid_loss: 1.94810\n",
            "[24/30] train_loss: 2.32541 valid_loss: 1.91200\n",
            "[25/30] train_loss: 2.27068 valid_loss: 1.87703\n",
            "[26/30] train_loss: 2.21717 valid_loss: 1.84219\n",
            "[27/30] train_loss: 2.16404 valid_loss: 1.80773\n",
            "[28/30] train_loss: 2.11025 valid_loss: 1.77279\n",
            "[29/30] train_loss: 2.05612 valid_loss: 1.73740\n",
            "[30/30] train_loss: 1.99940 valid_loss: 1.70157\n"
          ]
        }
      ]
    },
    {
      "cell_type": "code",
      "metadata": {
        "id": "rdzUiD59KS18"
      },
      "source": [
        "class Net4(nn.Module):\n",
        "    def __init__(self):\n",
        "        super(Net4,self).__init__()\n",
        "        self.layer1 = nn.Sequential(\n",
        "            SelfAttention(1, heads=2),\n",
        "            nn.LayerNorm(1),\n",
        "            SelfAttention(1, heads=2),\n",
        "            nn.LayerNorm(1)\n",
        "        )\n",
        "\n",
        "        self.relu = nn.ReLU(inplace = True)\n",
        "        self.fc1 = nn.Linear(64,50)\n",
        "        self.fc2 = nn.Linear(50,1)      \n",
        "\n",
        "    def forward(self,x):\n",
        "        x = self.layer1(x)\n",
        "        x = self.relu(x)\n",
        "        x = x.view(-1)\n",
        "        x = self.fc1(x)\n",
        "        x = self.relu(x)\n",
        "        x = self.fc2(x)\n",
        "        \n",
        "        return x\n",
        "\n",
        "device = torch.device(\"cuda:0\" if torch.cuda.is_available() else \"cpu\")\n",
        "model4 = Net4().to(device)\n",
        "optimizer = torch.optim.Adam(model4.parameters(), lr=1e-5)\n",
        "criterion = nn.MSELoss()"
      ],
      "execution_count": 25,
      "outputs": []
    },
    {
      "cell_type": "code",
      "metadata": {
        "id": "xs6uZnPIAZOj"
      },
      "source": [
        "#model4, train_loss, valid_loss = train_model(model4, batch_size, n_epochs)\n",
        "#results[\"Test \" + str(model4) + \"MSELoss: \"] = predict(model4)"
      ],
      "execution_count": 26,
      "outputs": []
    },
    {
      "cell_type": "code",
      "metadata": {
        "id": "2LI87g3GKTi-"
      },
      "source": [
        "class Net5(nn.Module):\n",
        "    def __init__(self):\n",
        "        super(Net5,self).__init__()\n",
        "        self.layer1 = nn.Sequential(\n",
        "            nn.Conv1d(3, 64, kernel_size = 1),\n",
        "            SelfAttention(1, heads=2),\n",
        "            nn.LayerNorm(1),\n",
        "            SelfAttention(1, heads=2),\n",
        "            nn.LayerNorm(1)\n",
        "        )\n",
        "\n",
        "        self.relu = nn.ReLU(inplace = True)\n",
        "        self.fc1 = nn.Linear(64,50)\n",
        "        self.fc2 = nn.Linear(50,1)     \n",
        "\n",
        "    def forward(self,x):\n",
        "        x = self.layer1(x)\n",
        "        x = self.relu(x)\n",
        "        x = x.view(-1)\n",
        "        x = self.fc1(x)\n",
        "        x = self.relu(x)\n",
        "        x = self.fc2(x)\n",
        "        \n",
        "        return x\n",
        "\n",
        "device = torch.device(\"cuda:0\" if torch.cuda.is_available() else \"cpu\")\n",
        "model5 = Net5().to(device)\n",
        "optimizer = torch.optim.Adam(model5.parameters(), lr=1e-5)\n",
        "criterion = nn.MSELoss()"
      ],
      "execution_count": 27,
      "outputs": []
    },
    {
      "cell_type": "code",
      "metadata": {
        "colab": {
          "base_uri": "https://localhost:8080/"
        },
        "id": "90MjYM7RAeG2",
        "outputId": "b0c64b25-f230-445c-948d-f4147d1267d0"
      },
      "source": [
        "model5, train_loss, valid_loss = train_model(model5, batch_size, n_epochs)\n",
        "results[\"Test \" + str(model5) + \"MSELoss: \"] = predict(model5)"
      ],
      "execution_count": 28,
      "outputs": [
        {
          "output_type": "stream",
          "name": "stdout",
          "text": [
            "[ 1/30] train_loss: 31.76264 valid_loss: 40.64207\n",
            "[ 2/30] train_loss: 31.58943 valid_loss: 40.89077\n",
            "[ 3/30] train_loss: 31.34055 valid_loss: 41.20448\n",
            "[ 4/30] train_loss: 31.05451 valid_loss: 41.56246\n",
            "[ 5/30] train_loss: 30.75751 valid_loss: 41.92857\n",
            "[ 6/30] train_loss: 30.46180 valid_loss: 42.33162\n",
            "[ 7/30] train_loss: 30.14571 valid_loss: 42.78951\n",
            "[ 8/30] train_loss: 29.80050 valid_loss: 43.31602\n",
            "[ 9/30] train_loss: 29.43127 valid_loss: 43.90978\n",
            "[10/30] train_loss: 29.04449 valid_loss: 44.56874\n",
            "[11/30] train_loss: 28.65018 valid_loss: 45.28586\n",
            "[12/30] train_loss: 28.25714 valid_loss: 46.05451\n",
            "[13/30] train_loss: 27.87328 valid_loss: 46.86638\n",
            "[14/30] train_loss: 27.50560 valid_loss: 47.71181\n",
            "[15/30] train_loss: 27.15991 valid_loss: 48.58005\n",
            "[16/30] train_loss: 26.84052 valid_loss: 49.45987\n",
            "[17/30] train_loss: 26.54947 valid_loss: 50.32432\n",
            "[18/30] train_loss: 26.29276 valid_loss: 51.21058\n",
            "[19/30] train_loss: 26.06126 valid_loss: 52.06083\n",
            "[20/30] train_loss: 25.86163 valid_loss: 52.88225\n",
            "[21/30] train_loss: 25.68990 valid_loss: 53.66799\n",
            "[22/30] train_loss: 25.54375 valid_loss: 54.41286\n",
            "[23/30] train_loss: 25.42047 valid_loss: 55.11290\n",
            "[24/30] train_loss: 25.31737 valid_loss: 55.76576\n",
            "[25/30] train_loss: 25.23177 valid_loss: 56.37030\n",
            "[26/30] train_loss: 25.16109 valid_loss: 56.92678\n",
            "[27/30] train_loss: 25.10306 valid_loss: 57.43598\n",
            "[28/30] train_loss: 25.05560 valid_loss: 57.89970\n",
            "[29/30] train_loss: 25.01693 valid_loss: 58.31996\n",
            "[30/30] train_loss: 24.98549 valid_loss: 58.69935\n"
          ]
        }
      ]
    },
    {
      "cell_type": "code",
      "metadata": {
        "id": "PeMy-VHYKUUw"
      },
      "source": [
        "class Net6(nn.Module):\n",
        "    def __init__(self):\n",
        "        super(Net6,self).__init__()\n",
        "        self.layer1 = nn.Sequential(\n",
        "            nn.Conv1d(3, 64, kernel_size = 1),\n",
        "            SelfAttention(1, heads=2),\n",
        "            SelfAttention(1, heads=2)\n",
        "        )\n",
        "\n",
        "        self.relu = nn.ReLU(inplace = True)\n",
        "        self.fc1 = nn.Linear(64,50)\n",
        "        self.fc2 = nn.Linear(50,1)     \n",
        "\n",
        "    def forward(self,x):\n",
        "        x = self.layer1(x)\n",
        "        x = self.relu(x)\n",
        "        x = x.view(-1)\n",
        "        x = self.fc1(x)\n",
        "        x = self.relu(x)\n",
        "        x = self.fc2(x)\n",
        "        \n",
        "        return x\n",
        "\n",
        "device = torch.device(\"cuda:0\" if torch.cuda.is_available() else \"cpu\")\n",
        "model6 = Net6().to(device)\n",
        "optimizer = torch.optim.Adam(model6.parameters(), lr=1e-5)\n",
        "criterion = nn.MSELoss()"
      ],
      "execution_count": 29,
      "outputs": []
    },
    {
      "cell_type": "code",
      "metadata": {
        "colab": {
          "base_uri": "https://localhost:8080/"
        },
        "id": "FWKtFTFiAhAL",
        "outputId": "fbc1fffb-3ceb-4e2b-9620-4ae6e14c03b6"
      },
      "source": [
        "model6, train_loss, valid_loss = train_model(model6, batch_size, n_epochs)\n",
        "results[\"Test \" + str(model6) + \"MSELoss: \"] = predict(model6)"
      ],
      "execution_count": 30,
      "outputs": [
        {
          "output_type": "stream",
          "name": "stdout",
          "text": [
            "[ 1/30] train_loss: 29.73259 valid_loss: 41.98274\n",
            "[ 2/30] train_loss: 28.10916 valid_loss: 42.88148\n",
            "[ 3/30] train_loss: 26.36667 valid_loss: 43.23866\n",
            "[ 4/30] train_loss: 24.63957 valid_loss: 43.00058\n",
            "[ 5/30] train_loss: 22.88098 valid_loss: 42.10539\n",
            "[ 6/30] train_loss: 21.03868 valid_loss: 40.70429\n",
            "[ 7/30] train_loss: 19.10867 valid_loss: 38.95942\n",
            "[ 8/30] train_loss: 17.08244 valid_loss: 36.92016\n",
            "[ 9/30] train_loss: 14.99898 valid_loss: 34.64155\n",
            "[10/30] train_loss: 12.91838 valid_loss: 32.27393\n",
            "[11/30] train_loss: 10.91114 valid_loss: 29.86145\n",
            "[12/30] train_loss: 9.04815 valid_loss: 27.47451\n",
            "[13/30] train_loss: 7.42354 valid_loss: 25.15768\n",
            "[14/30] train_loss: 6.08387 valid_loss: 22.88194\n",
            "[15/30] train_loss: 5.06589 valid_loss: 20.74921\n",
            "[16/30] train_loss: 4.35999 valid_loss: 18.84835\n",
            "[17/30] train_loss: 3.90089 valid_loss: 17.17756\n",
            "[18/30] train_loss: 3.60825 valid_loss: 15.73002\n",
            "[19/30] train_loss: 3.40864 valid_loss: 14.49079\n",
            "[20/30] train_loss: 3.26990 valid_loss: 13.41846\n",
            "[21/30] train_loss: 3.15242 valid_loss: 12.42219\n",
            "[22/30] train_loss: 3.05071 valid_loss: 11.57316\n",
            "[23/30] train_loss: 2.96014 valid_loss: 10.80151\n",
            "[24/30] train_loss: 2.87658 valid_loss: 10.11434\n",
            "[25/30] train_loss: 2.79857 valid_loss: 9.50025\n",
            "[26/30] train_loss: 2.72536 valid_loss: 8.92787\n",
            "[27/30] train_loss: 2.65499 valid_loss: 8.41396\n",
            "[28/30] train_loss: 2.59022 valid_loss: 7.93735\n",
            "[29/30] train_loss: 2.52808 valid_loss: 7.51339\n",
            "[30/30] train_loss: 2.46763 valid_loss: 7.13066\n"
          ]
        }
      ]
    },
    {
      "cell_type": "code",
      "metadata": {
        "id": "NQERqVuyKVHB"
      },
      "source": [
        "class Net7(nn.Module):\n",
        "    def __init__(self):\n",
        "        super(Net7,self).__init__()\n",
        "        self.layer1 = nn.Sequential(\n",
        "            SelfAttention(1, heads=2),\n",
        "            nn.LayerNorm(1),\n",
        "            nn.Conv1d(3, 64, kernel_size = 1),\n",
        "            SelfAttention(1, heads=2),\n",
        "            nn.LayerNorm(1)\n",
        "        )\n",
        "\n",
        "        self.relu = nn.ReLU(inplace = True)\n",
        "        self.fc1 = nn.Linear(64,50)\n",
        "        self.fc2 = nn.Linear(50,1)      \n",
        "\n",
        "    def forward(self,x):\n",
        "        x = self.layer1(x)\n",
        "        x = self.relu(x)\n",
        "        x = x.view(-1)\n",
        "        x = self.fc1(x)\n",
        "        x = self.relu(x)\n",
        "        x = self.fc2(x)\n",
        "        \n",
        "        return x\n",
        "\n",
        "device = torch.device(\"cuda:0\" if torch.cuda.is_available() else \"cpu\")\n",
        "model7 = Net7().to(device)\n",
        "optimizer = torch.optim.Adam(model7.parameters(), lr=1e-5)\n",
        "criterion = nn.MSELoss()"
      ],
      "execution_count": 31,
      "outputs": []
    },
    {
      "cell_type": "code",
      "metadata": {
        "colab": {
          "base_uri": "https://localhost:8080/"
        },
        "id": "TFgSwML9AlW7",
        "outputId": "8ae187aa-8f5b-4489-dc7a-5cded290fb23"
      },
      "source": [
        "model7, train_loss, valid_loss = train_model(model7, batch_size, n_epochs)\n",
        "results[\"Test \" + str(model7) + \"MSELoss: \"] = predict(model7)"
      ],
      "execution_count": 32,
      "outputs": [
        {
          "output_type": "stream",
          "name": "stdout",
          "text": [
            "[ 1/30] train_loss: 30.60919 valid_loss: 41.97938\n",
            "[ 2/30] train_loss: 30.52351 valid_loss: 42.10328\n",
            "[ 3/30] train_loss: 30.42892 valid_loss: 42.22887\n",
            "[ 4/30] train_loss: 30.33382 valid_loss: 42.35658\n",
            "[ 5/30] train_loss: 30.23944 valid_loss: 42.48397\n",
            "[ 6/30] train_loss: 30.14621 valid_loss: 42.61239\n",
            "[ 7/30] train_loss: 30.05351 valid_loss: 42.74301\n",
            "[ 8/30] train_loss: 29.95987 valid_loss: 42.87750\n",
            "[ 9/30] train_loss: 29.86488 valid_loss: 43.01612\n",
            "[10/30] train_loss: 29.76852 valid_loss: 43.15902\n",
            "[11/30] train_loss: 29.67084 valid_loss: 43.30630\n",
            "[12/30] train_loss: 29.57167 valid_loss: 43.45868\n",
            "[13/30] train_loss: 29.47086 valid_loss: 43.61608\n",
            "[14/30] train_loss: 29.36876 valid_loss: 43.77816\n",
            "[15/30] train_loss: 29.26565 valid_loss: 43.94473\n",
            "[16/30] train_loss: 29.16173 valid_loss: 44.11570\n",
            "[17/30] train_loss: 29.05770 valid_loss: 44.28912\n",
            "[18/30] train_loss: 28.95373 valid_loss: 44.46681\n",
            "[19/30] train_loss: 28.84938 valid_loss: 44.64861\n",
            "[20/30] train_loss: 28.74484 valid_loss: 44.83436\n",
            "[21/30] train_loss: 28.64029 valid_loss: 45.02392\n",
            "[22/30] train_loss: 28.53592 valid_loss: 45.21711\n",
            "[23/30] train_loss: 28.43187 valid_loss: 45.41377\n",
            "[24/30] train_loss: 28.32832 valid_loss: 45.61373\n",
            "[25/30] train_loss: 28.22541 valid_loss: 45.81680\n",
            "[26/30] train_loss: 28.12329 valid_loss: 46.02281\n",
            "[27/30] train_loss: 28.02211 valid_loss: 46.23158\n",
            "[28/30] train_loss: 27.92199 valid_loss: 46.44294\n",
            "[29/30] train_loss: 27.82304 valid_loss: 46.65668\n",
            "[30/30] train_loss: 27.72539 valid_loss: 46.87261\n"
          ]
        }
      ]
    },
    {
      "cell_type": "code",
      "metadata": {
        "id": "K2nW0vmn8xkY",
        "colab": {
          "base_uri": "https://localhost:8080/",
          "height": 585
        },
        "outputId": "12f0682d-aba6-4162-aaf1-58775ba35f58"
      },
      "source": [
        "fig = plt.figure(figsize=(10,8))\n",
        "plt.plot(range(1,len(train_loss)+1),train_loss, label='Training Loss')\n",
        "plt.plot(range(1,len(valid_loss)+1),valid_loss,label='Validation Loss')\n",
        "\n",
        "plt.xlabel('epochs')\n",
        "plt.ylabel('loss')\n",
        "plt.xlim(0, len(train_loss)+1)\n",
        "plt.grid(True)\n",
        "plt.legend()\n",
        "plt.tight_layout()\n",
        "plt.show()\n",
        "fig.savefig('loss_plot.png', bbox_inches='tight')"
      ],
      "execution_count": 33,
      "outputs": [
        {
          "output_type": "display_data",
          "data": {
            "image/png": "[encoded data removed]",
            "text/plain": [
              "<Figure size 720x576 with 1 Axes>"
            ]
          },
          "metadata": {
            "needs_background": "light"
          }
        }
      ]
    },
    {
      "cell_type": "code",
      "metadata": {
        "id": "vnf8kerg84zP",
        "colab": {
          "base_uri": "https://localhost:8080/"
        },
        "outputId": "9db2f405-fce1-4a35-94ea-e1349e070fd3"
      },
      "source": [
        "i = 0\n",
        "for batch, (x, y) in enumerate(test_loader, 1):\n",
        "  i = i + 1\n",
        "  print(x[0].numpy())\n",
        "  print(y.numpy())\n",
        "  print(model7(x))\n",
        "  if i > 10:\n",
        "    break\n",
        "  print()"
      ],
      "execution_count": 34,
      "outputs": [
        {
          "output_type": "stream",
          "name": "stdout",
          "text": [
            "[[-8.01]\n",
            " [-6.62]\n",
            " [-4.85]]\n",
            "[-2.24]\n",
            "tensor([-0.8742], grad_fn=<AddBackward0>)\n",
            "\n",
            "[[-6.62]\n",
            " [-4.85]\n",
            " [-2.24]]\n",
            "[0.29]\n",
            "tensor([-0.8742], grad_fn=<AddBackward0>)\n",
            "\n",
            "[[-4.85]\n",
            " [-2.24]\n",
            " [ 0.29]]\n",
            "[0.08]\n",
            "tensor([-0.8742], grad_fn=<AddBackward0>)\n",
            "\n",
            "[[-2.24]\n",
            " [ 0.29]\n",
            " [ 0.08]]\n",
            "[1.]\n",
            "tensor([-0.8742], grad_fn=<AddBackward0>)\n",
            "\n",
            "[[0.29]\n",
            " [0.08]\n",
            " [1.  ]]\n",
            "[1.1]\n",
            "tensor([-0.8742], grad_fn=<AddBackward0>)\n",
            "\n",
            "[[0.08]\n",
            " [1.  ]\n",
            " [1.1 ]]\n",
            "[1.31]\n",
            "tensor([-0.8742], grad_fn=<AddBackward0>)\n",
            "\n",
            "[[1.  ]\n",
            " [1.1 ]\n",
            " [1.31]]\n",
            "[1.24]\n",
            "tensor([-0.8742], grad_fn=<AddBackward0>)\n",
            "\n",
            "[[1.1 ]\n",
            " [1.31]\n",
            " [1.24]]\n",
            "[1.06]\n",
            "tensor([-0.8742], grad_fn=<AddBackward0>)\n",
            "\n",
            "[[1.31]\n",
            " [1.24]\n",
            " [1.06]]\n",
            "[1.66]\n",
            "tensor([-0.8742], grad_fn=<AddBackward0>)\n",
            "\n",
            "[[1.24]\n",
            " [1.06]\n",
            " [1.66]]\n",
            "[1.52]\n",
            "tensor([-0.8742], grad_fn=<AddBackward0>)\n",
            "\n",
            "[[1.06]\n",
            " [1.66]\n",
            " [1.52]]\n",
            "[1.49]\n",
            "tensor([-0.8742], grad_fn=<AddBackward0>)\n"
          ]
        }
      ]
    },
    {
      "cell_type": "code",
      "metadata": {
        "id": "eYALqOfCn8Yi"
      },
      "source": [
        "#nets = [Net1(), Net2(), Net3(), Net4(), Net5(), Net6(), Net7()]\n",
        "\n",
        "#for n in nets:\n",
        "  #model = n.to(device)\n",
        "  #print(model)\n",
        "  #model, train_loss, valid_loss = train_model(model, batch_size, n_epochs)\n",
        "  #results[\"Test \" + str(n) + \"MSELoss: \"] = predict(model)\n"
      ],
      "execution_count": 35,
      "outputs": []
    },
    {
      "cell_type": "code",
      "metadata": {
        "id": "czARonOgDmbO",
        "colab": {
          "base_uri": "https://localhost:8080/"
        },
        "outputId": "c663442e-b90d-414d-bf3e-eae777aa06a8"
      },
      "source": [
        "\n",
        "\n",
        "for x in results:\n",
        "  print(x,':',results[x])"
      ],
      "execution_count": 36,
      "outputs": [
        {
          "output_type": "stream",
          "name": "stdout",
          "text": [
            "Test Net1(\n",
            "  (layer1): Sequential(\n",
            "    (0): SelfAttention(\n",
            "      (tokeys): Linear(in_features=1, out_features=2, bias=False)\n",
            "      (toqueries): Linear(in_features=1, out_features=2, bias=False)\n",
            "      (tovalues): Linear(in_features=1, out_features=2, bias=False)\n",
            "      (unifyheads): Linear(in_features=2, out_features=1, bias=True)\n",
            "    )\n",
            "    (1): Conv1d(3, 64, kernel_size=(1,), stride=(1,))\n",
            "  )\n",
            "  (relu): ReLU(inplace=True)\n",
            "  (fc1): Linear(in_features=64, out_features=50, bias=True)\n",
            "  (fc2): Linear(in_features=50, out_features=1, bias=True)\n",
            ")MSELoss:  : 4.961216407561811\n",
            "Test Net2(\n",
            "  (layer1): Sequential(\n",
            "    (0): SelfAttention(\n",
            "      (tokeys): Linear(in_features=1, out_features=2, bias=False)\n",
            "      (toqueries): Linear(in_features=1, out_features=2, bias=False)\n",
            "      (tovalues): Linear(in_features=1, out_features=2, bias=False)\n",
            "      (unifyheads): Linear(in_features=2, out_features=1, bias=True)\n",
            "    )\n",
            "    (1): Conv1d(3, 64, kernel_size=(1,), stride=(1,))\n",
            "    (2): SelfAttention(\n",
            "      (tokeys): Linear(in_features=1, out_features=2, bias=False)\n",
            "      (toqueries): Linear(in_features=1, out_features=2, bias=False)\n",
            "      (tovalues): Linear(in_features=1, out_features=2, bias=False)\n",
            "      (unifyheads): Linear(in_features=2, out_features=1, bias=True)\n",
            "    )\n",
            "  )\n",
            "  (relu): ReLU(inplace=True)\n",
            "  (fc1): Linear(in_features=64, out_features=50, bias=True)\n",
            "  (fc2): Linear(in_features=50, out_features=1, bias=True)\n",
            ")MSELoss:  : 27.031678588772834\n",
            "Test Net3(\n",
            "  (layer1): Sequential(\n",
            "    (0): Conv1d(3, 64, kernel_size=(1,), stride=(1,))\n",
            "    (1): SelfAttention(\n",
            "      (tokeys): Linear(in_features=1, out_features=2, bias=False)\n",
            "      (toqueries): Linear(in_features=1, out_features=2, bias=False)\n",
            "      (tovalues): Linear(in_features=1, out_features=2, bias=False)\n",
            "      (unifyheads): Linear(in_features=2, out_features=1, bias=True)\n",
            "    )\n",
            "  )\n",
            "  (relu): ReLU(inplace=True)\n",
            "  (fc1): Linear(in_features=64, out_features=50, bias=True)\n",
            "  (fc2): Linear(in_features=50, out_features=1, bias=True)\n",
            ")MSELoss:  : 1.6881438445518337\n",
            "Test Net5(\n",
            "  (layer1): Sequential(\n",
            "    (0): Conv1d(3, 64, kernel_size=(1,), stride=(1,))\n",
            "    (1): SelfAttention(\n",
            "      (tokeys): Linear(in_features=1, out_features=2, bias=False)\n",
            "      (toqueries): Linear(in_features=1, out_features=2, bias=False)\n",
            "      (tovalues): Linear(in_features=1, out_features=2, bias=False)\n",
            "      (unifyheads): Linear(in_features=2, out_features=1, bias=True)\n",
            "    )\n",
            "    (2): LayerNorm((1,), eps=1e-05, elementwise_affine=True)\n",
            "    (3): SelfAttention(\n",
            "      (tokeys): Linear(in_features=1, out_features=2, bias=False)\n",
            "      (toqueries): Linear(in_features=1, out_features=2, bias=False)\n",
            "      (tovalues): Linear(in_features=1, out_features=2, bias=False)\n",
            "      (unifyheads): Linear(in_features=2, out_features=1, bias=True)\n",
            "    )\n",
            "    (4): LayerNorm((1,), eps=1e-05, elementwise_affine=True)\n",
            "  )\n",
            "  (relu): ReLU(inplace=True)\n",
            "  (fc1): Linear(in_features=64, out_features=50, bias=True)\n",
            "  (fc2): Linear(in_features=50, out_features=1, bias=True)\n",
            ")MSELoss:  : 39.13314695039744\n",
            "Test Net6(\n",
            "  (layer1): Sequential(\n",
            "    (0): Conv1d(3, 64, kernel_size=(1,), stride=(1,))\n",
            "    (1): SelfAttention(\n",
            "      (tokeys): Linear(in_features=1, out_features=2, bias=False)\n",
            "      (toqueries): Linear(in_features=1, out_features=2, bias=False)\n",
            "      (tovalues): Linear(in_features=1, out_features=2, bias=False)\n",
            "      (unifyheads): Linear(in_features=2, out_features=1, bias=True)\n",
            "    )\n",
            "    (2): SelfAttention(\n",
            "      (tokeys): Linear(in_features=1, out_features=2, bias=False)\n",
            "      (toqueries): Linear(in_features=1, out_features=2, bias=False)\n",
            "      (tovalues): Linear(in_features=1, out_features=2, bias=False)\n",
            "      (unifyheads): Linear(in_features=2, out_features=1, bias=True)\n",
            "    )\n",
            "  )\n",
            "  (relu): ReLU(inplace=True)\n",
            "  (fc1): Linear(in_features=64, out_features=50, bias=True)\n",
            "  (fc2): Linear(in_features=50, out_features=1, bias=True)\n",
            ")MSELoss:  : 3.807741028622734\n",
            "Test Net7(\n",
            "  (layer1): Sequential(\n",
            "    (0): SelfAttention(\n",
            "      (tokeys): Linear(in_features=1, out_features=2, bias=False)\n",
            "      (toqueries): Linear(in_features=1, out_features=2, bias=False)\n",
            "      (tovalues): Linear(in_features=1, out_features=2, bias=False)\n",
            "      (unifyheads): Linear(in_features=2, out_features=1, bias=True)\n",
            "    )\n",
            "    (1): LayerNorm((1,), eps=1e-05, elementwise_affine=True)\n",
            "    (2): Conv1d(3, 64, kernel_size=(1,), stride=(1,))\n",
            "    (3): SelfAttention(\n",
            "      (tokeys): Linear(in_features=1, out_features=2, bias=False)\n",
            "      (toqueries): Linear(in_features=1, out_features=2, bias=False)\n",
            "      (tovalues): Linear(in_features=1, out_features=2, bias=False)\n",
            "      (unifyheads): Linear(in_features=2, out_features=1, bias=True)\n",
            "    )\n",
            "    (4): LayerNorm((1,), eps=1e-05, elementwise_affine=True)\n",
            "  )\n",
            "  (relu): ReLU(inplace=True)\n",
            "  (fc1): Linear(in_features=64, out_features=50, bias=True)\n",
            "  (fc2): Linear(in_features=50, out_features=1, bias=True)\n",
            ")MSELoss:  : 27.314327739195157\n"
          ]
        }
      ]
    }
  ]
}