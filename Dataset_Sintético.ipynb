{
  "nbformat": 4,
  "nbformat_minor": 0,
  "metadata": {
    "colab": {
      "name": "Dataset Sintético.ipynb",
      "provenance": [],
      "collapsed_sections": [],
      "authorship_tag": "ABX9TyPx9YGz5x+u14MtxSaeDXuj",
      "include_colab_link": true
    },
    "kernelspec": {
      "name": "python3",
      "display_name": "Python 3"
    },
    "language_info": {
      "name": "python"
    }
  },
  "cells": [
    {
      "cell_type": "markdown",
      "metadata": {
        "id": "view-in-github",
        "colab_type": "text"
      },
      "source": [
        "<a href=\"https://colab.research.google.com/github/MLRG-CEFET-RJ/attention-mechanism/blob/main/Dataset_Sint%C3%A9tico.ipynb\" target=\"_parent\"><img src=\"https://colab.research.google.com/assets/colab-badge.svg\" alt=\"Open In Colab\"/></a>"
      ]
    },
    {
      "cell_type": "code",
      "metadata": {
        "id": "iCCE9U72141_"
      },
      "source": [
        "import numpy as np\n",
        "import xarray as xr\n",
        "import pandas as pd\n",
        "import seaborn as sns"
      ],
      "execution_count": null,
      "outputs": []
    },
    {
      "cell_type": "code",
      "metadata": {
        "id": "kBuIn0awFgPQ"
      },
      "source": [
        "np.random.seed(0)\n"
      ],
      "execution_count": null,
      "outputs": []
    },
    {
      "cell_type": "code",
      "metadata": {
        "id": "4JNyJ_TbDh_R"
      },
      "source": [
        "latitude_start, latitude_end = 0, 90\n",
        "longitude_start, longitude_end = 0, 180\n",
        "latitude_grid_size, longitude_grid_size = 45j, 90j\n",
        "# j - garantir que sejam do mesmo tamanho e divide em decimal"
      ],
      "execution_count": null,
      "outputs": []
    },
    {
      "cell_type": "code",
      "metadata": {
        "colab": {
          "base_uri": "https://localhost:8080/"
        },
        "id": "SunS5ZU8JxD4",
        "outputId": "542113fb-1981-4a6a-b29e-d7e7851db85b"
      },
      "source": [
        "latitude, longitude = np.ogrid[latitude_start:latitude_end:latitude_grid_size, longitude_start:longitude_end:longitude_grid_size]\n",
        "latitude.shape, longitude.shape"
      ],
      "execution_count": null,
      "outputs": [
        {
          "output_type": "execute_result",
          "data": {
            "text/plain": [
              "((45, 1), (1, 90))"
            ]
          },
          "metadata": {},
          "execution_count": 105
        }
      ]
    },
    {
      "cell_type": "code",
      "metadata": {
        "colab": {
          "base_uri": "https://localhost:8080/"
        },
        "id": "qDr-2UzaE1I6",
        "outputId": "06fd48a8-707e-4f1a-e731-365d5a1e0288"
      },
      "source": [
        "time = pd.date_range(\"2021-10-01\", periods=10)\n",
        "time.shape"
      ],
      "execution_count": null,
      "outputs": [
        {
          "output_type": "execute_result",
          "data": {
            "text/plain": [
              "(10,)"
            ]
          },
          "metadata": {},
          "execution_count": 106
        }
      ]
    },
    {
      "cell_type": "code",
      "metadata": {
        "colab": {
          "base_uri": "https://localhost:8080/"
        },
        "id": "ikIhulliFUm6",
        "outputId": "4d23c25b-857a-4962-9a08-dcd5195845cd"
      },
      "source": [
        "observation = np.random.randn(time.shape[0], latitude.shape[0], longitude.shape[1])\n",
        "#observation = np.sin(np.random.randn(time.shape[0], latitude.shape[0], longitude.shape[1]))\n",
        "#np.sin(np.array((0., 30., 45., 60., 90.)) * np.pi / 180. )\n",
        "observation.shape"
      ],
      "execution_count": null,
      "outputs": [
        {
          "output_type": "execute_result",
          "data": {
            "text/plain": [
              "(10, 45, 90)"
            ]
          },
          "metadata": {},
          "execution_count": 107
        }
      ]
    },
    {
      "cell_type": "code",
      "metadata": {
        "id": "_5-fjsfMMHwM"
      },
      "source": [
        "#reference_time = pd.Timestamp(\"2021-10-01\")"
      ],
      "execution_count": null,
      "outputs": []
    },
    {
      "cell_type": "code",
      "metadata": {
        "colab": {
          "base_uri": "https://localhost:8080/",
          "height": 885
        },
        "id": "zuhaR3WAFr1J",
        "outputId": "5658be41-a6b1-441e-9468-aa01a4e3d4ea"
      },
      "source": [
        "coords = [time, latitude.flatten(), longitude.flatten()]\n",
        "\n",
        "temperature = xr.DataArray(observation, coords=coords, dims=['time', 'latitute', 'longitude'])\n",
        "temperature\n"
      ],
      "execution_count": null,
      "outputs": [
        {
          "output_type": "execute_result",
          "data": {
            "text/html": [
              "<div><svg style=\"position: absolute; width: 0; height: 0; overflow: hidden\">\n",
              "<defs>\n",
              "<symbol id=\"icon-database\" viewBox=\"0 0 32 32\">\n",
              "<path d=\"M16 0c-8.837 0-16 2.239-16 5v4c0 2.761 7.163 5 16 5s16-2.239 16-5v-4c0-2.761-7.163-5-16-5z\"></path>\n",
              "<path d=\"M16 17c-8.837 0-16-2.239-16-5v6c0 2.761 7.163 5 16 5s16-2.239 16-5v-6c0 2.761-7.163 5-16 5z\"></path>\n",
              "<path d=\"M16 26c-8.837 0-16-2.239-16-5v6c0 2.761 7.163 5 16 5s16-2.239 16-5v-6c0 2.761-7.163 5-16 5z\"></path>\n",
              "</symbol>\n",
              "<symbol id=\"icon-file-text2\" viewBox=\"0 0 32 32\">\n",
              "<path d=\"M28.681 7.159c-0.694-0.947-1.662-2.053-2.724-3.116s-2.169-2.030-3.116-2.724c-1.612-1.182-2.393-1.319-2.841-1.319h-15.5c-1.378 0-2.5 1.121-2.5 2.5v27c0 1.378 1.122 2.5 2.5 2.5h23c1.378 0 2.5-1.122 2.5-2.5v-19.5c0-0.448-0.137-1.23-1.319-2.841zM24.543 5.457c0.959 0.959 1.712 1.825 2.268 2.543h-4.811v-4.811c0.718 0.556 1.584 1.309 2.543 2.268zM28 29.5c0 0.271-0.229 0.5-0.5 0.5h-23c-0.271 0-0.5-0.229-0.5-0.5v-27c0-0.271 0.229-0.5 0.5-0.5 0 0 15.499-0 15.5 0v7c0 0.552 0.448 1 1 1h7v19.5z\"></path>\n",
              "<path d=\"M23 26h-14c-0.552 0-1-0.448-1-1s0.448-1 1-1h14c0.552 0 1 0.448 1 1s-0.448 1-1 1z\"></path>\n",
              "<path d=\"M23 22h-14c-0.552 0-1-0.448-1-1s0.448-1 1-1h14c0.552 0 1 0.448 1 1s-0.448 1-1 1z\"></path>\n",
              "<path d=\"M23 18h-14c-0.552 0-1-0.448-1-1s0.448-1 1-1h14c0.552 0 1 0.448 1 1s-0.448 1-1 1z\"></path>\n",
              "</symbol>\n",
              "</defs>\n",
              "</svg>\n",
              "<style>/* CSS stylesheet for displaying xarray objects in jupyterlab.\n",
              " *\n",
              " */\n",
              "\n",
              ":root {\n",
              "  --xr-font-color0: var(--jp-content-font-color0, rgba(0, 0, 0, 1));\n",
              "  --xr-font-color2: var(--jp-content-font-color2, rgba(0, 0, 0, 0.54));\n",
              "  --xr-font-color3: var(--jp-content-font-color3, rgba(0, 0, 0, 0.38));\n",
              "  --xr-border-color: var(--jp-border-color2, #e0e0e0);\n",
              "  --xr-disabled-color: var(--jp-layout-color3, #bdbdbd);\n",
              "  --xr-background-color: var(--jp-layout-color0, white);\n",
              "  --xr-background-color-row-even: var(--jp-layout-color1, white);\n",
              "  --xr-background-color-row-odd: var(--jp-layout-color2, #eeeeee);\n",
              "}\n",
              "\n",
              "html[theme=dark],\n",
              "body.vscode-dark {\n",
              "  --xr-font-color0: rgba(255, 255, 255, 1);\n",
              "  --xr-font-color2: rgba(255, 255, 255, 0.54);\n",
              "  --xr-font-color3: rgba(255, 255, 255, 0.38);\n",
              "  --xr-border-color: #1F1F1F;\n",
              "  --xr-disabled-color: #515151;\n",
              "  --xr-background-color: #111111;\n",
              "  --xr-background-color-row-even: #111111;\n",
              "  --xr-background-color-row-odd: #313131;\n",
              "}\n",
              "\n",
              ".xr-wrap {\n",
              "  display: block;\n",
              "  min-width: 300px;\n",
              "  max-width: 700px;\n",
              "}\n",
              "\n",
              ".xr-text-repr-fallback {\n",
              "  /* fallback to plain text repr when CSS is not injected (untrusted notebook) */\n",
              "  display: none;\n",
              "}\n",
              "\n",
              ".xr-header {\n",
              "  padding-top: 6px;\n",
              "  padding-bottom: 6px;\n",
              "  margin-bottom: 4px;\n",
              "  border-bottom: solid 1px var(--xr-border-color);\n",
              "}\n",
              "\n",
              ".xr-header > div,\n",
              ".xr-header > ul {\n",
              "  display: inline;\n",
              "  margin-top: 0;\n",
              "  margin-bottom: 0;\n",
              "}\n",
              "\n",
              ".xr-obj-type,\n",
              ".xr-array-name {\n",
              "  margin-left: 2px;\n",
              "  margin-right: 10px;\n",
              "}\n",
              "\n",
              ".xr-obj-type {\n",
              "  color: var(--xr-font-color2);\n",
              "}\n",
              "\n",
              ".xr-sections {\n",
              "  padding-left: 0 !important;\n",
              "  display: grid;\n",
              "  grid-template-columns: 150px auto auto 1fr 20px 20px;\n",
              "}\n",
              "\n",
              ".xr-section-item {\n",
              "  display: contents;\n",
              "}\n",
              "\n",
              ".xr-section-item input {\n",
              "  display: none;\n",
              "}\n",
              "\n",
              ".xr-section-item input + label {\n",
              "  color: var(--xr-disabled-color);\n",
              "}\n",
              "\n",
              ".xr-section-item input:enabled + label {\n",
              "  cursor: pointer;\n",
              "  color: var(--xr-font-color2);\n",
              "}\n",
              "\n",
              ".xr-section-item input:enabled + label:hover {\n",
              "  color: var(--xr-font-color0);\n",
              "}\n",
              "\n",
              ".xr-section-summary {\n",
              "  grid-column: 1;\n",
              "  color: var(--xr-font-color2);\n",
              "  font-weight: 500;\n",
              "}\n",
              "\n",
              ".xr-section-summary > span {\n",
              "  display: inline-block;\n",
              "  padding-left: 0.5em;\n",
              "}\n",
              "\n",
              ".xr-section-summary-in:disabled + label {\n",
              "  color: var(--xr-font-color2);\n",
              "}\n",
              "\n",
              ".xr-section-summary-in + label:before {\n",
              "  display: inline-block;\n",
              "  content: '►';\n",
              "  font-size: 11px;\n",
              "  width: 15px;\n",
              "  text-align: center;\n",
              "}\n",
              "\n",
              ".xr-section-summary-in:disabled + label:before {\n",
              "  color: var(--xr-disabled-color);\n",
              "}\n",
              "\n",
              ".xr-section-summary-in:checked + label:before {\n",
              "  content: '▼';\n",
              "}\n",
              "\n",
              ".xr-section-summary-in:checked + label > span {\n",
              "  display: none;\n",
              "}\n",
              "\n",
              ".xr-section-summary,\n",
              ".xr-section-inline-details {\n",
              "  padding-top: 4px;\n",
              "  padding-bottom: 4px;\n",
              "}\n",
              "\n",
              ".xr-section-inline-details {\n",
              "  grid-column: 2 / -1;\n",
              "}\n",
              "\n",
              ".xr-section-details {\n",
              "  display: none;\n",
              "  grid-column: 1 / -1;\n",
              "  margin-bottom: 5px;\n",
              "}\n",
              "\n",
              ".xr-section-summary-in:checked ~ .xr-section-details {\n",
              "  display: contents;\n",
              "}\n",
              "\n",
              ".xr-array-wrap {\n",
              "  grid-column: 1 / -1;\n",
              "  display: grid;\n",
              "  grid-template-columns: 20px auto;\n",
              "}\n",
              "\n",
              ".xr-array-wrap > label {\n",
              "  grid-column: 1;\n",
              "  vertical-align: top;\n",
              "}\n",
              "\n",
              ".xr-preview {\n",
              "  color: var(--xr-font-color3);\n",
              "}\n",
              "\n",
              ".xr-array-preview,\n",
              ".xr-array-data {\n",
              "  padding: 0 5px !important;\n",
              "  grid-column: 2;\n",
              "}\n",
              "\n",
              ".xr-array-data,\n",
              ".xr-array-in:checked ~ .xr-array-preview {\n",
              "  display: none;\n",
              "}\n",
              "\n",
              ".xr-array-in:checked ~ .xr-array-data,\n",
              ".xr-array-preview {\n",
              "  display: inline-block;\n",
              "}\n",
              "\n",
              ".xr-dim-list {\n",
              "  display: inline-block !important;\n",
              "  list-style: none;\n",
              "  padding: 0 !important;\n",
              "  margin: 0;\n",
              "}\n",
              "\n",
              ".xr-dim-list li {\n",
              "  display: inline-block;\n",
              "  padding: 0;\n",
              "  margin: 0;\n",
              "}\n",
              "\n",
              ".xr-dim-list:before {\n",
              "  content: '(';\n",
              "}\n",
              "\n",
              ".xr-dim-list:after {\n",
              "  content: ')';\n",
              "}\n",
              "\n",
              ".xr-dim-list li:not(:last-child):after {\n",
              "  content: ',';\n",
              "  padding-right: 5px;\n",
              "}\n",
              "\n",
              ".xr-has-index {\n",
              "  font-weight: bold;\n",
              "}\n",
              "\n",
              ".xr-var-list,\n",
              ".xr-var-item {\n",
              "  display: contents;\n",
              "}\n",
              "\n",
              ".xr-var-item > div,\n",
              ".xr-var-item label,\n",
              ".xr-var-item > .xr-var-name span {\n",
              "  background-color: var(--xr-background-color-row-even);\n",
              "  margin-bottom: 0;\n",
              "}\n",
              "\n",
              ".xr-var-item > .xr-var-name:hover span {\n",
              "  padding-right: 5px;\n",
              "}\n",
              "\n",
              ".xr-var-list > li:nth-child(odd) > div,\n",
              ".xr-var-list > li:nth-child(odd) > label,\n",
              ".xr-var-list > li:nth-child(odd) > .xr-var-name span {\n",
              "  background-color: var(--xr-background-color-row-odd);\n",
              "}\n",
              "\n",
              ".xr-var-name {\n",
              "  grid-column: 1;\n",
              "}\n",
              "\n",
              ".xr-var-dims {\n",
              "  grid-column: 2;\n",
              "}\n",
              "\n",
              ".xr-var-dtype {\n",
              "  grid-column: 3;\n",
              "  text-align: right;\n",
              "  color: var(--xr-font-color2);\n",
              "}\n",
              "\n",
              ".xr-var-preview {\n",
              "  grid-column: 4;\n",
              "}\n",
              "\n",
              ".xr-var-name,\n",
              ".xr-var-dims,\n",
              ".xr-var-dtype,\n",
              ".xr-preview,\n",
              ".xr-attrs dt {\n",
              "  white-space: nowrap;\n",
              "  overflow: hidden;\n",
              "  text-overflow: ellipsis;\n",
              "  padding-right: 10px;\n",
              "}\n",
              "\n",
              ".xr-var-name:hover,\n",
              ".xr-var-dims:hover,\n",
              ".xr-var-dtype:hover,\n",
              ".xr-attrs dt:hover {\n",
              "  overflow: visible;\n",
              "  width: auto;\n",
              "  z-index: 1;\n",
              "}\n",
              "\n",
              ".xr-var-attrs,\n",
              ".xr-var-data {\n",
              "  display: none;\n",
              "  background-color: var(--xr-background-color) !important;\n",
              "  padding-bottom: 5px !important;\n",
              "}\n",
              "\n",
              ".xr-var-attrs-in:checked ~ .xr-var-attrs,\n",
              ".xr-var-data-in:checked ~ .xr-var-data {\n",
              "  display: block;\n",
              "}\n",
              "\n",
              ".xr-var-data > table {\n",
              "  float: right;\n",
              "}\n",
              "\n",
              ".xr-var-name span,\n",
              ".xr-var-data,\n",
              ".xr-attrs {\n",
              "  padding-left: 25px !important;\n",
              "}\n",
              "\n",
              ".xr-attrs,\n",
              ".xr-var-attrs,\n",
              ".xr-var-data {\n",
              "  grid-column: 1 / -1;\n",
              "}\n",
              "\n",
              "dl.xr-attrs {\n",
              "  padding: 0;\n",
              "  margin: 0;\n",
              "  display: grid;\n",
              "  grid-template-columns: 125px auto;\n",
              "}\n",
              "\n",
              ".xr-attrs dt,\n",
              ".xr-attrs dd {\n",
              "  padding: 0;\n",
              "  margin: 0;\n",
              "  float: left;\n",
              "  padding-right: 10px;\n",
              "  width: auto;\n",
              "}\n",
              "\n",
              ".xr-attrs dt {\n",
              "  font-weight: normal;\n",
              "  grid-column: 1;\n",
              "}\n",
              "\n",
              ".xr-attrs dt:hover span {\n",
              "  display: inline-block;\n",
              "  background: var(--xr-background-color);\n",
              "  padding-right: 10px;\n",
              "}\n",
              "\n",
              ".xr-attrs dd {\n",
              "  grid-column: 2;\n",
              "  white-space: pre-wrap;\n",
              "  word-break: break-all;\n",
              "}\n",
              "\n",
              ".xr-icon-database,\n",
              ".xr-icon-file-text2 {\n",
              "  display: inline-block;\n",
              "  vertical-align: middle;\n",
              "  width: 1em;\n",
              "  height: 1.5em !important;\n",
              "  stroke-width: 0;\n",
              "  stroke: currentColor;\n",
              "  fill: currentColor;\n",
              "}\n",
              "</style><pre class='xr-text-repr-fallback'>&lt;xarray.DataArray (time: 10, latitute: 45, longitude: 90)&gt;\n",
              "array([[[ 1.76405235,  0.40015721,  0.97873798, ..., -0.17992484,\n",
              "         -1.07075262,  1.05445173],\n",
              "        [-0.40317695,  1.22244507,  0.20827498, ..., -0.68954978,\n",
              "         -0.4555325 ,  0.01747916],\n",
              "        [-0.35399391, -1.37495129, -0.6436184 , ...,  0.08842209,\n",
              "         -0.31088617,  0.09740017],\n",
              "        ...,\n",
              "        [ 0.7324853 ,  1.90705584, -1.3228117 , ..., -1.37701857,\n",
              "          2.01124319, -0.23550331],\n",
              "        [ 0.69178453,  0.56438821, -0.97134232, ..., -0.57498784,\n",
              "          0.75048254, -0.76440203],\n",
              "        [-0.96712707, -1.01054621,  0.40665725, ...,  1.19341459,\n",
              "          0.52738853,  1.00670392]],\n",
              "\n",
              "       [[-1.73232733, -0.37341216, -0.1425104 , ..., -0.16047671,\n",
              "         -1.90607465, -1.20662162],\n",
              "        [ 0.73041833,  0.49489279, -0.00320888, ..., -0.09252812,\n",
              "          1.18210209, -1.57065459],\n",
              "        [ 0.85933076,  0.28364699, -0.96911227, ..., -0.56084138,\n",
              "         -1.21630406, -0.10978163],\n",
              "...\n",
              "        [ 1.16867544,  1.29202377,  1.43964832, ...,  1.09325072,\n",
              "          0.99993338,  0.94481901],\n",
              "        [-1.10569065,  1.23921176,  0.05913064, ..., -0.07534923,\n",
              "          0.31635102,  2.26306239],\n",
              "        [-1.59130924, -1.30979408, -0.85210663, ..., -1.62592105,\n",
              "         -0.04515274,  0.22300399]],\n",
              "\n",
              "       [[-0.74188596, -0.4045087 , -0.11362296, ...,  1.69187993,\n",
              "          0.31526356, -1.06078049],\n",
              "        [ 0.66096381,  0.33411111, -1.04158336, ..., -0.88023977,\n",
              "          1.07342503, -0.22962468],\n",
              "        [-1.14768991,  0.07536005, -0.12528108, ..., -0.12756013,\n",
              "         -1.29582143,  0.44694858],\n",
              "        ...,\n",
              "        [-1.57129477,  0.50128574,  0.5056712 , ..., -1.73138936,\n",
              "          1.24578165, -0.75325422],\n",
              "        [ 1.56285497, -1.82723136,  1.14600473, ..., -1.21027512,\n",
              "          2.58605788, -0.90849974],\n",
              "        [-0.98381307, -0.40327303,  0.43765746, ..., -1.7356321 ,\n",
              "          0.2538642 ,  1.08515928]]])\n",
              "Coordinates:\n",
              "  * time       (time) datetime64[ns] 2021-10-01 2021-10-02 ... 2021-10-10\n",
              "  * latitute   (latitute) float64 0.0 2.045 4.091 6.136 ... 85.91 87.95 90.0\n",
              "  * longitude  (longitude) float64 0.0 2.022 4.045 6.067 ... 176.0 178.0 180.0</pre><div class='xr-wrap' hidden><div class='xr-header'><div class='xr-obj-type'>xarray.DataArray</div><div class='xr-array-name'></div><ul class='xr-dim-list'><li><span class='xr-has-index'>time</span>: 10</li><li><span class='xr-has-index'>latitute</span>: 45</li><li><span class='xr-has-index'>longitude</span>: 90</li></ul></div><ul class='xr-sections'><li class='xr-section-item'><div class='xr-array-wrap'><input id='section-1c1cfe71-f4e4-4b9a-a0f2-55b579dfe818' class='xr-array-in' type='checkbox' checked><label for='section-1c1cfe71-f4e4-4b9a-a0f2-55b579dfe818' title='Show/hide data repr'><svg class='icon xr-icon-database'><use xlink:href='#icon-database'></use></svg></label><div class='xr-array-preview xr-preview'><span>1.764 0.4002 0.9787 2.241 1.868 ... -0.6623 -1.736 0.2539 1.085</span></div><div class='xr-array-data'><pre>array([[[ 1.76405235,  0.40015721,  0.97873798, ..., -0.17992484,\n",
              "         -1.07075262,  1.05445173],\n",
              "        [-0.40317695,  1.22244507,  0.20827498, ..., -0.68954978,\n",
              "         -0.4555325 ,  0.01747916],\n",
              "        [-0.35399391, -1.37495129, -0.6436184 , ...,  0.08842209,\n",
              "         -0.31088617,  0.09740017],\n",
              "        ...,\n",
              "        [ 0.7324853 ,  1.90705584, -1.3228117 , ..., -1.37701857,\n",
              "          2.01124319, -0.23550331],\n",
              "        [ 0.69178453,  0.56438821, -0.97134232, ..., -0.57498784,\n",
              "          0.75048254, -0.76440203],\n",
              "        [-0.96712707, -1.01054621,  0.40665725, ...,  1.19341459,\n",
              "          0.52738853,  1.00670392]],\n",
              "\n",
              "       [[-1.73232733, -0.37341216, -0.1425104 , ..., -0.16047671,\n",
              "         -1.90607465, -1.20662162],\n",
              "        [ 0.73041833,  0.49489279, -0.00320888, ..., -0.09252812,\n",
              "          1.18210209, -1.57065459],\n",
              "        [ 0.85933076,  0.28364699, -0.96911227, ..., -0.56084138,\n",
              "         -1.21630406, -0.10978163],\n",
              "...\n",
              "        [ 1.16867544,  1.29202377,  1.43964832, ...,  1.09325072,\n",
              "          0.99993338,  0.94481901],\n",
              "        [-1.10569065,  1.23921176,  0.05913064, ..., -0.07534923,\n",
              "          0.31635102,  2.26306239],\n",
              "        [-1.59130924, -1.30979408, -0.85210663, ..., -1.62592105,\n",
              "         -0.04515274,  0.22300399]],\n",
              "\n",
              "       [[-0.74188596, -0.4045087 , -0.11362296, ...,  1.69187993,\n",
              "          0.31526356, -1.06078049],\n",
              "        [ 0.66096381,  0.33411111, -1.04158336, ..., -0.88023977,\n",
              "          1.07342503, -0.22962468],\n",
              "        [-1.14768991,  0.07536005, -0.12528108, ..., -0.12756013,\n",
              "         -1.29582143,  0.44694858],\n",
              "        ...,\n",
              "        [-1.57129477,  0.50128574,  0.5056712 , ..., -1.73138936,\n",
              "          1.24578165, -0.75325422],\n",
              "        [ 1.56285497, -1.82723136,  1.14600473, ..., -1.21027512,\n",
              "          2.58605788, -0.90849974],\n",
              "        [-0.98381307, -0.40327303,  0.43765746, ..., -1.7356321 ,\n",
              "          0.2538642 ,  1.08515928]]])</pre></div></div></li><li class='xr-section-item'><input id='section-fb862f95-6103-4e02-b474-a3967a6c923a' class='xr-section-summary-in' type='checkbox'  checked><label for='section-fb862f95-6103-4e02-b474-a3967a6c923a' class='xr-section-summary' >Coordinates: <span>(3)</span></label><div class='xr-section-inline-details'></div><div class='xr-section-details'><ul class='xr-var-list'><li class='xr-var-item'><div class='xr-var-name'><span class='xr-has-index'>time</span></div><div class='xr-var-dims'>(time)</div><div class='xr-var-dtype'>datetime64[ns]</div><div class='xr-var-preview xr-preview'>2021-10-01 ... 2021-10-10</div><input id='attrs-2f8be151-cdc3-4cd9-9fd2-d421435adab4' class='xr-var-attrs-in' type='checkbox' disabled><label for='attrs-2f8be151-cdc3-4cd9-9fd2-d421435adab4' title='Show/Hide attributes'><svg class='icon xr-icon-file-text2'><use xlink:href='#icon-file-text2'></use></svg></label><input id='data-c9694e3f-bd15-4874-b3c4-6dbf085b2efc' class='xr-var-data-in' type='checkbox'><label for='data-c9694e3f-bd15-4874-b3c4-6dbf085b2efc' title='Show/Hide data repr'><svg class='icon xr-icon-database'><use xlink:href='#icon-database'></use></svg></label><div class='xr-var-attrs'><dl class='xr-attrs'></dl></div><div class='xr-var-data'><pre>array([&#x27;2021-10-01T00:00:00.000000000&#x27;, &#x27;2021-10-02T00:00:00.000000000&#x27;,\n",
              "       &#x27;2021-10-03T00:00:00.000000000&#x27;, &#x27;2021-10-04T00:00:00.000000000&#x27;,\n",
              "       &#x27;2021-10-05T00:00:00.000000000&#x27;, &#x27;2021-10-06T00:00:00.000000000&#x27;,\n",
              "       &#x27;2021-10-07T00:00:00.000000000&#x27;, &#x27;2021-10-08T00:00:00.000000000&#x27;,\n",
              "       &#x27;2021-10-09T00:00:00.000000000&#x27;, &#x27;2021-10-10T00:00:00.000000000&#x27;],\n",
              "      dtype=&#x27;datetime64[ns]&#x27;)</pre></div></li><li class='xr-var-item'><div class='xr-var-name'><span class='xr-has-index'>latitute</span></div><div class='xr-var-dims'>(latitute)</div><div class='xr-var-dtype'>float64</div><div class='xr-var-preview xr-preview'>0.0 2.045 4.091 ... 87.95 90.0</div><input id='attrs-fb14c70c-f4aa-4821-8a99-8b885b1742cb' class='xr-var-attrs-in' type='checkbox' disabled><label for='attrs-fb14c70c-f4aa-4821-8a99-8b885b1742cb' title='Show/Hide attributes'><svg class='icon xr-icon-file-text2'><use xlink:href='#icon-file-text2'></use></svg></label><input id='data-eb176597-ddcc-4f90-87ae-9cc2447fab7f' class='xr-var-data-in' type='checkbox'><label for='data-eb176597-ddcc-4f90-87ae-9cc2447fab7f' title='Show/Hide data repr'><svg class='icon xr-icon-database'><use xlink:href='#icon-database'></use></svg></label><div class='xr-var-attrs'><dl class='xr-attrs'></dl></div><div class='xr-var-data'><pre>array([ 0.      ,  2.045455,  4.090909,  6.136364,  8.181818, 10.227273,\n",
              "       12.272727, 14.318182, 16.363636, 18.409091, 20.454545, 22.5     ,\n",
              "       24.545455, 26.590909, 28.636364, 30.681818, 32.727273, 34.772727,\n",
              "       36.818182, 38.863636, 40.909091, 42.954545, 45.      , 47.045455,\n",
              "       49.090909, 51.136364, 53.181818, 55.227273, 57.272727, 59.318182,\n",
              "       61.363636, 63.409091, 65.454545, 67.5     , 69.545455, 71.590909,\n",
              "       73.636364, 75.681818, 77.727273, 79.772727, 81.818182, 83.863636,\n",
              "       85.909091, 87.954545, 90.      ])</pre></div></li><li class='xr-var-item'><div class='xr-var-name'><span class='xr-has-index'>longitude</span></div><div class='xr-var-dims'>(longitude)</div><div class='xr-var-dtype'>float64</div><div class='xr-var-preview xr-preview'>0.0 2.022 4.045 ... 178.0 180.0</div><input id='attrs-064b38f0-255b-4578-9cfd-ec55dd391b3d' class='xr-var-attrs-in' type='checkbox' disabled><label for='attrs-064b38f0-255b-4578-9cfd-ec55dd391b3d' title='Show/Hide attributes'><svg class='icon xr-icon-file-text2'><use xlink:href='#icon-file-text2'></use></svg></label><input id='data-5f081f5f-7e46-46a5-a944-c729fce088cb' class='xr-var-data-in' type='checkbox'><label for='data-5f081f5f-7e46-46a5-a944-c729fce088cb' title='Show/Hide data repr'><svg class='icon xr-icon-database'><use xlink:href='#icon-database'></use></svg></label><div class='xr-var-attrs'><dl class='xr-attrs'></dl></div><div class='xr-var-data'><pre>array([  0.      ,   2.022472,   4.044944,   6.067416,   8.089888,  10.11236 ,\n",
              "        12.134831,  14.157303,  16.179775,  18.202247,  20.224719,  22.247191,\n",
              "        24.269663,  26.292135,  28.314607,  30.337079,  32.359551,  34.382022,\n",
              "        36.404494,  38.426966,  40.449438,  42.47191 ,  44.494382,  46.516854,\n",
              "        48.539326,  50.561798,  52.58427 ,  54.606742,  56.629213,  58.651685,\n",
              "        60.674157,  62.696629,  64.719101,  66.741573,  68.764045,  70.786517,\n",
              "        72.808989,  74.831461,  76.853933,  78.876404,  80.898876,  82.921348,\n",
              "        84.94382 ,  86.966292,  88.988764,  91.011236,  93.033708,  95.05618 ,\n",
              "        97.078652,  99.101124, 101.123596, 103.146067, 105.168539, 107.191011,\n",
              "       109.213483, 111.235955, 113.258427, 115.280899, 117.303371, 119.325843,\n",
              "       121.348315, 123.370787, 125.393258, 127.41573 , 129.438202, 131.460674,\n",
              "       133.483146, 135.505618, 137.52809 , 139.550562, 141.573034, 143.595506,\n",
              "       145.617978, 147.640449, 149.662921, 151.685393, 153.707865, 155.730337,\n",
              "       157.752809, 159.775281, 161.797753, 163.820225, 165.842697, 167.865169,\n",
              "       169.88764 , 171.910112, 173.932584, 175.955056, 177.977528, 180.      ])</pre></div></li></ul></div></li><li class='xr-section-item'><input id='section-99307808-d589-4c80-8d6e-21dd91d2678a' class='xr-section-summary-in' type='checkbox' disabled ><label for='section-99307808-d589-4c80-8d6e-21dd91d2678a' class='xr-section-summary'  title='Expand/collapse section'>Attributes: <span>(0)</span></label><div class='xr-section-inline-details'></div><div class='xr-section-details'><dl class='xr-attrs'></dl></div></li></ul></div></div>"
            ],
            "text/plain": [
              "<xarray.DataArray (time: 10, latitute: 45, longitude: 90)>\n",
              "array([[[ 1.76405235,  0.40015721,  0.97873798, ..., -0.17992484,\n",
              "         -1.07075262,  1.05445173],\n",
              "        [-0.40317695,  1.22244507,  0.20827498, ..., -0.68954978,\n",
              "         -0.4555325 ,  0.01747916],\n",
              "        [-0.35399391, -1.37495129, -0.6436184 , ...,  0.08842209,\n",
              "         -0.31088617,  0.09740017],\n",
              "        ...,\n",
              "        [ 0.7324853 ,  1.90705584, -1.3228117 , ..., -1.37701857,\n",
              "          2.01124319, -0.23550331],\n",
              "        [ 0.69178453,  0.56438821, -0.97134232, ..., -0.57498784,\n",
              "          0.75048254, -0.76440203],\n",
              "        [-0.96712707, -1.01054621,  0.40665725, ...,  1.19341459,\n",
              "          0.52738853,  1.00670392]],\n",
              "\n",
              "       [[-1.73232733, -0.37341216, -0.1425104 , ..., -0.16047671,\n",
              "         -1.90607465, -1.20662162],\n",
              "        [ 0.73041833,  0.49489279, -0.00320888, ..., -0.09252812,\n",
              "          1.18210209, -1.57065459],\n",
              "        [ 0.85933076,  0.28364699, -0.96911227, ..., -0.56084138,\n",
              "         -1.21630406, -0.10978163],\n",
              "...\n",
              "        [ 1.16867544,  1.29202377,  1.43964832, ...,  1.09325072,\n",
              "          0.99993338,  0.94481901],\n",
              "        [-1.10569065,  1.23921176,  0.05913064, ..., -0.07534923,\n",
              "          0.31635102,  2.26306239],\n",
              "        [-1.59130924, -1.30979408, -0.85210663, ..., -1.62592105,\n",
              "         -0.04515274,  0.22300399]],\n",
              "\n",
              "       [[-0.74188596, -0.4045087 , -0.11362296, ...,  1.69187993,\n",
              "          0.31526356, -1.06078049],\n",
              "        [ 0.66096381,  0.33411111, -1.04158336, ..., -0.88023977,\n",
              "          1.07342503, -0.22962468],\n",
              "        [-1.14768991,  0.07536005, -0.12528108, ..., -0.12756013,\n",
              "         -1.29582143,  0.44694858],\n",
              "        ...,\n",
              "        [-1.57129477,  0.50128574,  0.5056712 , ..., -1.73138936,\n",
              "          1.24578165, -0.75325422],\n",
              "        [ 1.56285497, -1.82723136,  1.14600473, ..., -1.21027512,\n",
              "          2.58605788, -0.90849974],\n",
              "        [-0.98381307, -0.40327303,  0.43765746, ..., -1.7356321 ,\n",
              "          0.2538642 ,  1.08515928]]])\n",
              "Coordinates:\n",
              "  * time       (time) datetime64[ns] 2021-10-01 2021-10-02 ... 2021-10-10\n",
              "  * latitute   (latitute) float64 0.0 2.045 4.091 6.136 ... 85.91 87.95 90.0\n",
              "  * longitude  (longitude) float64 0.0 2.022 4.045 6.067 ... 176.0 178.0 180.0"
            ]
          },
          "metadata": {},
          "execution_count": 109
        }
      ]
    },
    {
      "cell_type": "code",
      "metadata": {
        "colab": {
          "base_uri": "https://localhost:8080/"
        },
        "id": "TLQQ_ZwZDzqL",
        "outputId": "3ddf58a5-499f-4507-a6c6-3a23a5dcdea4"
      },
      "source": [
        "samples = 10\n",
        "variables = 3\n",
        "#new_observation = np.random.randn(samples, time.shape[0], latitude.shape[0], longitude.shape[1])\n",
        "new_observation = np.random.randn(samples, variables, time.shape[0], latitude.shape[0], longitude.shape[1])\n",
        "#substituir somente a primeira dimensao com os valores do seno\n",
        "#loop\n",
        "#new_observation = np.sin(np.random.randn(samples, variables, time.shape[0], latitude.shape[0], longitude.shape[1]))\n",
        "new_observation.shape"
      ],
      "execution_count": null,
      "outputs": [
        {
          "output_type": "execute_result",
          "data": {
            "text/plain": [
              "(10, 3, 10, 45, 90)"
            ]
          },
          "metadata": {},
          "execution_count": 142
        }
      ]
    },
    {
      "cell_type": "code",
      "metadata": {
        "id": "op4vZ1_1ZKyL"
      },
      "source": [
        "new_observation"
      ],
      "execution_count": null,
      "outputs": []
    },
    {
      "cell_type": "code",
      "metadata": {
        "id": "CTgJzWunXbJD"
      },
      "source": [
        "#for x in new_observation:\n",
        "new_observation[:,0,0,0,0] = np.sin(np.linspace(-np.pi, np.pi, 10))\n",
        "\n",
        "new_observation"
      ],
      "execution_count": null,
      "outputs": []
    },
    {
      "cell_type": "code",
      "metadata": {
        "id": "4u8yLlC6qu5Y"
      },
      "source": [
        "for i in range (0,45):\n",
        "  for j in range (0,90): ##adicionar mais dois for para sample e variável\n",
        "    new_observation[0,0,:,i,j] = np.sin(np.linspace(-np.pi, np.pi, 10))\n",
        "\n",
        "new_observation"
      ],
      "execution_count": null,
      "outputs": []
    },
    {
      "cell_type": "code",
      "metadata": {
        "id": "XEdLIQpze3uB"
      },
      "source": [
        "#senoide\n",
        "for x, value in enumerate(new_observation[:,0,0,0,0]):\n",
        "  for y, value in enumerate(new_observation[0,:,0,0,0]):\n",
        "    for z, value in enumerate(new_observation[0,0,0,:,0]):\n",
        "      for k, value in enumerate(new_observation[0,0,0,0,:]):\n",
        "        new_observation[x,1,:,z,k] = np.sin(np.linspace(-np.pi, np.pi, 10))\n",
        "\n",
        "new_observation"
      ],
      "execution_count": null,
      "outputs": []
    },
    {
      "cell_type": "code",
      "metadata": {
        "id": "j4N88SjVDFGV"
      },
      "source": [
        "#cossenoide\n",
        "for x, value in enumerate(new_observation[:,0,0,0,0]):\n",
        "  for y, value in enumerate(new_observation[0,:,0,0,0]):\n",
        "    for z, value in enumerate(new_observation[0,0,0,:,0]):\n",
        "      for k, value in enumerate(new_observation[0,0,0,0,:]):\n",
        "        new_observation[x,2,:,z,k] = np.cos(np.linspace(-np.pi, np.pi, 10))\n",
        "\n",
        "new_observation"
      ],
      "execution_count": null,
      "outputs": []
    },
    {
      "cell_type": "code",
      "metadata": {
        "colab": {
          "base_uri": "https://localhost:8080/"
        },
        "id": "b9i2AMttXXcl",
        "outputId": "da0340a2-288e-4adf-a015-00be8dcf1293"
      },
      "source": [
        "x = np.linspace(-np.pi, np.pi, 19)\n",
        "f = np.sin(x)\n",
        "f"
      ],
      "execution_count": null,
      "outputs": [
        {
          "output_type": "execute_result",
          "data": {
            "text/plain": [
              "array([-1.22464680e-16, -3.42020143e-01, -6.42787610e-01, -8.66025404e-01,\n",
              "       -9.84807753e-01, -9.84807753e-01, -8.66025404e-01, -6.42787610e-01,\n",
              "       -3.42020143e-01,  0.00000000e+00,  3.42020143e-01,  6.42787610e-01,\n",
              "        8.66025404e-01,  9.84807753e-01,  9.84807753e-01,  8.66025404e-01,\n",
              "        6.42787610e-01,  3.42020143e-01,  1.22464680e-16])"
            ]
          },
          "metadata": {},
          "execution_count": 116
        }
      ]
    },
    {
      "cell_type": "code",
      "metadata": {
        "colab": {
          "base_uri": "https://localhost:8080/"
        },
        "id": "KJSfIGOmmKsz",
        "outputId": "82e663cc-f81f-456f-8b74-239426f25b8a"
      },
      "source": [
        "a_3d_array = np.array([[[1, 2], [3, 4]], [[5, 6], [7, 8]]])\n",
        "a_3d_array\n"
      ],
      "execution_count": null,
      "outputs": [
        {
          "output_type": "execute_result",
          "data": {
            "text/plain": [
              "array([[[1, 2],\n",
              "        [3, 4]],\n",
              "\n",
              "       [[5, 6],\n",
              "        [7, 8]]])"
            ]
          },
          "metadata": {},
          "execution_count": 117
        }
      ]
    },
    {
      "cell_type": "code",
      "metadata": {
        "colab": {
          "base_uri": "https://localhost:8080/"
        },
        "id": "FgdCllv4oPSJ",
        "outputId": "34ca6bd5-79f0-47da-9761-f8a75de8c7b7"
      },
      "source": [
        "#fazer o for para as outras dimensões (para seno e cosseno)\n",
        "a_3d_array[0,:,0] = np.array([155,777])\n",
        "a_3d_array"
      ],
      "execution_count": null,
      "outputs": [
        {
          "output_type": "execute_result",
          "data": {
            "text/plain": [
              "array([[[155,   2],\n",
              "        [777,   4]],\n",
              "\n",
              "       [[  5,   6],\n",
              "        [  7,   8]]])"
            ]
          },
          "metadata": {},
          "execution_count": 118
        }
      ]
    },
    {
      "cell_type": "code",
      "metadata": {
        "id": "JSIvYocemC4Z"
      },
      "source": [
        "##A[:,0,0] = B"
      ],
      "execution_count": null,
      "outputs": []
    },
    {
      "cell_type": "code",
      "metadata": {
        "colab": {
          "base_uri": "https://localhost:8080/",
          "height": 885
        },
        "id": "tpiN8WlKEUTs",
        "outputId": "629680b3-f4ba-4a7f-dd0f-0414b8f089e2"
      },
      "source": [
        "coords = {\n",
        "    'time': time,\n",
        "    'latitude': latitude.flatten(),\n",
        "    'longitude': longitude.flatten()\n",
        "}\n",
        "new_observation2 = xr.DataArray(new_observation, coords=coords, dims=['samples', 'variables', 'time','latitude', 'longitude'])\n",
        "new_observation2"
      ],
      "execution_count": null,
      "outputs": [
        {
          "output_type": "execute_result",
          "data": {
            "text/html": [
              "<div><svg style=\"position: absolute; width: 0; height: 0; overflow: hidden\">\n",
              "<defs>\n",
              "<symbol id=\"icon-database\" viewBox=\"0 0 32 32\">\n",
              "<path d=\"M16 0c-8.837 0-16 2.239-16 5v4c0 2.761 7.163 5 16 5s16-2.239 16-5v-4c0-2.761-7.163-5-16-5z\"></path>\n",
              "<path d=\"M16 17c-8.837 0-16-2.239-16-5v6c0 2.761 7.163 5 16 5s16-2.239 16-5v-6c0 2.761-7.163 5-16 5z\"></path>\n",
              "<path d=\"M16 26c-8.837 0-16-2.239-16-5v6c0 2.761 7.163 5 16 5s16-2.239 16-5v-6c0 2.761-7.163 5-16 5z\"></path>\n",
              "</symbol>\n",
              "<symbol id=\"icon-file-text2\" viewBox=\"0 0 32 32\">\n",
              "<path d=\"M28.681 7.159c-0.694-0.947-1.662-2.053-2.724-3.116s-2.169-2.030-3.116-2.724c-1.612-1.182-2.393-1.319-2.841-1.319h-15.5c-1.378 0-2.5 1.121-2.5 2.5v27c0 1.378 1.122 2.5 2.5 2.5h23c1.378 0 2.5-1.122 2.5-2.5v-19.5c0-0.448-0.137-1.23-1.319-2.841zM24.543 5.457c0.959 0.959 1.712 1.825 2.268 2.543h-4.811v-4.811c0.718 0.556 1.584 1.309 2.543 2.268zM28 29.5c0 0.271-0.229 0.5-0.5 0.5h-23c-0.271 0-0.5-0.229-0.5-0.5v-27c0-0.271 0.229-0.5 0.5-0.5 0 0 15.499-0 15.5 0v7c0 0.552 0.448 1 1 1h7v19.5z\"></path>\n",
              "<path d=\"M23 26h-14c-0.552 0-1-0.448-1-1s0.448-1 1-1h14c0.552 0 1 0.448 1 1s-0.448 1-1 1z\"></path>\n",
              "<path d=\"M23 22h-14c-0.552 0-1-0.448-1-1s0.448-1 1-1h14c0.552 0 1 0.448 1 1s-0.448 1-1 1z\"></path>\n",
              "<path d=\"M23 18h-14c-0.552 0-1-0.448-1-1s0.448-1 1-1h14c0.552 0 1 0.448 1 1s-0.448 1-1 1z\"></path>\n",
              "</symbol>\n",
              "</defs>\n",
              "</svg>\n",
              "<style>/* CSS stylesheet for displaying xarray objects in jupyterlab.\n",
              " *\n",
              " */\n",
              "\n",
              ":root {\n",
              "  --xr-font-color0: var(--jp-content-font-color0, rgba(0, 0, 0, 1));\n",
              "  --xr-font-color2: var(--jp-content-font-color2, rgba(0, 0, 0, 0.54));\n",
              "  --xr-font-color3: var(--jp-content-font-color3, rgba(0, 0, 0, 0.38));\n",
              "  --xr-border-color: var(--jp-border-color2, #e0e0e0);\n",
              "  --xr-disabled-color: var(--jp-layout-color3, #bdbdbd);\n",
              "  --xr-background-color: var(--jp-layout-color0, white);\n",
              "  --xr-background-color-row-even: var(--jp-layout-color1, white);\n",
              "  --xr-background-color-row-odd: var(--jp-layout-color2, #eeeeee);\n",
              "}\n",
              "\n",
              "html[theme=dark],\n",
              "body.vscode-dark {\n",
              "  --xr-font-color0: rgba(255, 255, 255, 1);\n",
              "  --xr-font-color2: rgba(255, 255, 255, 0.54);\n",
              "  --xr-font-color3: rgba(255, 255, 255, 0.38);\n",
              "  --xr-border-color: #1F1F1F;\n",
              "  --xr-disabled-color: #515151;\n",
              "  --xr-background-color: #111111;\n",
              "  --xr-background-color-row-even: #111111;\n",
              "  --xr-background-color-row-odd: #313131;\n",
              "}\n",
              "\n",
              ".xr-wrap {\n",
              "  display: block;\n",
              "  min-width: 300px;\n",
              "  max-width: 700px;\n",
              "}\n",
              "\n",
              ".xr-text-repr-fallback {\n",
              "  /* fallback to plain text repr when CSS is not injected (untrusted notebook) */\n",
              "  display: none;\n",
              "}\n",
              "\n",
              ".xr-header {\n",
              "  padding-top: 6px;\n",
              "  padding-bottom: 6px;\n",
              "  margin-bottom: 4px;\n",
              "  border-bottom: solid 1px var(--xr-border-color);\n",
              "}\n",
              "\n",
              ".xr-header > div,\n",
              ".xr-header > ul {\n",
              "  display: inline;\n",
              "  margin-top: 0;\n",
              "  margin-bottom: 0;\n",
              "}\n",
              "\n",
              ".xr-obj-type,\n",
              ".xr-array-name {\n",
              "  margin-left: 2px;\n",
              "  margin-right: 10px;\n",
              "}\n",
              "\n",
              ".xr-obj-type {\n",
              "  color: var(--xr-font-color2);\n",
              "}\n",
              "\n",
              ".xr-sections {\n",
              "  padding-left: 0 !important;\n",
              "  display: grid;\n",
              "  grid-template-columns: 150px auto auto 1fr 20px 20px;\n",
              "}\n",
              "\n",
              ".xr-section-item {\n",
              "  display: contents;\n",
              "}\n",
              "\n",
              ".xr-section-item input {\n",
              "  display: none;\n",
              "}\n",
              "\n",
              ".xr-section-item input + label {\n",
              "  color: var(--xr-disabled-color);\n",
              "}\n",
              "\n",
              ".xr-section-item input:enabled + label {\n",
              "  cursor: pointer;\n",
              "  color: var(--xr-font-color2);\n",
              "}\n",
              "\n",
              ".xr-section-item input:enabled + label:hover {\n",
              "  color: var(--xr-font-color0);\n",
              "}\n",
              "\n",
              ".xr-section-summary {\n",
              "  grid-column: 1;\n",
              "  color: var(--xr-font-color2);\n",
              "  font-weight: 500;\n",
              "}\n",
              "\n",
              ".xr-section-summary > span {\n",
              "  display: inline-block;\n",
              "  padding-left: 0.5em;\n",
              "}\n",
              "\n",
              ".xr-section-summary-in:disabled + label {\n",
              "  color: var(--xr-font-color2);\n",
              "}\n",
              "\n",
              ".xr-section-summary-in + label:before {\n",
              "  display: inline-block;\n",
              "  content: '►';\n",
              "  font-size: 11px;\n",
              "  width: 15px;\n",
              "  text-align: center;\n",
              "}\n",
              "\n",
              ".xr-section-summary-in:disabled + label:before {\n",
              "  color: var(--xr-disabled-color);\n",
              "}\n",
              "\n",
              ".xr-section-summary-in:checked + label:before {\n",
              "  content: '▼';\n",
              "}\n",
              "\n",
              ".xr-section-summary-in:checked + label > span {\n",
              "  display: none;\n",
              "}\n",
              "\n",
              ".xr-section-summary,\n",
              ".xr-section-inline-details {\n",
              "  padding-top: 4px;\n",
              "  padding-bottom: 4px;\n",
              "}\n",
              "\n",
              ".xr-section-inline-details {\n",
              "  grid-column: 2 / -1;\n",
              "}\n",
              "\n",
              ".xr-section-details {\n",
              "  display: none;\n",
              "  grid-column: 1 / -1;\n",
              "  margin-bottom: 5px;\n",
              "}\n",
              "\n",
              ".xr-section-summary-in:checked ~ .xr-section-details {\n",
              "  display: contents;\n",
              "}\n",
              "\n",
              ".xr-array-wrap {\n",
              "  grid-column: 1 / -1;\n",
              "  display: grid;\n",
              "  grid-template-columns: 20px auto;\n",
              "}\n",
              "\n",
              ".xr-array-wrap > label {\n",
              "  grid-column: 1;\n",
              "  vertical-align: top;\n",
              "}\n",
              "\n",
              ".xr-preview {\n",
              "  color: var(--xr-font-color3);\n",
              "}\n",
              "\n",
              ".xr-array-preview,\n",
              ".xr-array-data {\n",
              "  padding: 0 5px !important;\n",
              "  grid-column: 2;\n",
              "}\n",
              "\n",
              ".xr-array-data,\n",
              ".xr-array-in:checked ~ .xr-array-preview {\n",
              "  display: none;\n",
              "}\n",
              "\n",
              ".xr-array-in:checked ~ .xr-array-data,\n",
              ".xr-array-preview {\n",
              "  display: inline-block;\n",
              "}\n",
              "\n",
              ".xr-dim-list {\n",
              "  display: inline-block !important;\n",
              "  list-style: none;\n",
              "  padding: 0 !important;\n",
              "  margin: 0;\n",
              "}\n",
              "\n",
              ".xr-dim-list li {\n",
              "  display: inline-block;\n",
              "  padding: 0;\n",
              "  margin: 0;\n",
              "}\n",
              "\n",
              ".xr-dim-list:before {\n",
              "  content: '(';\n",
              "}\n",
              "\n",
              ".xr-dim-list:after {\n",
              "  content: ')';\n",
              "}\n",
              "\n",
              ".xr-dim-list li:not(:last-child):after {\n",
              "  content: ',';\n",
              "  padding-right: 5px;\n",
              "}\n",
              "\n",
              ".xr-has-index {\n",
              "  font-weight: bold;\n",
              "}\n",
              "\n",
              ".xr-var-list,\n",
              ".xr-var-item {\n",
              "  display: contents;\n",
              "}\n",
              "\n",
              ".xr-var-item > div,\n",
              ".xr-var-item label,\n",
              ".xr-var-item > .xr-var-name span {\n",
              "  background-color: var(--xr-background-color-row-even);\n",
              "  margin-bottom: 0;\n",
              "}\n",
              "\n",
              ".xr-var-item > .xr-var-name:hover span {\n",
              "  padding-right: 5px;\n",
              "}\n",
              "\n",
              ".xr-var-list > li:nth-child(odd) > div,\n",
              ".xr-var-list > li:nth-child(odd) > label,\n",
              ".xr-var-list > li:nth-child(odd) > .xr-var-name span {\n",
              "  background-color: var(--xr-background-color-row-odd);\n",
              "}\n",
              "\n",
              ".xr-var-name {\n",
              "  grid-column: 1;\n",
              "}\n",
              "\n",
              ".xr-var-dims {\n",
              "  grid-column: 2;\n",
              "}\n",
              "\n",
              ".xr-var-dtype {\n",
              "  grid-column: 3;\n",
              "  text-align: right;\n",
              "  color: var(--xr-font-color2);\n",
              "}\n",
              "\n",
              ".xr-var-preview {\n",
              "  grid-column: 4;\n",
              "}\n",
              "\n",
              ".xr-var-name,\n",
              ".xr-var-dims,\n",
              ".xr-var-dtype,\n",
              ".xr-preview,\n",
              ".xr-attrs dt {\n",
              "  white-space: nowrap;\n",
              "  overflow: hidden;\n",
              "  text-overflow: ellipsis;\n",
              "  padding-right: 10px;\n",
              "}\n",
              "\n",
              ".xr-var-name:hover,\n",
              ".xr-var-dims:hover,\n",
              ".xr-var-dtype:hover,\n",
              ".xr-attrs dt:hover {\n",
              "  overflow: visible;\n",
              "  width: auto;\n",
              "  z-index: 1;\n",
              "}\n",
              "\n",
              ".xr-var-attrs,\n",
              ".xr-var-data {\n",
              "  display: none;\n",
              "  background-color: var(--xr-background-color) !important;\n",
              "  padding-bottom: 5px !important;\n",
              "}\n",
              "\n",
              ".xr-var-attrs-in:checked ~ .xr-var-attrs,\n",
              ".xr-var-data-in:checked ~ .xr-var-data {\n",
              "  display: block;\n",
              "}\n",
              "\n",
              ".xr-var-data > table {\n",
              "  float: right;\n",
              "}\n",
              "\n",
              ".xr-var-name span,\n",
              ".xr-var-data,\n",
              ".xr-attrs {\n",
              "  padding-left: 25px !important;\n",
              "}\n",
              "\n",
              ".xr-attrs,\n",
              ".xr-var-attrs,\n",
              ".xr-var-data {\n",
              "  grid-column: 1 / -1;\n",
              "}\n",
              "\n",
              "dl.xr-attrs {\n",
              "  padding: 0;\n",
              "  margin: 0;\n",
              "  display: grid;\n",
              "  grid-template-columns: 125px auto;\n",
              "}\n",
              "\n",
              ".xr-attrs dt,\n",
              ".xr-attrs dd {\n",
              "  padding: 0;\n",
              "  margin: 0;\n",
              "  float: left;\n",
              "  padding-right: 10px;\n",
              "  width: auto;\n",
              "}\n",
              "\n",
              ".xr-attrs dt {\n",
              "  font-weight: normal;\n",
              "  grid-column: 1;\n",
              "}\n",
              "\n",
              ".xr-attrs dt:hover span {\n",
              "  display: inline-block;\n",
              "  background: var(--xr-background-color);\n",
              "  padding-right: 10px;\n",
              "}\n",
              "\n",
              ".xr-attrs dd {\n",
              "  grid-column: 2;\n",
              "  white-space: pre-wrap;\n",
              "  word-break: break-all;\n",
              "}\n",
              "\n",
              ".xr-icon-database,\n",
              ".xr-icon-file-text2 {\n",
              "  display: inline-block;\n",
              "  vertical-align: middle;\n",
              "  width: 1em;\n",
              "  height: 1.5em !important;\n",
              "  stroke-width: 0;\n",
              "  stroke: currentColor;\n",
              "  fill: currentColor;\n",
              "}\n",
              "</style><pre class='xr-text-repr-fallback'>&lt;xarray.DataArray (samples: 10, variables: 3, time: 10, latitude: 45, longitude: 90)&gt;\n",
              "array([[[[[-1.22464680e-16, -1.22464680e-16, -1.22464680e-16, ...,\n",
              "           -1.22464680e-16, -1.22464680e-16, -1.22464680e-16],\n",
              "          [-1.22464680e-16, -1.22464680e-16, -1.22464680e-16, ...,\n",
              "           -1.22464680e-16, -1.22464680e-16, -1.22464680e-16],\n",
              "          [-1.22464680e-16, -1.22464680e-16, -1.22464680e-16, ...,\n",
              "           -1.22464680e-16, -1.22464680e-16, -1.22464680e-16],\n",
              "          ...,\n",
              "          [-1.22464680e-16, -1.22464680e-16, -1.22464680e-16, ...,\n",
              "           -1.22464680e-16, -1.22464680e-16, -1.22464680e-16],\n",
              "          [-1.22464680e-16, -1.22464680e-16, -1.22464680e-16, ...,\n",
              "           -1.22464680e-16, -1.22464680e-16, -1.22464680e-16],\n",
              "          [-1.22464680e-16, -1.22464680e-16, -1.22464680e-16, ...,\n",
              "           -1.22464680e-16, -1.22464680e-16, -1.22464680e-16]],\n",
              "\n",
              "         [[-6.42787610e-01, -6.42787610e-01, -6.42787610e-01, ...,\n",
              "           -6.42787610e-01, -6.42787610e-01, -6.42787610e-01],\n",
              "          [-6.42787610e-01, -6.42787610e-01, -6.42787610e-01, ...,\n",
              "           -6.42787610e-01, -6.42787610e-01, -6.42787610e-01],\n",
              "          [-6.42787610e-01, -6.42787610e-01, -6.42787610e-01, ...,\n",
              "           -6.42787610e-01, -6.42787610e-01, -6.42787610e-01],\n",
              "...\n",
              "          [-7.66044443e-01, -7.66044443e-01, -7.66044443e-01, ...,\n",
              "           -7.66044443e-01, -7.66044443e-01, -7.66044443e-01],\n",
              "          [-7.66044443e-01, -7.66044443e-01, -7.66044443e-01, ...,\n",
              "           -7.66044443e-01, -7.66044443e-01, -7.66044443e-01],\n",
              "          [-7.66044443e-01, -7.66044443e-01, -7.66044443e-01, ...,\n",
              "           -7.66044443e-01, -7.66044443e-01, -7.66044443e-01]],\n",
              "\n",
              "         [[-1.00000000e+00, -1.00000000e+00, -1.00000000e+00, ...,\n",
              "           -1.00000000e+00, -1.00000000e+00, -1.00000000e+00],\n",
              "          [-1.00000000e+00, -1.00000000e+00, -1.00000000e+00, ...,\n",
              "           -1.00000000e+00, -1.00000000e+00, -1.00000000e+00],\n",
              "          [-1.00000000e+00, -1.00000000e+00, -1.00000000e+00, ...,\n",
              "           -1.00000000e+00, -1.00000000e+00, -1.00000000e+00],\n",
              "          ...,\n",
              "          [-1.00000000e+00, -1.00000000e+00, -1.00000000e+00, ...,\n",
              "           -1.00000000e+00, -1.00000000e+00, -1.00000000e+00],\n",
              "          [-1.00000000e+00, -1.00000000e+00, -1.00000000e+00, ...,\n",
              "           -1.00000000e+00, -1.00000000e+00, -1.00000000e+00],\n",
              "          [-1.00000000e+00, -1.00000000e+00, -1.00000000e+00, ...,\n",
              "           -1.00000000e+00, -1.00000000e+00, -1.00000000e+00]]]]])\n",
              "Coordinates:\n",
              "  * time       (time) datetime64[ns] 2021-10-01 2021-10-02 ... 2021-10-10\n",
              "  * latitude   (latitude) float64 0.0 2.045 4.091 6.136 ... 85.91 87.95 90.0\n",
              "  * longitude  (longitude) float64 0.0 2.022 4.045 6.067 ... 176.0 178.0 180.0\n",
              "Dimensions without coordinates: samples, variables</pre><div class='xr-wrap' hidden><div class='xr-header'><div class='xr-obj-type'>xarray.DataArray</div><div class='xr-array-name'></div><ul class='xr-dim-list'><li><span>samples</span>: 10</li><li><span>variables</span>: 3</li><li><span class='xr-has-index'>time</span>: 10</li><li><span class='xr-has-index'>latitude</span>: 45</li><li><span class='xr-has-index'>longitude</span>: 90</li></ul></div><ul class='xr-sections'><li class='xr-section-item'><div class='xr-array-wrap'><input id='section-bc6e9838-aff5-4425-bd81-5ed26fea92a4' class='xr-array-in' type='checkbox' checked><label for='section-bc6e9838-aff5-4425-bd81-5ed26fea92a4' title='Show/hide data repr'><svg class='icon xr-icon-database'><use xlink:href='#icon-database'></use></svg></label><div class='xr-array-preview xr-preview'><span>-1.225e-16 -1.225e-16 -1.225e-16 -1.225e-16 ... -1.0 -1.0 -1.0 -1.0</span></div><div class='xr-array-data'><pre>array([[[[[-1.22464680e-16, -1.22464680e-16, -1.22464680e-16, ...,\n",
              "           -1.22464680e-16, -1.22464680e-16, -1.22464680e-16],\n",
              "          [-1.22464680e-16, -1.22464680e-16, -1.22464680e-16, ...,\n",
              "           -1.22464680e-16, -1.22464680e-16, -1.22464680e-16],\n",
              "          [-1.22464680e-16, -1.22464680e-16, -1.22464680e-16, ...,\n",
              "           -1.22464680e-16, -1.22464680e-16, -1.22464680e-16],\n",
              "          ...,\n",
              "          [-1.22464680e-16, -1.22464680e-16, -1.22464680e-16, ...,\n",
              "           -1.22464680e-16, -1.22464680e-16, -1.22464680e-16],\n",
              "          [-1.22464680e-16, -1.22464680e-16, -1.22464680e-16, ...,\n",
              "           -1.22464680e-16, -1.22464680e-16, -1.22464680e-16],\n",
              "          [-1.22464680e-16, -1.22464680e-16, -1.22464680e-16, ...,\n",
              "           -1.22464680e-16, -1.22464680e-16, -1.22464680e-16]],\n",
              "\n",
              "         [[-6.42787610e-01, -6.42787610e-01, -6.42787610e-01, ...,\n",
              "           -6.42787610e-01, -6.42787610e-01, -6.42787610e-01],\n",
              "          [-6.42787610e-01, -6.42787610e-01, -6.42787610e-01, ...,\n",
              "           -6.42787610e-01, -6.42787610e-01, -6.42787610e-01],\n",
              "          [-6.42787610e-01, -6.42787610e-01, -6.42787610e-01, ...,\n",
              "           -6.42787610e-01, -6.42787610e-01, -6.42787610e-01],\n",
              "...\n",
              "          [-7.66044443e-01, -7.66044443e-01, -7.66044443e-01, ...,\n",
              "           -7.66044443e-01, -7.66044443e-01, -7.66044443e-01],\n",
              "          [-7.66044443e-01, -7.66044443e-01, -7.66044443e-01, ...,\n",
              "           -7.66044443e-01, -7.66044443e-01, -7.66044443e-01],\n",
              "          [-7.66044443e-01, -7.66044443e-01, -7.66044443e-01, ...,\n",
              "           -7.66044443e-01, -7.66044443e-01, -7.66044443e-01]],\n",
              "\n",
              "         [[-1.00000000e+00, -1.00000000e+00, -1.00000000e+00, ...,\n",
              "           -1.00000000e+00, -1.00000000e+00, -1.00000000e+00],\n",
              "          [-1.00000000e+00, -1.00000000e+00, -1.00000000e+00, ...,\n",
              "           -1.00000000e+00, -1.00000000e+00, -1.00000000e+00],\n",
              "          [-1.00000000e+00, -1.00000000e+00, -1.00000000e+00, ...,\n",
              "           -1.00000000e+00, -1.00000000e+00, -1.00000000e+00],\n",
              "          ...,\n",
              "          [-1.00000000e+00, -1.00000000e+00, -1.00000000e+00, ...,\n",
              "           -1.00000000e+00, -1.00000000e+00, -1.00000000e+00],\n",
              "          [-1.00000000e+00, -1.00000000e+00, -1.00000000e+00, ...,\n",
              "           -1.00000000e+00, -1.00000000e+00, -1.00000000e+00],\n",
              "          [-1.00000000e+00, -1.00000000e+00, -1.00000000e+00, ...,\n",
              "           -1.00000000e+00, -1.00000000e+00, -1.00000000e+00]]]]])</pre></div></div></li><li class='xr-section-item'><input id='section-0a2f6009-90c6-4231-b9b1-d150ac2829c9' class='xr-section-summary-in' type='checkbox'  checked><label for='section-0a2f6009-90c6-4231-b9b1-d150ac2829c9' class='xr-section-summary' >Coordinates: <span>(3)</span></label><div class='xr-section-inline-details'></div><div class='xr-section-details'><ul class='xr-var-list'><li class='xr-var-item'><div class='xr-var-name'><span class='xr-has-index'>time</span></div><div class='xr-var-dims'>(time)</div><div class='xr-var-dtype'>datetime64[ns]</div><div class='xr-var-preview xr-preview'>2021-10-01 ... 2021-10-10</div><input id='attrs-7f43f36f-278a-48e4-ab1b-b0d2d12418e1' class='xr-var-attrs-in' type='checkbox' disabled><label for='attrs-7f43f36f-278a-48e4-ab1b-b0d2d12418e1' title='Show/Hide attributes'><svg class='icon xr-icon-file-text2'><use xlink:href='#icon-file-text2'></use></svg></label><input id='data-330e2b35-2d6e-4da4-bde0-776119d0c075' class='xr-var-data-in' type='checkbox'><label for='data-330e2b35-2d6e-4da4-bde0-776119d0c075' title='Show/Hide data repr'><svg class='icon xr-icon-database'><use xlink:href='#icon-database'></use></svg></label><div class='xr-var-attrs'><dl class='xr-attrs'></dl></div><div class='xr-var-data'><pre>array([&#x27;2021-10-01T00:00:00.000000000&#x27;, &#x27;2021-10-02T00:00:00.000000000&#x27;,\n",
              "       &#x27;2021-10-03T00:00:00.000000000&#x27;, &#x27;2021-10-04T00:00:00.000000000&#x27;,\n",
              "       &#x27;2021-10-05T00:00:00.000000000&#x27;, &#x27;2021-10-06T00:00:00.000000000&#x27;,\n",
              "       &#x27;2021-10-07T00:00:00.000000000&#x27;, &#x27;2021-10-08T00:00:00.000000000&#x27;,\n",
              "       &#x27;2021-10-09T00:00:00.000000000&#x27;, &#x27;2021-10-10T00:00:00.000000000&#x27;],\n",
              "      dtype=&#x27;datetime64[ns]&#x27;)</pre></div></li><li class='xr-var-item'><div class='xr-var-name'><span class='xr-has-index'>latitude</span></div><div class='xr-var-dims'>(latitude)</div><div class='xr-var-dtype'>float64</div><div class='xr-var-preview xr-preview'>0.0 2.045 4.091 ... 87.95 90.0</div><input id='attrs-59f35cf4-eb21-4db0-8958-7e3dfe041dc2' class='xr-var-attrs-in' type='checkbox' disabled><label for='attrs-59f35cf4-eb21-4db0-8958-7e3dfe041dc2' title='Show/Hide attributes'><svg class='icon xr-icon-file-text2'><use xlink:href='#icon-file-text2'></use></svg></label><input id='data-442ac887-03ce-44a3-86df-593a66acfc86' class='xr-var-data-in' type='checkbox'><label for='data-442ac887-03ce-44a3-86df-593a66acfc86' title='Show/Hide data repr'><svg class='icon xr-icon-database'><use xlink:href='#icon-database'></use></svg></label><div class='xr-var-attrs'><dl class='xr-attrs'></dl></div><div class='xr-var-data'><pre>array([ 0.      ,  2.045455,  4.090909,  6.136364,  8.181818, 10.227273,\n",
              "       12.272727, 14.318182, 16.363636, 18.409091, 20.454545, 22.5     ,\n",
              "       24.545455, 26.590909, 28.636364, 30.681818, 32.727273, 34.772727,\n",
              "       36.818182, 38.863636, 40.909091, 42.954545, 45.      , 47.045455,\n",
              "       49.090909, 51.136364, 53.181818, 55.227273, 57.272727, 59.318182,\n",
              "       61.363636, 63.409091, 65.454545, 67.5     , 69.545455, 71.590909,\n",
              "       73.636364, 75.681818, 77.727273, 79.772727, 81.818182, 83.863636,\n",
              "       85.909091, 87.954545, 90.      ])</pre></div></li><li class='xr-var-item'><div class='xr-var-name'><span class='xr-has-index'>longitude</span></div><div class='xr-var-dims'>(longitude)</div><div class='xr-var-dtype'>float64</div><div class='xr-var-preview xr-preview'>0.0 2.022 4.045 ... 178.0 180.0</div><input id='attrs-2177dbf8-8492-49f5-8715-f2b1f38bb33d' class='xr-var-attrs-in' type='checkbox' disabled><label for='attrs-2177dbf8-8492-49f5-8715-f2b1f38bb33d' title='Show/Hide attributes'><svg class='icon xr-icon-file-text2'><use xlink:href='#icon-file-text2'></use></svg></label><input id='data-9232b676-73a4-4859-b89e-a369d4521d80' class='xr-var-data-in' type='checkbox'><label for='data-9232b676-73a4-4859-b89e-a369d4521d80' title='Show/Hide data repr'><svg class='icon xr-icon-database'><use xlink:href='#icon-database'></use></svg></label><div class='xr-var-attrs'><dl class='xr-attrs'></dl></div><div class='xr-var-data'><pre>array([  0.      ,   2.022472,   4.044944,   6.067416,   8.089888,  10.11236 ,\n",
              "        12.134831,  14.157303,  16.179775,  18.202247,  20.224719,  22.247191,\n",
              "        24.269663,  26.292135,  28.314607,  30.337079,  32.359551,  34.382022,\n",
              "        36.404494,  38.426966,  40.449438,  42.47191 ,  44.494382,  46.516854,\n",
              "        48.539326,  50.561798,  52.58427 ,  54.606742,  56.629213,  58.651685,\n",
              "        60.674157,  62.696629,  64.719101,  66.741573,  68.764045,  70.786517,\n",
              "        72.808989,  74.831461,  76.853933,  78.876404,  80.898876,  82.921348,\n",
              "        84.94382 ,  86.966292,  88.988764,  91.011236,  93.033708,  95.05618 ,\n",
              "        97.078652,  99.101124, 101.123596, 103.146067, 105.168539, 107.191011,\n",
              "       109.213483, 111.235955, 113.258427, 115.280899, 117.303371, 119.325843,\n",
              "       121.348315, 123.370787, 125.393258, 127.41573 , 129.438202, 131.460674,\n",
              "       133.483146, 135.505618, 137.52809 , 139.550562, 141.573034, 143.595506,\n",
              "       145.617978, 147.640449, 149.662921, 151.685393, 153.707865, 155.730337,\n",
              "       157.752809, 159.775281, 161.797753, 163.820225, 165.842697, 167.865169,\n",
              "       169.88764 , 171.910112, 173.932584, 175.955056, 177.977528, 180.      ])</pre></div></li></ul></div></li><li class='xr-section-item'><input id='section-96dfeff2-3b08-4771-94df-06944a75f91f' class='xr-section-summary-in' type='checkbox' disabled ><label for='section-96dfeff2-3b08-4771-94df-06944a75f91f' class='xr-section-summary'  title='Expand/collapse section'>Attributes: <span>(0)</span></label><div class='xr-section-inline-details'></div><div class='xr-section-details'><dl class='xr-attrs'></dl></div></li></ul></div></div>"
            ],
            "text/plain": [
              "<xarray.DataArray (samples: 10, variables: 3, time: 10, latitude: 45, longitude: 90)>\n",
              "array([[[[[-1.22464680e-16, -1.22464680e-16, -1.22464680e-16, ...,\n",
              "           -1.22464680e-16, -1.22464680e-16, -1.22464680e-16],\n",
              "          [-1.22464680e-16, -1.22464680e-16, -1.22464680e-16, ...,\n",
              "           -1.22464680e-16, -1.22464680e-16, -1.22464680e-16],\n",
              "          [-1.22464680e-16, -1.22464680e-16, -1.22464680e-16, ...,\n",
              "           -1.22464680e-16, -1.22464680e-16, -1.22464680e-16],\n",
              "          ...,\n",
              "          [-1.22464680e-16, -1.22464680e-16, -1.22464680e-16, ...,\n",
              "           -1.22464680e-16, -1.22464680e-16, -1.22464680e-16],\n",
              "          [-1.22464680e-16, -1.22464680e-16, -1.22464680e-16, ...,\n",
              "           -1.22464680e-16, -1.22464680e-16, -1.22464680e-16],\n",
              "          [-1.22464680e-16, -1.22464680e-16, -1.22464680e-16, ...,\n",
              "           -1.22464680e-16, -1.22464680e-16, -1.22464680e-16]],\n",
              "\n",
              "         [[-6.42787610e-01, -6.42787610e-01, -6.42787610e-01, ...,\n",
              "           -6.42787610e-01, -6.42787610e-01, -6.42787610e-01],\n",
              "          [-6.42787610e-01, -6.42787610e-01, -6.42787610e-01, ...,\n",
              "           -6.42787610e-01, -6.42787610e-01, -6.42787610e-01],\n",
              "          [-6.42787610e-01, -6.42787610e-01, -6.42787610e-01, ...,\n",
              "           -6.42787610e-01, -6.42787610e-01, -6.42787610e-01],\n",
              "...\n",
              "          [-7.66044443e-01, -7.66044443e-01, -7.66044443e-01, ...,\n",
              "           -7.66044443e-01, -7.66044443e-01, -7.66044443e-01],\n",
              "          [-7.66044443e-01, -7.66044443e-01, -7.66044443e-01, ...,\n",
              "           -7.66044443e-01, -7.66044443e-01, -7.66044443e-01],\n",
              "          [-7.66044443e-01, -7.66044443e-01, -7.66044443e-01, ...,\n",
              "           -7.66044443e-01, -7.66044443e-01, -7.66044443e-01]],\n",
              "\n",
              "         [[-1.00000000e+00, -1.00000000e+00, -1.00000000e+00, ...,\n",
              "           -1.00000000e+00, -1.00000000e+00, -1.00000000e+00],\n",
              "          [-1.00000000e+00, -1.00000000e+00, -1.00000000e+00, ...,\n",
              "           -1.00000000e+00, -1.00000000e+00, -1.00000000e+00],\n",
              "          [-1.00000000e+00, -1.00000000e+00, -1.00000000e+00, ...,\n",
              "           -1.00000000e+00, -1.00000000e+00, -1.00000000e+00],\n",
              "          ...,\n",
              "          [-1.00000000e+00, -1.00000000e+00, -1.00000000e+00, ...,\n",
              "           -1.00000000e+00, -1.00000000e+00, -1.00000000e+00],\n",
              "          [-1.00000000e+00, -1.00000000e+00, -1.00000000e+00, ...,\n",
              "           -1.00000000e+00, -1.00000000e+00, -1.00000000e+00],\n",
              "          [-1.00000000e+00, -1.00000000e+00, -1.00000000e+00, ...,\n",
              "           -1.00000000e+00, -1.00000000e+00, -1.00000000e+00]]]]])\n",
              "Coordinates:\n",
              "  * time       (time) datetime64[ns] 2021-10-01 2021-10-02 ... 2021-10-10\n",
              "  * latitude   (latitude) float64 0.0 2.045 4.091 6.136 ... 85.91 87.95 90.0\n",
              "  * longitude  (longitude) float64 0.0 2.022 4.045 6.067 ... 176.0 178.0 180.0\n",
              "Dimensions without coordinates: samples, variables"
            ]
          },
          "metadata": {},
          "execution_count": 169
        }
      ]
    },
    {
      "cell_type": "code",
      "metadata": {
        "colab": {
          "base_uri": "https://localhost:8080/",
          "height": 281
        },
        "id": "ybuOLruHOjmf",
        "outputId": "9329b967-4381-4501-d4aa-7d63ca090da6"
      },
      "source": [
        "temperature.plot();"
      ],
      "execution_count": null,
      "outputs": [
        {
          "output_type": "display_data",
          "data": {
            "image/png": "[encoded data removed]",
            "text/plain": [
              "<Figure size 432x288 with 1 Axes>"
            ]
          },
          "metadata": {
            "needs_background": "light"
          }
        }
      ]
    },
    {
      "cell_type": "code",
      "metadata": {
        "colab": {
          "base_uri": "https://localhost:8080/",
          "height": 281
        },
        "id": "V1upcSXHPssF",
        "outputId": "6e893eb6-0c71-42e8-fc39-370959bec0b1"
      },
      "source": [
        "new_observation2.plot();"
      ],
      "execution_count": null,
      "outputs": [
        {
          "output_type": "display_data",
          "data": {
            "image/png": "[encoded data removed]",
            "text/plain": [
              "<Figure size 432x288 with 1 Axes>"
            ]
          },
          "metadata": {
            "needs_background": "light"
          }
        }
      ]
    },
    {
      "cell_type": "code",
      "metadata": {
        "colab": {
          "base_uri": "https://localhost:8080/",
          "height": 279
        },
        "id": "GQEba63FOjTr",
        "outputId": "d9510749-60e7-43ca-e465-b1619806db09"
      },
      "source": [
        "temperature.mean(dim='time').plot();"
      ],
      "execution_count": null,
      "outputs": [
        {
          "output_type": "display_data",
          "data": {
            "image/png": "[encoded data removed]",
            "text/plain": [
              "<Figure size 432x288 with 2 Axes>"
            ]
          },
          "metadata": {
            "needs_background": "light"
          }
        }
      ]
    },
    {
      "cell_type": "code",
      "metadata": {
        "colab": {
          "base_uri": "https://localhost:8080/",
          "height": 279
        },
        "id": "xr4o6jChP4b0",
        "outputId": "a9204553-5ed9-4874-f4a5-8b9621c8c0a2"
      },
      "source": [
        "new_observation2.mean(dim=['time', 'samples', 'variables']).plot();"
      ],
      "execution_count": null,
      "outputs": [
        {
          "output_type": "display_data",
          "data": {
            "image/png": "[encoded data removed]",
            "text/plain": [
              "<Figure size 432x288 with 2 Axes>"
            ]
          },
          "metadata": {
            "needs_background": "light"
          }
        }
      ]
    },
    {
      "cell_type": "code",
      "metadata": {
        "colab": {
          "base_uri": "https://localhost:8080/",
          "height": 307
        },
        "id": "yCxnOtanWEaw",
        "outputId": "c528c963-6143-4d5b-83f2-b9434cc7331c"
      },
      "source": [
        "new_observation2.mean(dim=['latitude', 'longitude', 'variables']).plot();"
      ],
      "execution_count": null,
      "outputs": [
        {
          "output_type": "display_data",
          "data": {
            "image/png": "[encoded data removed]",
            "text/plain": [
              "<Figure size 432x288 with 2 Axes>"
            ]
          },
          "metadata": {
            "needs_background": "light"
          }
        }
      ]
    },
    {
      "cell_type": "code",
      "metadata": {
        "id": "2-V36KVDb1C_",
        "colab": {
          "base_uri": "https://localhost:8080/",
          "height": 307
        },
        "outputId": "255cdc48-c2d8-4d0e-b10c-b5d192f4da33"
      },
      "source": [
        "new_observation2.mean(dim=['latitude', 'longitude', 'variables']).plot();"
      ],
      "execution_count": null,
      "outputs": [
        {
          "output_type": "display_data",
          "data": {
            "image/png": "[encoded data removed]",
            "text/plain": [
              "<Figure size 432x288 with 2 Axes>"
            ]
          },
          "metadata": {
            "needs_background": "light"
          }
        }
      ]
    },
    {
      "cell_type": "code",
      "metadata": {
        "id": "4TbEpFV-OjEI",
        "colab": {
          "base_uri": "https://localhost:8080/",
          "height": 325
        },
        "outputId": "eb9651ff-44f3-49bd-c9f9-93e69161fc65"
      },
      "source": [
        "temperature.sel(longitude=180, latitude=90).plot();"
      ],
      "execution_count": null,
      "outputs": [
        {
          "output_type": "error",
          "ename": "ValueError",
          "evalue": "ignored",
          "traceback": [
            "\u001b[0;31m---------------------------------------------------------------------------\u001b[0m",
            "\u001b[0;31mValueError\u001b[0m                                Traceback (most recent call last)",
            "\u001b[0;32m<ipython-input-127-ae017f1943f2>\u001b[0m in \u001b[0;36m<module>\u001b[0;34m()\u001b[0m\n\u001b[0;32m----> 1\u001b[0;31m \u001b[0mtemperature\u001b[0m\u001b[0;34m.\u001b[0m\u001b[0msel\u001b[0m\u001b[0;34m(\u001b[0m\u001b[0mlongitude\u001b[0m\u001b[0;34m=\u001b[0m\u001b[0;36m180\u001b[0m\u001b[0;34m,\u001b[0m \u001b[0mlatitude\u001b[0m\u001b[0;34m=\u001b[0m\u001b[0;36m90\u001b[0m\u001b[0;34m)\u001b[0m\u001b[0;34m.\u001b[0m\u001b[0mplot\u001b[0m\u001b[0;34m(\u001b[0m\u001b[0;34m)\u001b[0m\u001b[0;34m;\u001b[0m\u001b[0;34m\u001b[0m\u001b[0;34m\u001b[0m\u001b[0m\n\u001b[0m",
            "\u001b[0;32m/usr/local/lib/python3.7/dist-packages/xarray/core/dataarray.py\u001b[0m in \u001b[0;36msel\u001b[0;34m(self, indexers, method, tolerance, drop, **indexers_kwargs)\u001b[0m\n\u001b[1;32m   1274\u001b[0m             \u001b[0mmethod\u001b[0m\u001b[0;34m=\u001b[0m\u001b[0mmethod\u001b[0m\u001b[0;34m,\u001b[0m\u001b[0;34m\u001b[0m\u001b[0;34m\u001b[0m\u001b[0m\n\u001b[1;32m   1275\u001b[0m             \u001b[0mtolerance\u001b[0m\u001b[0;34m=\u001b[0m\u001b[0mtolerance\u001b[0m\u001b[0;34m,\u001b[0m\u001b[0;34m\u001b[0m\u001b[0;34m\u001b[0m\u001b[0m\n\u001b[0;32m-> 1276\u001b[0;31m             \u001b[0;34m**\u001b[0m\u001b[0mindexers_kwargs\u001b[0m\u001b[0;34m,\u001b[0m\u001b[0;34m\u001b[0m\u001b[0;34m\u001b[0m\u001b[0m\n\u001b[0m\u001b[1;32m   1277\u001b[0m         )\n\u001b[1;32m   1278\u001b[0m         \u001b[0;32mreturn\u001b[0m \u001b[0mself\u001b[0m\u001b[0;34m.\u001b[0m\u001b[0m_from_temp_dataset\u001b[0m\u001b[0;34m(\u001b[0m\u001b[0mds\u001b[0m\u001b[0;34m)\u001b[0m\u001b[0;34m\u001b[0m\u001b[0;34m\u001b[0m\u001b[0m\n",
            "\u001b[0;32m/usr/local/lib/python3.7/dist-packages/xarray/core/dataset.py\u001b[0m in \u001b[0;36msel\u001b[0;34m(self, indexers, method, tolerance, drop, **indexers_kwargs)\u001b[0m\n\u001b[1;32m   2364\u001b[0m         \u001b[0mindexers\u001b[0m \u001b[0;34m=\u001b[0m \u001b[0meither_dict_or_kwargs\u001b[0m\u001b[0;34m(\u001b[0m\u001b[0mindexers\u001b[0m\u001b[0;34m,\u001b[0m \u001b[0mindexers_kwargs\u001b[0m\u001b[0;34m,\u001b[0m \u001b[0;34m\"sel\"\u001b[0m\u001b[0;34m)\u001b[0m\u001b[0;34m\u001b[0m\u001b[0;34m\u001b[0m\u001b[0m\n\u001b[1;32m   2365\u001b[0m         pos_indexers, new_indexes = remap_label_indexers(\n\u001b[0;32m-> 2366\u001b[0;31m             \u001b[0mself\u001b[0m\u001b[0;34m,\u001b[0m \u001b[0mindexers\u001b[0m\u001b[0;34m=\u001b[0m\u001b[0mindexers\u001b[0m\u001b[0;34m,\u001b[0m \u001b[0mmethod\u001b[0m\u001b[0;34m=\u001b[0m\u001b[0mmethod\u001b[0m\u001b[0;34m,\u001b[0m \u001b[0mtolerance\u001b[0m\u001b[0;34m=\u001b[0m\u001b[0mtolerance\u001b[0m\u001b[0;34m\u001b[0m\u001b[0;34m\u001b[0m\u001b[0m\n\u001b[0m\u001b[1;32m   2367\u001b[0m         )\n\u001b[1;32m   2368\u001b[0m         \u001b[0mresult\u001b[0m \u001b[0;34m=\u001b[0m \u001b[0mself\u001b[0m\u001b[0;34m.\u001b[0m\u001b[0misel\u001b[0m\u001b[0;34m(\u001b[0m\u001b[0mindexers\u001b[0m\u001b[0;34m=\u001b[0m\u001b[0mpos_indexers\u001b[0m\u001b[0;34m,\u001b[0m \u001b[0mdrop\u001b[0m\u001b[0;34m=\u001b[0m\u001b[0mdrop\u001b[0m\u001b[0;34m)\u001b[0m\u001b[0;34m\u001b[0m\u001b[0;34m\u001b[0m\u001b[0m\n",
            "\u001b[0;32m/usr/local/lib/python3.7/dist-packages/xarray/core/coordinates.py\u001b[0m in \u001b[0;36mremap_label_indexers\u001b[0;34m(obj, indexers, method, tolerance, **indexers_kwargs)\u001b[0m\n\u001b[1;32m    420\u001b[0m \u001b[0;34m\u001b[0m\u001b[0m\n\u001b[1;32m    421\u001b[0m     pos_indexers, new_indexes = indexing.remap_label_indexers(\n\u001b[0;32m--> 422\u001b[0;31m         \u001b[0mobj\u001b[0m\u001b[0;34m,\u001b[0m \u001b[0mv_indexers\u001b[0m\u001b[0;34m,\u001b[0m \u001b[0mmethod\u001b[0m\u001b[0;34m=\u001b[0m\u001b[0mmethod\u001b[0m\u001b[0;34m,\u001b[0m \u001b[0mtolerance\u001b[0m\u001b[0;34m=\u001b[0m\u001b[0mtolerance\u001b[0m\u001b[0;34m\u001b[0m\u001b[0;34m\u001b[0m\u001b[0m\n\u001b[0m\u001b[1;32m    423\u001b[0m     )\n\u001b[1;32m    424\u001b[0m     \u001b[0;31m# attach indexer's coordinate to pos_indexers\u001b[0m\u001b[0;34m\u001b[0m\u001b[0;34m\u001b[0m\u001b[0;34m\u001b[0m\u001b[0m\n",
            "\u001b[0;32m/usr/local/lib/python3.7/dist-packages/xarray/core/indexing.py\u001b[0m in \u001b[0;36mremap_label_indexers\u001b[0;34m(data_obj, indexers, method, tolerance)\u001b[0m\n\u001b[1;32m    256\u001b[0m     \u001b[0mnew_indexes\u001b[0m \u001b[0;34m=\u001b[0m \u001b[0;34m{\u001b[0m\u001b[0;34m}\u001b[0m\u001b[0;34m\u001b[0m\u001b[0;34m\u001b[0m\u001b[0m\n\u001b[1;32m    257\u001b[0m \u001b[0;34m\u001b[0m\u001b[0m\n\u001b[0;32m--> 258\u001b[0;31m     \u001b[0mdim_indexers\u001b[0m \u001b[0;34m=\u001b[0m \u001b[0mget_dim_indexers\u001b[0m\u001b[0;34m(\u001b[0m\u001b[0mdata_obj\u001b[0m\u001b[0;34m,\u001b[0m \u001b[0mindexers\u001b[0m\u001b[0;34m)\u001b[0m\u001b[0;34m\u001b[0m\u001b[0;34m\u001b[0m\u001b[0m\n\u001b[0m\u001b[1;32m    259\u001b[0m     \u001b[0;32mfor\u001b[0m \u001b[0mdim\u001b[0m\u001b[0;34m,\u001b[0m \u001b[0mlabel\u001b[0m \u001b[0;32min\u001b[0m \u001b[0mdim_indexers\u001b[0m\u001b[0;34m.\u001b[0m\u001b[0mitems\u001b[0m\u001b[0;34m(\u001b[0m\u001b[0;34m)\u001b[0m\u001b[0;34m:\u001b[0m\u001b[0;34m\u001b[0m\u001b[0;34m\u001b[0m\u001b[0m\n\u001b[1;32m    260\u001b[0m         \u001b[0;32mtry\u001b[0m\u001b[0;34m:\u001b[0m\u001b[0;34m\u001b[0m\u001b[0;34m\u001b[0m\u001b[0m\n",
            "\u001b[0;32m/usr/local/lib/python3.7/dist-packages/xarray/core/indexing.py\u001b[0m in \u001b[0;36mget_dim_indexers\u001b[0;34m(data_obj, indexers)\u001b[0m\n\u001b[1;32m    222\u001b[0m     ]\n\u001b[1;32m    223\u001b[0m     \u001b[0;32mif\u001b[0m \u001b[0minvalid\u001b[0m\u001b[0;34m:\u001b[0m\u001b[0;34m\u001b[0m\u001b[0;34m\u001b[0m\u001b[0m\n\u001b[0;32m--> 224\u001b[0;31m         \u001b[0;32mraise\u001b[0m \u001b[0mValueError\u001b[0m\u001b[0;34m(\u001b[0m\u001b[0;34mf\"dimensions or multi-index levels {invalid!r} do not exist\"\u001b[0m\u001b[0;34m)\u001b[0m\u001b[0;34m\u001b[0m\u001b[0;34m\u001b[0m\u001b[0m\n\u001b[0m\u001b[1;32m    225\u001b[0m \u001b[0;34m\u001b[0m\u001b[0m\n\u001b[1;32m    226\u001b[0m     \u001b[0mlevel_indexers\u001b[0m \u001b[0;34m=\u001b[0m \u001b[0mdefaultdict\u001b[0m\u001b[0;34m(\u001b[0m\u001b[0mdict\u001b[0m\u001b[0;34m)\u001b[0m\u001b[0;34m\u001b[0m\u001b[0;34m\u001b[0m\u001b[0m\n",
            "\u001b[0;31mValueError\u001b[0m: dimensions or multi-index levels ['latitude'] do not exist"
          ]
        }
      ]
    },
    {
      "cell_type": "code",
      "metadata": {
        "id": "p6GyWtO3UWft",
        "colab": {
          "base_uri": "https://localhost:8080/",
          "height": 323
        },
        "outputId": "9202812c-5330-4170-bea3-5ee4a4fb8ad9"
      },
      "source": [
        "new_observation2.sel(longitude=180, latitude=90, samples=5).plot();"
      ],
      "execution_count": null,
      "outputs": [
        {
          "output_type": "display_data",
          "data": {
            "image/png": "[encoded data removed]",
            "text/plain": [
              "<Figure size 432x288 with 2 Axes>"
            ]
          },
          "metadata": {
            "needs_background": "light"
          }
        }
      ]
    },
    {
      "cell_type": "code",
      "metadata": {
        "id": "et1TJAUpYtaU",
        "colab": {
          "base_uri": "https://localhost:8080/",
          "height": 323
        },
        "outputId": "965f8dea-b72b-4da4-e908-d14b239f2082"
      },
      "source": [
        "new_observation2.sel(longitude=180, latitude=90, variables=1).plot();"
      ],
      "execution_count": null,
      "outputs": [
        {
          "output_type": "display_data",
          "data": {
            "image/png": "[encoded data removed]",
            "text/plain": [
              "<Figure size 432x288 with 2 Axes>"
            ]
          },
          "metadata": {
            "needs_background": "light"
          }
        }
      ]
    },
    {
      "cell_type": "code",
      "metadata": {
        "colab": {
          "base_uri": "https://localhost:8080/",
          "height": 295
        },
        "id": "Va03R78PZC5h",
        "outputId": "7259c86e-050a-4b3c-ddd7-539ec36f43f3"
      },
      "source": [
        "new_observation2.sel(longitude=180, latitude=90, time='2021/10/02', variables=0).plot();"
      ],
      "execution_count": null,
      "outputs": [
        {
          "output_type": "display_data",
          "data": {
            "image/png": "[encoded data removed]",
            "text/plain": [
              "<Figure size 432x288 with 1 Axes>"
            ]
          },
          "metadata": {
            "needs_background": "light"
          }
        }
      ]
    },
    {
      "cell_type": "code",
      "metadata": {
        "id": "DZopqLpCfWDi"
      },
      "source": [
        ""
      ],
      "execution_count": null,
      "outputs": []
    },
    {
      "cell_type": "code",
      "metadata": {
        "id": "HjU7C6y4ZTFT"
      },
      "source": [
        "new_observation2.sel(longitude=180, latitude=90).plot();"
      ],
      "execution_count": null,
      "outputs": []
    },
    {
      "cell_type": "code",
      "metadata": {
        "id": "cGFwoc6YZlrY",
        "colab": {
          "base_uri": "https://localhost:8080/",
          "height": 323
        },
        "outputId": "aa7134f2-e1a5-4aab-bb5b-fc80f076803e"
      },
      "source": [
        "new_observation2.isel(longitude=86, latitude=29, variables=2, samples=5).plot();\n",
        "#isel pega pelo índice"
      ],
      "execution_count": null,
      "outputs": [
        {
          "output_type": "display_data",
          "data": {
            "image/png": "[encoded data removed]",
            "text/plain": [
              "<Figure size 432x288 with 1 Axes>"
            ]
          },
          "metadata": {
            "needs_background": "light"
          }
        }
      ]
    },
    {
      "cell_type": "code",
      "metadata": {
        "id": "zxJE-Ov6E4HG"
      },
      "source": [
        "dataset = temperature.to_dataset(name='temperature')\n",
        "dataset"
      ],
      "execution_count": null,
      "outputs": []
    },
    {
      "cell_type": "code",
      "metadata": {
        "id": "xTI2fesuFF0f"
      },
      "source": [
        "dataset.temperature"
      ],
      "execution_count": null,
      "outputs": []
    },
    {
      "cell_type": "code",
      "metadata": {
        "id": "nY11HulgIbrL"
      },
      "source": [
        "dataset2 = new_observation2.to_dataset(name='new_observation2')\n",
        "dataset2"
      ],
      "execution_count": null,
      "outputs": []
    },
    {
      "cell_type": "code",
      "metadata": {
        "id": "Atse0ewTId0m"
      },
      "source": [
        "dataset2.new_observation2"
      ],
      "execution_count": null,
      "outputs": []
    },
    {
      "cell_type": "code",
      "metadata": {
        "id": "K65PQwUeIgMq"
      },
      "source": [
        ""
      ],
      "execution_count": null,
      "outputs": []
    },
    {
      "cell_type": "code",
      "metadata": {
        "id": "wORfcUGybEkD"
      },
      "source": [
        "'''ds = xr.Dataset(\n",
        "    data_vars=dict(\n",
        "        temperature=([\"x\", \"y\", \"time\"], temperature),\n",
        "    ),\n",
        "    coords=dict(\n",
        "        lon=([\"x\", \"y\"], lon),\n",
        "        lat=([\"x\", \"y\"], lat),\n",
        "        time=time,\n",
        "        reference_time=reference_time,\n",
        "    ),\n",
        "    sample=dict(\n",
        "        slice(0,500)\n",
        "    ),\n",
        "    attrs=dict(description=\"Dataset sintético\"),\n",
        ")'''"
      ],
      "execution_count": null,
      "outputs": []
    },
    {
      "cell_type": "code",
      "metadata": {
        "id": "J_sH0WWjMedL"
      },
      "source": [
        "'''ds = xr.Dataset(\n",
        "    data_vars=dict(\n",
        "        temperature=(['time', 'latitute', 'longitude'], temperature),\n",
        "    ),\n",
        "    coords=dict(\n",
        "        coords = [time, latitude.flatten(), longitude.flatten()],\n",
        "        time=time,\n",
        "        reference_time=reference_time,\n",
        "    ),\n",
        "   \n",
        "    attrs=dict(description=\"Dataset sintético\"),\n",
        ")'''"
      ],
      "execution_count": null,
      "outputs": []
    },
    {
      "cell_type": "code",
      "metadata": {
        "id": "CpuB2Rs-JcmN"
      },
      "source": [
        "'''ds = xr.Dataset(\n",
        "    data_vars=dict(\n",
        "        temperature=([\"x\", \"y\", \"time\"], temperature),\n",
        "    ),\n",
        "    coords=dict(\n",
        "        lon=([\"x\", \"y\"], lon),\n",
        "        lat=([\"x\", \"y\"], lat),\n",
        "        time=time,\n",
        "        reference_time=reference_time,\n",
        "    ),\n",
        "    sample=dict(\n",
        "        slice(0,500)\n",
        "    ),\n",
        "    attrs=dict(description=\"Dataset sintético\"),\n",
        ")'''"
      ],
      "execution_count": null,
      "outputs": []
    },
    {
      "cell_type": "code",
      "metadata": {
        "id": "-rNHDLv_c7sx"
      },
      "source": [
        "x = np.linspace(-np.pi, np.pi, 30)\n",
        "\n",
        "f = np.sin(x)\n",
        "da_f = xr.DataArray(f)\n",
        "da_f = xr.DataArray(f, dims=['x'], coords={'x': x})\n",
        "da_f.plot(marker='o')"
      ],
      "execution_count": null,
      "outputs": []
    },
    {
      "cell_type": "code",
      "metadata": {
        "id": "RoljDIUSbrir"
      },
      "source": [
        "x"
      ],
      "execution_count": null,
      "outputs": []
    }
  ]
}