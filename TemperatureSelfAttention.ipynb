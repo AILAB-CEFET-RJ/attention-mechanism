{
  "nbformat": 4,
  "nbformat_minor": 0,
  "metadata": {
    "colab": {
      "name": "TemperatureSelfAttention.ipynb",
      "provenance": [],
      "collapsed_sections": [],
      "authorship_tag": "ABX9TyM96/w53dWA8XDcha5npLok",
      "include_colab_link": true
    },
    "kernelspec": {
      "name": "python3",
      "display_name": "Python 3"
    },
    "language_info": {
      "name": "python"
    }
  },
  "cells": [
    {
      "cell_type": "markdown",
      "metadata": {
        "id": "view-in-github",
        "colab_type": "text"
      },
      "source": [
        "<a href=\"https://colab.research.google.com/github/MLRG-CEFET-RJ/attention-mechanism/blob/main/TemperatureSelfAttention.ipynb\" target=\"_parent\"><img src=\"https://colab.research.google.com/assets/colab-badge.svg\" alt=\"Open In Colab\"/></a>"
      ]
    },
    {
      "cell_type": "code",
      "metadata": {
        "id": "1K6mVmNS2IIu"
      },
      "source": [
        "from numpy import array\n",
        "import torch\n",
        "import gc\n",
        "import torch.nn as nn\n",
        "from tqdm import tqdm_notebook as tqdm\n",
        "from torch.utils.data import Dataset, DataLoader\n",
        "import pandas as pd\n",
        "import numpy as np\n",
        "import requests, zipfile, io\n",
        "import matplotlib.pyplot as plt\n",
        "import os\n",
        "\n",
        "import torch.nn.functional as F"
      ],
      "execution_count": 81,
      "outputs": []
    },
    {
      "cell_type": "markdown",
      "metadata": {
        "id": "kNIceLOZw8Lt"
      },
      "source": [
        "Baixar o arquivo com o conjunto de dados."
      ]
    },
    {
      "cell_type": "code",
      "metadata": {
        "id": "d51q0jEW3FzC"
      },
      "source": [
        "zip_file_url = 'https://storage.googleapis.com/tensorflow/tf-keras-datasets/jena_climate_2009_2016.csv.zip'\n",
        "\n",
        "r = requests.get(zip_file_url, stream=True)\n",
        "z = zipfile.ZipFile(io.BytesIO(r.content))\n",
        "z.extractall()"
      ],
      "execution_count": 82,
      "outputs": []
    },
    {
      "cell_type": "markdown",
      "metadata": {
        "id": "VBT49NJOxIaA"
      },
      "source": [
        "Carregar o arquivo (em formato CSV) para um objeto"
      ]
    },
    {
      "cell_type": "code",
      "metadata": {
        "id": "g_AA4hCM3eG9"
      },
      "source": [
        "df = pd.read_csv('jena_climate_2009_2016.csv')"
      ],
      "execution_count": 83,
      "outputs": []
    },
    {
      "cell_type": "markdown",
      "metadata": {
        "id": "eXwjsIVBxWXJ"
      },
      "source": [
        "Visualização dos dados"
      ]
    },
    {
      "cell_type": "code",
      "metadata": {
        "colab": {
          "base_uri": "https://localhost:8080/",
          "height": 310
        },
        "id": "_rUGPc4E3hKW",
        "outputId": "874034a1-af50-447a-92ce-b8d84cb417f8"
      },
      "source": [
        "df.head(5)"
      ],
      "execution_count": 84,
      "outputs": [
        {
          "output_type": "execute_result",
          "data": {
            "text/html": [
              "<div>\n",
              "<style scoped>\n",
              "    .dataframe tbody tr th:only-of-type {\n",
              "        vertical-align: middle;\n",
              "    }\n",
              "\n",
              "    .dataframe tbody tr th {\n",
              "        vertical-align: top;\n",
              "    }\n",
              "\n",
              "    .dataframe thead th {\n",
              "        text-align: right;\n",
              "    }\n",
              "</style>\n",
              "<table border=\"1\" class=\"dataframe\">\n",
              "  <thead>\n",
              "    <tr style=\"text-align: right;\">\n",
              "      <th></th>\n",
              "      <th>Date Time</th>\n",
              "      <th>p (mbar)</th>\n",
              "      <th>T (degC)</th>\n",
              "      <th>Tpot (K)</th>\n",
              "      <th>Tdew (degC)</th>\n",
              "      <th>rh (%)</th>\n",
              "      <th>VPmax (mbar)</th>\n",
              "      <th>VPact (mbar)</th>\n",
              "      <th>VPdef (mbar)</th>\n",
              "      <th>sh (g/kg)</th>\n",
              "      <th>H2OC (mmol/mol)</th>\n",
              "      <th>rho (g/m**3)</th>\n",
              "      <th>wv (m/s)</th>\n",
              "      <th>max. wv (m/s)</th>\n",
              "      <th>wd (deg)</th>\n",
              "    </tr>\n",
              "  </thead>\n",
              "  <tbody>\n",
              "    <tr>\n",
              "      <th>0</th>\n",
              "      <td>01.01.2009 00:10:00</td>\n",
              "      <td>996.52</td>\n",
              "      <td>-8.02</td>\n",
              "      <td>265.40</td>\n",
              "      <td>-8.90</td>\n",
              "      <td>93.3</td>\n",
              "      <td>3.33</td>\n",
              "      <td>3.11</td>\n",
              "      <td>0.22</td>\n",
              "      <td>1.94</td>\n",
              "      <td>3.12</td>\n",
              "      <td>1307.75</td>\n",
              "      <td>1.03</td>\n",
              "      <td>1.75</td>\n",
              "      <td>152.3</td>\n",
              "    </tr>\n",
              "    <tr>\n",
              "      <th>1</th>\n",
              "      <td>01.01.2009 00:20:00</td>\n",
              "      <td>996.57</td>\n",
              "      <td>-8.41</td>\n",
              "      <td>265.01</td>\n",
              "      <td>-9.28</td>\n",
              "      <td>93.4</td>\n",
              "      <td>3.23</td>\n",
              "      <td>3.02</td>\n",
              "      <td>0.21</td>\n",
              "      <td>1.89</td>\n",
              "      <td>3.03</td>\n",
              "      <td>1309.80</td>\n",
              "      <td>0.72</td>\n",
              "      <td>1.50</td>\n",
              "      <td>136.1</td>\n",
              "    </tr>\n",
              "    <tr>\n",
              "      <th>2</th>\n",
              "      <td>01.01.2009 00:30:00</td>\n",
              "      <td>996.53</td>\n",
              "      <td>-8.51</td>\n",
              "      <td>264.91</td>\n",
              "      <td>-9.31</td>\n",
              "      <td>93.9</td>\n",
              "      <td>3.21</td>\n",
              "      <td>3.01</td>\n",
              "      <td>0.20</td>\n",
              "      <td>1.88</td>\n",
              "      <td>3.02</td>\n",
              "      <td>1310.24</td>\n",
              "      <td>0.19</td>\n",
              "      <td>0.63</td>\n",
              "      <td>171.6</td>\n",
              "    </tr>\n",
              "    <tr>\n",
              "      <th>3</th>\n",
              "      <td>01.01.2009 00:40:00</td>\n",
              "      <td>996.51</td>\n",
              "      <td>-8.31</td>\n",
              "      <td>265.12</td>\n",
              "      <td>-9.07</td>\n",
              "      <td>94.2</td>\n",
              "      <td>3.26</td>\n",
              "      <td>3.07</td>\n",
              "      <td>0.19</td>\n",
              "      <td>1.92</td>\n",
              "      <td>3.08</td>\n",
              "      <td>1309.19</td>\n",
              "      <td>0.34</td>\n",
              "      <td>0.50</td>\n",
              "      <td>198.0</td>\n",
              "    </tr>\n",
              "    <tr>\n",
              "      <th>4</th>\n",
              "      <td>01.01.2009 00:50:00</td>\n",
              "      <td>996.51</td>\n",
              "      <td>-8.27</td>\n",
              "      <td>265.15</td>\n",
              "      <td>-9.04</td>\n",
              "      <td>94.1</td>\n",
              "      <td>3.27</td>\n",
              "      <td>3.08</td>\n",
              "      <td>0.19</td>\n",
              "      <td>1.92</td>\n",
              "      <td>3.09</td>\n",
              "      <td>1309.00</td>\n",
              "      <td>0.32</td>\n",
              "      <td>0.63</td>\n",
              "      <td>214.3</td>\n",
              "    </tr>\n",
              "  </tbody>\n",
              "</table>\n",
              "</div>"
            ],
            "text/plain": [
              "             Date Time  p (mbar)  T (degC)  ...  wv (m/s)  max. wv (m/s)  wd (deg)\n",
              "0  01.01.2009 00:10:00    996.52     -8.02  ...      1.03           1.75     152.3\n",
              "1  01.01.2009 00:20:00    996.57     -8.41  ...      0.72           1.50     136.1\n",
              "2  01.01.2009 00:30:00    996.53     -8.51  ...      0.19           0.63     171.6\n",
              "3  01.01.2009 00:40:00    996.51     -8.31  ...      0.34           0.50     198.0\n",
              "4  01.01.2009 00:50:00    996.51     -8.27  ...      0.32           0.63     214.3\n",
              "\n",
              "[5 rows x 15 columns]"
            ]
          },
          "metadata": {},
          "execution_count": 84
        }
      ]
    },
    {
      "cell_type": "code",
      "metadata": {
        "colab": {
          "base_uri": "https://localhost:8080/",
          "height": 370
        },
        "id": "yWW1lco7BDgQ",
        "outputId": "33d7c59f-9153-4560-b410-0e26d0c27672"
      },
      "source": [
        "def show_heatmap(data):\n",
        "    plt.matshow(data.corr())\n",
        "    plt.xticks(range(data.shape[1]), data.columns, fontsize=14, rotation=90)\n",
        "    plt.gca().xaxis.tick_bottom()\n",
        "    plt.yticks(range(data.shape[1]), data.columns, fontsize=14)\n",
        "\n",
        "    cb = plt.colorbar()\n",
        "    cb.ax.tick_params(labelsize=14)\n",
        "    plt.title(\"Feature Correlation Heatmap\", fontsize=14)\n",
        "    plt.show()\n",
        "\n",
        "\n",
        "show_heatmap(df)\n"
      ],
      "execution_count": 41,
      "outputs": [
        {
          "output_type": "display_data",
          "data": {
            "image/png": "[encoded data removed]",
            "text/plain": [
              "<Figure size 288x288 with 2 Axes>"
            ]
          },
          "metadata": {
            "needs_background": "light"
          }
        }
      ]
    },
    {
      "cell_type": "markdown",
      "metadata": {
        "id": "sAq5sDsmyQaI"
      },
      "source": [
        "Preparação dos dados"
      ]
    },
    {
      "cell_type": "code",
      "metadata": {
        "colab": {
          "base_uri": "https://localhost:8080/"
        },
        "id": "g2-UBKN04nfB",
        "outputId": "eb9637ff-cf35-4152-abf4-f520887e28f5"
      },
      "source": [
        "print(df.shape)\n",
        "\n",
        "# slice [start:stop:step], starting from index 5, take every 6th record.\n",
        "df = df[5::6]\n",
        "\n",
        "print(df.shape)"
      ],
      "execution_count": 85,
      "outputs": [
        {
          "output_type": "stream",
          "name": "stdout",
          "text": [
            "(420551, 15)\n",
            "(70091, 15)\n"
          ]
        }
      ]
    },
    {
      "cell_type": "code",
      "metadata": {
        "colab": {
          "base_uri": "https://localhost:8080/"
        },
        "id": "TCLBLryn5jO9",
        "outputId": "ba36ee1c-dcd7-41b3-b024-4ae2d638710b"
      },
      "source": [
        "date_time = pd.to_datetime(df['Date Time'], format='%d.%m.%Y %H:%M:%S')\n",
        "date_time"
      ],
      "execution_count": 86,
      "outputs": [
        {
          "output_type": "execute_result",
          "data": {
            "text/plain": [
              "5        2009-01-01 01:00:00\n",
              "11       2009-01-01 02:00:00\n",
              "17       2009-01-01 03:00:00\n",
              "23       2009-01-01 04:00:00\n",
              "29       2009-01-01 05:00:00\n",
              "                 ...        \n",
              "420521   2016-12-31 19:10:00\n",
              "420527   2016-12-31 20:10:00\n",
              "420533   2016-12-31 21:10:00\n",
              "420539   2016-12-31 22:10:00\n",
              "420545   2016-12-31 23:10:00\n",
              "Name: Date Time, Length: 70091, dtype: datetime64[ns]"
            ]
          },
          "metadata": {},
          "execution_count": 86
        }
      ]
    },
    {
      "cell_type": "markdown",
      "metadata": {
        "id": "rskIulhJyp23"
      },
      "source": [
        "Sumário estatístico da temperatura"
      ]
    },
    {
      "cell_type": "code",
      "metadata": {
        "colab": {
          "base_uri": "https://localhost:8080/"
        },
        "id": "ufK0R6hF5yXO",
        "outputId": "cd51f360-871b-44df-8d72-b762ec437cc7"
      },
      "source": [
        "temperature = df['T (degC)']\n",
        "temperature.describe()"
      ],
      "execution_count": 44,
      "outputs": [
        {
          "output_type": "execute_result",
          "data": {
            "text/plain": [
              "count    70091.000000\n",
              "mean         9.450482\n",
              "std          8.423384\n",
              "min        -22.760000\n",
              "25%          3.350000\n",
              "50%          9.410000\n",
              "75%         15.480000\n",
              "max         37.280000\n",
              "Name: T (degC), dtype: float64"
            ]
          },
          "metadata": {},
          "execution_count": 44
        }
      ]
    },
    {
      "cell_type": "code",
      "metadata": {
        "id": "ws5KPvIF59FN",
        "colab": {
          "base_uri": "https://localhost:8080/",
          "height": 283
        },
        "outputId": "41f6f359-2158-4d1a-d815-fb59304cb629"
      },
      "source": [
        "temperature.hist()"
      ],
      "execution_count": null,
      "outputs": [
        {
          "output_type": "execute_result",
          "data": {
            "text/plain": [
              "<matplotlib.axes._subplots.AxesSubplot at 0x7f9145aab250>"
            ]
          },
          "metadata": {},
          "execution_count": 10
        },
        {
          "output_type": "display_data",
          "data": {
            "image/png": "[encoded data removed]",
            "text/plain": [
              "<Figure size 432x288 with 1 Axes>"
            ]
          },
          "metadata": {
            "needs_background": "light"
          }
        }
      ]
    },
    {
      "cell_type": "code",
      "metadata": {
        "colab": {
          "base_uri": "https://localhost:8080/"
        },
        "id": "Caz6XhVK6TS2",
        "outputId": "4c4321a8-8b6e-4830-b4cb-9cb2bc142ca1"
      },
      "source": [
        "train_set = temperature[:1200]\n",
        "valid_set = temperature[69000:69500]\n",
        "test_set = temperature[69500:]\n",
        "print('Proporção de exemplos para treino: {:.2f}%'.format(len(train_set)/len(temperature)))\n",
        "print('Proporção de exemplos para validação: {:.2f}%'.format(len(valid_set)/len(temperature)))\n",
        "print('Proporção de exemplos para teste: {:.2f}%'.format(len(valid_set)/len(temperature)))"
      ],
      "execution_count": 87,
      "outputs": [
        {
          "output_type": "stream",
          "name": "stdout",
          "text": [
            "Proporção de exemplos para treino: 0.02%\n",
            "Proporção de exemplos para validação: 0.01%\n",
            "Proporção de exemplos para teste: 0.01%\n"
          ]
        }
      ]
    },
    {
      "cell_type": "markdown",
      "metadata": {
        "id": "tQRYhhZ453sk"
      },
      "source": [
        "Janelas deslizantes"
      ]
    },
    {
      "cell_type": "code",
      "metadata": {
        "id": "utTP5osP6j-u"
      },
      "source": [
        "def window_generator(sequence, n_steps):\n",
        "    x, y = list(), list()\n",
        "    for i in range(len(sequence)):\n",
        "        \n",
        "        end_ix = i + n_steps\n",
        "        \n",
        "        if end_ix > len(sequence)-1:\n",
        "            break\n",
        "        seq_x, seq_y = sequence[i:end_ix], sequence[end_ix]\n",
        "        x.append(seq_x)\n",
        "        y.append(seq_y)\n",
        "    return array(x), array(y)"
      ],
      "execution_count": 88,
      "outputs": []
    },
    {
      "cell_type": "code",
      "metadata": {
        "colab": {
          "base_uri": "https://localhost:8080/",
          "height": 206
        },
        "id": "f_Jj7dKhVLvn",
        "outputId": "3a2c1849-0526-45db-e301-7c09ca5d0860"
      },
      "source": [
        "n_steps = 3\n",
        "seq = np.array([10,20,30,40,50,60,70,80,90])\n",
        "seq_train_x, seq_train_y = window_generator(seq, n_steps)\n",
        "\n",
        "df = pd.DataFrame(seq_train_x)\n",
        "df.columns =['t_3', 't_2', 't_1']\n",
        "df['target'] = seq_train_y.tolist()\n",
        "\n",
        "df.head()"
      ],
      "execution_count": 89,
      "outputs": [
        {
          "output_type": "execute_result",
          "data": {
            "text/html": [
              "<div>\n",
              "<style scoped>\n",
              "    .dataframe tbody tr th:only-of-type {\n",
              "        vertical-align: middle;\n",
              "    }\n",
              "\n",
              "    .dataframe tbody tr th {\n",
              "        vertical-align: top;\n",
              "    }\n",
              "\n",
              "    .dataframe thead th {\n",
              "        text-align: right;\n",
              "    }\n",
              "</style>\n",
              "<table border=\"1\" class=\"dataframe\">\n",
              "  <thead>\n",
              "    <tr style=\"text-align: right;\">\n",
              "      <th></th>\n",
              "      <th>t_3</th>\n",
              "      <th>t_2</th>\n",
              "      <th>t_1</th>\n",
              "      <th>target</th>\n",
              "    </tr>\n",
              "  </thead>\n",
              "  <tbody>\n",
              "    <tr>\n",
              "      <th>0</th>\n",
              "      <td>10</td>\n",
              "      <td>20</td>\n",
              "      <td>30</td>\n",
              "      <td>40</td>\n",
              "    </tr>\n",
              "    <tr>\n",
              "      <th>1</th>\n",
              "      <td>20</td>\n",
              "      <td>30</td>\n",
              "      <td>40</td>\n",
              "      <td>50</td>\n",
              "    </tr>\n",
              "    <tr>\n",
              "      <th>2</th>\n",
              "      <td>30</td>\n",
              "      <td>40</td>\n",
              "      <td>50</td>\n",
              "      <td>60</td>\n",
              "    </tr>\n",
              "    <tr>\n",
              "      <th>3</th>\n",
              "      <td>40</td>\n",
              "      <td>50</td>\n",
              "      <td>60</td>\n",
              "      <td>70</td>\n",
              "    </tr>\n",
              "    <tr>\n",
              "      <th>4</th>\n",
              "      <td>50</td>\n",
              "      <td>60</td>\n",
              "      <td>70</td>\n",
              "      <td>80</td>\n",
              "    </tr>\n",
              "  </tbody>\n",
              "</table>\n",
              "</div>"
            ],
            "text/plain": [
              "   t_3  t_2  t_1  target\n",
              "0   10   20   30      40\n",
              "1   20   30   40      50\n",
              "2   30   40   50      60\n",
              "3   40   50   60      70\n",
              "4   50   60   70      80"
            ]
          },
          "metadata": {},
          "execution_count": 89
        }
      ]
    },
    {
      "cell_type": "code",
      "metadata": {
        "id": "Za8BkrsW60Zk"
      },
      "source": [
        "n_steps = 3\n",
        "train_x, train_y = window_generator(train_set.values, n_steps)\n",
        "valid_x, valid_y = window_generator(valid_set.values, n_steps)\n",
        "test_x, test_y = window_generator(test_set.values, n_steps)"
      ],
      "execution_count": 90,
      "outputs": []
    },
    {
      "cell_type": "code",
      "metadata": {
        "id": "HR_p5reo69Ak"
      },
      "source": [
        "class SelfAttention(nn.Module):\n",
        "  def __init__(self, k, heads):\n",
        "    super().__init__()\n",
        "    self.k, self.heads = k, heads\n",
        "\n",
        "    self.tokeys    = nn.Linear(k, k * heads, bias=False)\n",
        "    self.toqueries = nn.Linear(k, k * heads, bias=False)\n",
        "    self.tovalues  = nn.Linear(k, k * heads, bias=False)   \n",
        "    self.unifyheads = nn.Linear(heads * k, k)\n",
        "\n",
        "  def forward(self, x):\n",
        "      b, t, k = x.size()\n",
        "      h = self.heads\n",
        "\n",
        "      queries = self.toqueries(x).view(b, t, h, k)\n",
        "      keys    = self.tokeys(x)   .view(b, t, h, k)\n",
        "      values  = self.tovalues(x) .view(b, t, h, k)\n",
        "\n",
        "\n",
        "      keys = keys.transpose(1, 2).contiguous().view(b * h, t, k)\n",
        "      queries = queries.transpose(1, 2).contiguous().view(b * h, t, k)\n",
        "      values = values.transpose(1, 2).contiguous().view(b * h, t, k)\n",
        "\n",
        "\n",
        "      queries = queries / (k ** (1/2))\n",
        "      keys    = keys / (k ** (1/2))\n",
        "\n",
        "      # - get dot product of queries and keys, and scale\n",
        "      dot = torch.bmm(queries, keys.transpose(1, 2))\n",
        "      # - dot has size (b*h, t, t) containing raw weights\n",
        "\n",
        "      dot = F.softmax(dot, dim=2) \n",
        "      # - dot now contains row-wise normalized weights\n",
        "\n",
        "      out = torch.bmm(dot, values).view(b, h, t, k)\n",
        "\n",
        "      out = out.transpose(1, 2).contiguous().view(b, t, h * k)\n",
        "      return self.unifyheads(out)\n",
        "\n"
      ],
      "execution_count": 91,
      "outputs": []
    },
    {
      "cell_type": "code",
      "metadata": {
        "id": "ZKAFPC1fViBS"
      },
      "source": [
        "device = torch.device(\"cuda:0\" if torch.cuda.is_available() else \"cpu\")\n",
        "#model1 = Net1().to(device)\n",
        "optimizer = torch.optim.Adam(model1.parameters(), lr=1e-5)\n",
        "criterion = nn.MSELoss()"
      ],
      "execution_count": 92,
      "outputs": []
    },
    {
      "cell_type": "code",
      "metadata": {
        "id": "PnKecXDvIwGY"
      },
      "source": [
        "class Net1(nn.Module):\n",
        "    def __init__(self):\n",
        "        super(Net1,self).__init__()\n",
        "        self.layer1 = nn.Sequential(\n",
        "            SelfAttention(1, heads=2),\n",
        "            nn.Conv1d(3, 64, kernel_size = 1)\n",
        "        )\n",
        "\n",
        "        self.relu = nn.ReLU(inplace = True)\n",
        "        self.fc1 = nn.Linear(64,50)\n",
        "        self.fc2 = nn.Linear(50,1)      \n",
        "\n",
        "    def forward(self,x):\n",
        "        x = self.layer1(x)\n",
        "        x = self.relu(x)\n",
        "        x = x.view(-1, 64*1)\n",
        "        x = self.fc1(x)\n",
        "        x = self.relu(x)\n",
        "        x = self.fc2(x)\n",
        "        \n",
        "        return x\n",
        "\n"
      ],
      "execution_count": 93,
      "outputs": []
    },
    {
      "cell_type": "code",
      "metadata": {
        "id": "fcHanaFZKRQf"
      },
      "source": [
        "class Net2(nn.Module):\n",
        "    def __init__(self):\n",
        "        super(Net2,self).__init__()\n",
        "        self.layer1 = nn.Sequential(\n",
        "            SelfAttention(1, heads=2),\n",
        "            nn.Conv1d(3, 64, kernel_size = 1),\n",
        "            SelfAttention(1, heads=2)\n",
        "        )\n",
        "\n",
        "        self.relu = nn.ReLU(inplace = True)\n",
        "        self.fc1 = nn.Linear(64,50)\n",
        "        self.fc2 = nn.Linear(50,1)     \n",
        "\n",
        "    def forward(self,x):\n",
        "        x = self.layer1(x)\n",
        "        x = self.relu(x)\n",
        "        x = x.view(-1, 64*1)\n",
        "        x = self.fc1(x)\n",
        "        x = self.relu(x)\n",
        "        x = self.fc2(x)\n",
        "        \n",
        "        return x\n"
      ],
      "execution_count": 94,
      "outputs": []
    },
    {
      "cell_type": "code",
      "metadata": {
        "id": "VvifErQcKSEI"
      },
      "source": [
        "class Net3(nn.Module):\n",
        "    def __init__(self):\n",
        "        super(Net3,self).__init__()\n",
        "        self.layer1 = nn.Sequential(\n",
        "            nn.Conv1d(3, 64, kernel_size = 1),\n",
        "            SelfAttention(1, heads=2)\n",
        "        )\n",
        "\n",
        "        self.relu = nn.ReLU(inplace = True)\n",
        "        self.fc1 = nn.Linear(64,50)\n",
        "        self.fc2 = nn.Linear(50,1)     \n",
        "\n",
        "    def forward(self,x):\n",
        "        x = self.layer1(x)\n",
        "        x = self.relu(x)\n",
        "        x = x.view(-1, 64*1)\n",
        "        x = self.fc1(x)\n",
        "        x = self.relu(x)\n",
        "        x = self.fc2(x)\n",
        "        \n",
        "        return x\n",
        "\n"
      ],
      "execution_count": 95,
      "outputs": []
    },
    {
      "cell_type": "code",
      "metadata": {
        "id": "rdzUiD59KS18"
      },
      "source": [
        "class Net4(nn.Module):\n",
        "    def __init__(self):\n",
        "        super(Net4,self).__init__()\n",
        "        self.layer1 = nn.Sequential(\n",
        "            SelfAttention(1, heads=2),\n",
        "            nn.LayerNorm(1),\n",
        "            SelfAttention(1, heads=2),\n",
        "            nn.LayerNorm(1)\n",
        "        )\n",
        "\n",
        "        self.relu = nn.ReLU(inplace = True)\n",
        "        self.fc1 = nn.Linear(64,50)\n",
        "        self.fc2 = nn.Linear(50,1)      \n",
        "\n",
        "    def forward(self,x):\n",
        "        x = self.layer1(x)\n",
        "        x = self.relu(x)\n",
        "        x = x.view(-1, 64*1)\n",
        "        x = self.fc1(x)\n",
        "        x = self.relu(x)\n",
        "        x = self.fc2(x)\n",
        "        \n",
        "        return x\n",
        "\n"
      ],
      "execution_count": 96,
      "outputs": []
    },
    {
      "cell_type": "code",
      "metadata": {
        "id": "2LI87g3GKTi-"
      },
      "source": [
        "class Net5(nn.Module):\n",
        "    def __init__(self):\n",
        "        super(Net5,self).__init__()\n",
        "        self.layer1 = nn.Sequential(\n",
        "            nn.Conv1d(3, 64, kernel_size = 1),\n",
        "            SelfAttention(1, heads=2),\n",
        "            nn.LayerNorm(1),\n",
        "            SelfAttention(1, heads=2),\n",
        "            nn.LayerNorm(1)\n",
        "        )\n",
        "\n",
        "        self.relu = nn.ReLU(inplace = True)\n",
        "        self.fc1 = nn.Linear(64,50)\n",
        "        self.fc2 = nn.Linear(50,1)     \n",
        "\n",
        "    def forward(self,x):\n",
        "        x = self.layer1(x)\n",
        "        x = self.relu(x)\n",
        "        x = x.view(-1, 64*1)\n",
        "        x = self.fc1(x)\n",
        "        x = self.relu(x)\n",
        "        x = self.fc2(x)\n",
        "        \n",
        "        return x\n",
        "\n"
      ],
      "execution_count": 97,
      "outputs": []
    },
    {
      "cell_type": "code",
      "metadata": {
        "id": "PeMy-VHYKUUw"
      },
      "source": [
        "class Net6(nn.Module):\n",
        "    def __init__(self):\n",
        "        super(Net6,self).__init__()\n",
        "        self.layer1 = nn.Sequential(\n",
        "            nn.Conv1d(3, 64, kernel_size = 1),\n",
        "            SelfAttention(1, heads=2),\n",
        "            SelfAttention(1, heads=2)\n",
        "        )\n",
        "\n",
        "        self.relu = nn.ReLU(inplace = True)\n",
        "        self.fc1 = nn.Linear(64,50)\n",
        "        self.fc2 = nn.Linear(50,1)     \n",
        "\n",
        "    def forward(self,x):\n",
        "        x = self.layer1(x)\n",
        "        x = self.relu(x)\n",
        "        x = x.view(-1, 64*1)\n",
        "        x = self.fc1(x)\n",
        "        x = self.relu(x)\n",
        "        x = self.fc2(x)\n",
        "        \n",
        "        return x\n",
        "\n"
      ],
      "execution_count": 98,
      "outputs": []
    },
    {
      "cell_type": "code",
      "metadata": {
        "id": "NQERqVuyKVHB"
      },
      "source": [
        "class Net7(nn.Module):\n",
        "    def __init__(self):\n",
        "        super(Net7,self).__init__()\n",
        "        self.layer1 = nn.Sequential(\n",
        "            SelfAttention(1, heads=2),\n",
        "            nn.LayerNorm(1),\n",
        "            nn.Conv1d(3, 64, kernel_size = 1),\n",
        "            SelfAttention(1, heads=2),\n",
        "            nn.LayerNorm(1)\n",
        "        )\n",
        "\n",
        "        self.relu = nn.ReLU(inplace = True)\n",
        "        self.fc1 = nn.Linear(64,50)\n",
        "        self.fc2 = nn.Linear(50,1)      \n",
        "\n",
        "    def forward(self,x):\n",
        "        x = self.layer1(x)\n",
        "        x = self.relu(x)\n",
        "        x = x.view(-1, 64*1)\n",
        "        x = self.fc1(x)\n",
        "        x = self.relu(x)\n",
        "        x = self.fc2(x)\n",
        "        \n",
        "        return x\n",
        "\n"
      ],
      "execution_count": 99,
      "outputs": []
    },
    {
      "cell_type": "code",
      "metadata": {
        "id": "WO87bMmuLdcT"
      },
      "source": [
        "class Net(nn.Module):\n",
        "    def __init__(self):\n",
        "        super(Net,self).__init__()\n",
        "        self.layer1 = nn.Sequential(\n",
        "            SelfAttention(1, heads=2),\n",
        "            nn.Conv1d(3, 64, kernel_size = 1)\n",
        "        )\n",
        "        self.layer2 = nn.Sequential(\n",
        "            SelfAttention(1, heads=2),\n",
        "            nn.Conv1d(3, 64, kernel_size = 1),\n",
        "            SelfAttention(1, heads=2)\n",
        "        )\n",
        "        self.layer3 = nn.Sequential(\n",
        "            nn.Conv1d(3, 64, kernel_size = 1),\n",
        "            SelfAttention(1, heads=2)\n",
        "        )\n",
        "        self.layer4 = nn.Sequential(\n",
        "            SelfAttention(1, heads=2),\n",
        "            nn.LayerNorm(1),\n",
        "            SelfAttention(1, heads=2),\n",
        "            nn.LayerNorm(1)\n",
        "        )\n",
        "        self.layer5 = nn.Sequential(\n",
        "            nn.Conv1d(3, 64, kernel_size = 1),\n",
        "            SelfAttention(1, heads=2),\n",
        "            nn.LayerNorm(1),\n",
        "            SelfAttention(1, heads=2),\n",
        "            nn.LayerNorm(1)\n",
        "        )\n",
        "        self.layer6 = nn.Sequential(\n",
        "            nn.Conv1d(3, 64, kernel_size = 1),\n",
        "            SelfAttention(1, heads=2),\n",
        "            SelfAttention(1, heads=2)\n",
        "        )\n",
        "        self.layer7 = nn.Sequential(\n",
        "            SelfAttention(1, heads=2),\n",
        "            nn.LayerNorm(1),\n",
        "            nn.Conv1d(3, 64, kernel_size = 1),\n",
        "            SelfAttention(1, heads=2),\n",
        "            nn.LayerNorm(1)\n",
        "        )\n",
        "        self.layer8 = nn.Sequential(\n",
        "            SelfAttention(1, heads=2),\n",
        "            nn.LayerNorm(1)\n",
        "        )\n",
        "       \n",
        "        self.relu = nn.ReLU(inplace = True)\n",
        "\n",
        "        self.fc1 = nn.Linear(64,50)\n",
        "        self.fc2 = nn.Linear(50,1)\n",
        "\n",
        "    def forward(self,x):\n",
        "        x = self.layer2(x)\n",
        "        x = self.relu(x)\n",
        "        #print(x.size())\n",
        "        x = x.view(-1, 64*1)\n",
        "        #print(x.size())\n",
        "        x = self.fc1(x)\n",
        "        x = self.relu(x)\n",
        "        x = self.fc2(x)\n",
        "        \n",
        "        return x\n",
        "\n",
        "device = torch.device(\"cuda:0\" if torch.cuda.is_available() else \"cpu\")\n",
        "model = Net().to(device)\n",
        "optimizer = torch.optim.Adam(model.parameters(), lr=1e-5)\n",
        "criterion = nn.MSELoss()"
      ],
      "execution_count": 31,
      "outputs": []
    },
    {
      "cell_type": "code",
      "metadata": {
        "id": "Chw_7ZT7Ae0K"
      },
      "source": [
        "seed = 15\n",
        "np.random.seed(seed)\n",
        "torch.manual_seed(seed)\n",
        "torch.cuda.manual_seed(seed)\n",
        "torch.backends.cudnn.deterministic=True"
      ],
      "execution_count": 100,
      "outputs": []
    },
    {
      "cell_type": "code",
      "metadata": {
        "colab": {
          "base_uri": "https://localhost:8080/"
        },
        "id": "t65cMtl37Acq",
        "outputId": "9c006998-354f-48d6-e1f9-c8a40960a221"
      },
      "source": [
        "print(model)"
      ],
      "execution_count": 102,
      "outputs": [
        {
          "output_type": "stream",
          "name": "stdout",
          "text": [
            "Net5(\n",
            "  (layer1): Sequential(\n",
            "    (0): Conv1d(3, 64, kernel_size=(1,), stride=(1,))\n",
            "    (1): SelfAttention(\n",
            "      (tokeys): Linear(in_features=1, out_features=2, bias=False)\n",
            "      (toqueries): Linear(in_features=1, out_features=2, bias=False)\n",
            "      (tovalues): Linear(in_features=1, out_features=2, bias=False)\n",
            "      (unifyheads): Linear(in_features=2, out_features=1, bias=True)\n",
            "    )\n",
            "    (2): LayerNorm((1,), eps=1e-05, elementwise_affine=True)\n",
            "    (3): SelfAttention(\n",
            "      (tokeys): Linear(in_features=1, out_features=2, bias=False)\n",
            "      (toqueries): Linear(in_features=1, out_features=2, bias=False)\n",
            "      (tovalues): Linear(in_features=1, out_features=2, bias=False)\n",
            "      (unifyheads): Linear(in_features=2, out_features=1, bias=True)\n",
            "    )\n",
            "    (4): LayerNorm((1,), eps=1e-05, elementwise_affine=True)\n",
            "  )\n",
            "  (relu): ReLU(inplace=True)\n",
            "  (fc1): Linear(in_features=64, out_features=50, bias=True)\n",
            "  (fc2): Linear(in_features=50, out_features=1, bias=True)\n",
            ")\n"
          ]
        }
      ]
    },
    {
      "cell_type": "code",
      "metadata": {
        "id": "z1jO19kg7HLl"
      },
      "source": [
        "class Dataset(Dataset):\n",
        "    def __init__(self,feature,target):\n",
        "        self.feature = feature\n",
        "        self.target = target\n",
        "    \n",
        "    def __len__(self):\n",
        "        return len(self.feature)\n",
        "    \n",
        "    def __getitem__(self,idx):\n",
        "        item = self.feature[idx]\n",
        "        label = self.target[idx]\n",
        "        item = torch.as_tensor(item, dtype = torch.float32)\n",
        "        label = torch.as_tensor(label, dtype = torch.float32)\n",
        "        return item, label\n",
        "\n",
        "train_ds = Dataset(train_x.reshape(train_x.shape[0],train_x.shape[1],1), train_y)\n",
        "valid_ds = Dataset(valid_x.reshape(valid_x.shape[0],valid_x.shape[1],1), valid_y)\n",
        "test_ds = Dataset(test_x.reshape(test_x.shape[0],test_x.shape[1],1), test_y)\n",
        "\n",
        "train_loader = torch.utils.data.DataLoader(train_ds, batch_size = 32, shuffle = False)\n",
        "valid_loader = torch.utils.data.DataLoader(valid_ds, batch_size = 32, shuffle = False)\n",
        "test_loader = torch.utils.data.DataLoader(test_ds, batch_size = 32, shuffle = False)"
      ],
      "execution_count": 103,
      "outputs": []
    },
    {
      "cell_type": "code",
      "metadata": {
        "colab": {
          "base_uri": "https://localhost:8080/"
        },
        "id": "x-wLpTOv7ykO",
        "outputId": "8e326202-021b-4490-ceb2-88114d759f97"
      },
      "source": [
        "dataset = Dataset(train_x.reshape(train_x.shape[0],train_x.shape[1],1),train_y)\n",
        "print(dataset.__getitem__(0))"
      ],
      "execution_count": 61,
      "outputs": [
        {
          "output_type": "stream",
          "name": "stdout",
          "text": [
            "(tensor([[-8.0500],\n",
            "        [-8.8800],\n",
            "        [-8.8100]]), tensor(-9.0500))\n"
          ]
        }
      ]
    },
    {
      "cell_type": "code",
      "metadata": {
        "id": "3C4KWf6W8CgA"
      },
      "source": [
        "def train_model(model, batch_size, n_epochs):\n",
        "    \n",
        "    # to track the training loss as the model trains\n",
        "    train_losses = []\n",
        "    # to track the validation loss as the model trains\n",
        "    valid_losses = []\n",
        "    # to track the average training loss per epoch as the model trains\n",
        "    avg_train_losses = []\n",
        "    # to track the average validation loss per epoch as the model trains\n",
        "    avg_valid_losses = [] \n",
        "    \n",
        "    for epoch in range(1, n_epochs + 1):\n",
        "\n",
        "        ###################\n",
        "        # train the model #\n",
        "        ###################\n",
        "        model.train() # prep model for training\n",
        "        for batch, (data, target) in enumerate(train_loader, 1):\n",
        "            data, target = data.to(device), target.to(device)\n",
        "            # clear the gradients of all optimized variables\n",
        "            optimizer.zero_grad()\n",
        "            # forward pass: compute predicted outputs by passing inputs to the model\n",
        "            output = model(data)\n",
        "            # calculate the loss\n",
        "            loss = criterion(output, target)\n",
        "            # backward pass: compute gradient of the loss with respect to model parameters\n",
        "            loss.backward()\n",
        "            # perform a single optimization step (parameter update)\n",
        "            optimizer.step()\n",
        "            # record training loss\n",
        "            train_losses.append(loss.item())\n",
        "\n",
        "        ######################    \n",
        "        # validate the model #\n",
        "        ######################\n",
        "        model.eval() # prep model for evaluation\n",
        "        for data, target in valid_loader:\n",
        "            data, target = data.to(device), target.to(device)\n",
        "            # forward pass: compute predicted outputs by passing inputs to the model\n",
        "            output = model(data)\n",
        "            # calculate the loss\n",
        "            loss = criterion(output, target)\n",
        "            # record validation loss\n",
        "            valid_losses.append(loss.item())\n",
        "\n",
        "        # print training/validation statistics \n",
        "        # calculate average loss over an epoch\n",
        "        train_loss = np.average(train_losses)\n",
        "        valid_loss = np.average(valid_losses)\n",
        "        avg_train_losses.append(train_loss)\n",
        "        avg_valid_losses.append(valid_loss)\n",
        "        \n",
        "        epoch_len = len(str(n_epochs))\n",
        "        \n",
        "        print_msg = (f'[{epoch:>{epoch_len}}/{n_epochs:>{epoch_len}}] ' +\n",
        "                     f'train_loss: {train_loss:.5f} ' +\n",
        "                     f'valid_loss: {valid_loss:.5f}')\n",
        "        \n",
        "        print(print_msg)\n",
        "        \n",
        "        # clear lists to track next epoch\n",
        "        train_losses = []\n",
        "        valid_losses = []\n",
        "\n",
        "\n",
        "  \n",
        "    return  model, avg_train_losses, avg_valid_losses"
      ],
      "execution_count": 104,
      "outputs": []
    },
    {
      "cell_type": "code",
      "metadata": {
        "id": "lr9-ESd98EIf"
      },
      "source": [
        "n_epochs = 30\n",
        "batch_size = 32\n",
        "#model, train_loss, valid_loss = train_model(model, batch_size, n_epochs)\n",
        "# descrição do teste\n",
        "#test = 'Atenção/Normalização/Atenção/Normalização/Conv1d'\n",
        "#results[test] =  train_loss, valid_loss"
      ],
      "execution_count": 105,
      "outputs": []
    },
    {
      "cell_type": "code",
      "metadata": {
        "id": "K2nW0vmn8xkY"
      },
      "source": [
        "fig = plt.figure(figsize=(10,8))\n",
        "plt.plot(range(1,len(train_loss)+1),train_loss, label='Training Loss')\n",
        "plt.plot(range(1,len(valid_loss)+1),valid_loss,label='Validation Loss')\n",
        "\n",
        "plt.xlabel('epochs')\n",
        "plt.ylabel('loss')\n",
        "plt.xlim(0, len(train_loss)+1)\n",
        "plt.grid(True)\n",
        "plt.legend()\n",
        "plt.tight_layout()\n",
        "plt.show()\n",
        "fig.savefig('loss_plot.png', bbox_inches='tight')"
      ],
      "execution_count": null,
      "outputs": []
    },
    {
      "cell_type": "code",
      "metadata": {
        "colab": {
          "base_uri": "https://localhost:8080/"
        },
        "id": "vnf8kerg84zP",
        "outputId": "7817c109-f649-4a48-d610-a4a5aac5818b"
      },
      "source": [
        "i = 0\n",
        "for batch, (x, y) in enumerate(test_loader, 1):\n",
        "  i = i + 1\n",
        "  print(x[0].numpy())\n",
        "  print(y.numpy())\n",
        "  print(model(x))\n",
        "  if i > 10:\n",
        "    break\n",
        "  print()"
      ],
      "execution_count": 106,
      "outputs": [
        {
          "output_type": "stream",
          "name": "stdout",
          "text": [
            "[[-8.01]\n",
            " [-6.62]\n",
            " [-4.85]]\n",
            "[-2.24  0.29  0.08  1.    1.1   1.31  1.24  1.06  1.66  1.52  1.49  1.51\n",
            "  1.83  1.8   2.01  1.75  1.41  1.52  1.19  1.13  0.61  1.12  2.84  3.47\n",
            "  4.5   7.61  7.91  8.71  7.42  5.18  4.37  3.87]\n",
            "tensor([[-0.1556],\n",
            "        [-0.1556],\n",
            "        [-0.1556],\n",
            "        [-0.1556],\n",
            "        [-0.1556],\n",
            "        [-0.1556],\n",
            "        [-0.1556],\n",
            "        [-0.1556],\n",
            "        [-0.1556],\n",
            "        [-0.1556],\n",
            "        [-0.1556],\n",
            "        [-0.1556],\n",
            "        [-0.1556],\n",
            "        [-0.1556],\n",
            "        [-0.1556],\n",
            "        [-0.1556],\n",
            "        [-0.1556],\n",
            "        [-0.1556],\n",
            "        [-0.1556],\n",
            "        [-0.1556],\n",
            "        [-0.1556],\n",
            "        [-0.1556],\n",
            "        [-0.1556],\n",
            "        [-0.1556],\n",
            "        [-0.1556],\n",
            "        [-0.1556],\n",
            "        [-0.1556],\n",
            "        [-0.1556],\n",
            "        [-0.1556],\n",
            "        [-0.1556],\n",
            "        [-0.1556],\n",
            "        [-0.1556]], grad_fn=<AddmmBackward>)\n",
            "\n",
            "[[5.18]\n",
            " [4.37]\n",
            " [3.87]]\n",
            "[3.55 3.73 3.54 3.49 2.95 2.98 2.   2.91 3.39 4.23 3.32 4.35 4.79 5.83\n",
            " 7.45 8.33 8.72 8.96 8.59 8.73 8.45 7.68 6.49 6.   5.42 5.53 5.96 5.92\n",
            " 6.28 6.23 5.54 5.49]\n",
            "tensor([[-0.1556],\n",
            "        [-0.1556],\n",
            "        [-0.1556],\n",
            "        [-0.1556],\n",
            "        [-0.1556],\n",
            "        [-0.1556],\n",
            "        [-0.1556],\n",
            "        [-0.1556],\n",
            "        [-0.1556],\n",
            "        [-0.1556],\n",
            "        [-0.1556],\n",
            "        [-0.1556],\n",
            "        [-0.1556],\n",
            "        [-0.1556],\n",
            "        [-0.1556],\n",
            "        [-0.1556],\n",
            "        [-0.1556],\n",
            "        [-0.1556],\n",
            "        [-0.1556],\n",
            "        [-0.1556],\n",
            "        [-0.1556],\n",
            "        [-0.1556],\n",
            "        [-0.1556],\n",
            "        [-0.1556],\n",
            "        [-0.1556],\n",
            "        [-0.1556],\n",
            "        [-0.1556],\n",
            "        [-0.1556],\n",
            "        [-0.1556],\n",
            "        [-0.1556],\n",
            "        [-0.1556],\n",
            "        [-0.1556]], grad_fn=<AddmmBackward>)\n",
            "\n",
            "[[6.23]\n",
            " [5.54]\n",
            " [5.49]]\n",
            "[ 5.17  5.27  4.52  2.98  2.99  4.55  6.63  9.4  11.   11.79 12.1  11.72\n",
            " 10.12  9.16  8.28  7.39  6.77  5.95  5.47  5.43  5.11  5.17  5.58  5.96\n",
            "  6.4   5.38  7.47  7.58  7.96  8.57  7.96  7.54]\n",
            "tensor([[-0.1556],\n",
            "        [-0.1556],\n",
            "        [-0.1556],\n",
            "        [-0.1556],\n",
            "        [-0.1556],\n",
            "        [-0.1556],\n",
            "        [-0.1556],\n",
            "        [-0.1556],\n",
            "        [-0.1556],\n",
            "        [-0.1556],\n",
            "        [-0.1556],\n",
            "        [-0.1556],\n",
            "        [-0.1556],\n",
            "        [-0.1556],\n",
            "        [-0.1556],\n",
            "        [-0.1556],\n",
            "        [-0.1556],\n",
            "        [-0.1556],\n",
            "        [-0.1556],\n",
            "        [-0.1556],\n",
            "        [-0.1556],\n",
            "        [-0.1556],\n",
            "        [-0.1556],\n",
            "        [-0.1556],\n",
            "        [-0.1556],\n",
            "        [-0.1556],\n",
            "        [-0.1556],\n",
            "        [-0.1556],\n",
            "        [-0.1556],\n",
            "        [-0.1556],\n",
            "        [-0.1556],\n",
            "        [-0.1556]], grad_fn=<AddmmBackward>)\n",
            "\n",
            "[[8.57]\n",
            " [7.96]\n",
            " [7.54]]\n",
            "[7.55 7.71 8.18 7.54 6.78 6.49 6.34 6.23 6.2  6.14 5.41 5.6  5.62 5.94\n",
            " 5.7  5.62 5.79 6.   6.   6.2  6.27 6.15 6.07 6.75 6.93 6.88 6.01 4.93\n",
            " 4.8  4.95 4.8  4.36]\n",
            "tensor([[-0.1556],\n",
            "        [-0.1556],\n",
            "        [-0.1556],\n",
            "        [-0.1556],\n",
            "        [-0.1556],\n",
            "        [-0.1556],\n",
            "        [-0.1556],\n",
            "        [-0.1556],\n",
            "        [-0.1556],\n",
            "        [-0.1556],\n",
            "        [-0.1556],\n",
            "        [-0.1556],\n",
            "        [-0.1556],\n",
            "        [-0.1556],\n",
            "        [-0.1556],\n",
            "        [-0.1556],\n",
            "        [-0.1556],\n",
            "        [-0.1556],\n",
            "        [-0.1556],\n",
            "        [-0.1556],\n",
            "        [-0.1556],\n",
            "        [-0.1556],\n",
            "        [-0.1556],\n",
            "        [-0.1556],\n",
            "        [-0.1556],\n",
            "        [-0.1556],\n",
            "        [-0.1556],\n",
            "        [-0.1556],\n",
            "        [-0.1556],\n",
            "        [-0.1556],\n",
            "        [-0.1556],\n",
            "        [-0.1556]], grad_fn=<AddmmBackward>)\n",
            "\n",
            "[[4.95]\n",
            " [4.8 ]\n",
            " [4.36]]\n",
            "[4.34 4.14 3.94 3.8  3.37 3.11 3.21 2.69 2.63 2.69 2.62 2.62 2.31 2.58\n",
            " 2.94 3.88 4.49 4.8  5.52 5.36 4.79 4.63 4.36 4.25 4.09 4.35 4.26 4.37\n",
            " 4.63 4.5  4.48 4.27]\n",
            "tensor([[-0.1556],\n",
            "        [-0.1556],\n",
            "        [-0.1556],\n",
            "        [-0.1556],\n",
            "        [-0.1556],\n",
            "        [-0.1556],\n",
            "        [-0.1556],\n",
            "        [-0.1556],\n",
            "        [-0.1556],\n",
            "        [-0.1556],\n",
            "        [-0.1556],\n",
            "        [-0.1556],\n",
            "        [-0.1556],\n",
            "        [-0.1556],\n",
            "        [-0.1556],\n",
            "        [-0.1556],\n",
            "        [-0.1556],\n",
            "        [-0.1556],\n",
            "        [-0.1556],\n",
            "        [-0.1556],\n",
            "        [-0.1556],\n",
            "        [-0.1556],\n",
            "        [-0.1556],\n",
            "        [-0.1556],\n",
            "        [-0.1556],\n",
            "        [-0.1556],\n",
            "        [-0.1556],\n",
            "        [-0.1556],\n",
            "        [-0.1556],\n",
            "        [-0.1556],\n",
            "        [-0.1556],\n",
            "        [-0.1556]], grad_fn=<AddmmBackward>)\n",
            "\n",
            "[[4.5 ]\n",
            " [4.48]\n",
            " [4.27]]\n",
            "[4.35 4.33 4.25 4.15 4.28 4.41 5.11 5.42 5.23 5.26 5.3  5.21 4.95 4.79\n",
            " 4.8  4.76 4.38 4.59 4.57 4.64 4.42 4.49 4.46 4.48 4.47 4.7  4.37 3.85\n",
            " 3.67 3.77 3.13 3.  ]\n",
            "tensor([[-0.1556],\n",
            "        [-0.1556],\n",
            "        [-0.1556],\n",
            "        [-0.1556],\n",
            "        [-0.1556],\n",
            "        [-0.1556],\n",
            "        [-0.1556],\n",
            "        [-0.1556],\n",
            "        [-0.1556],\n",
            "        [-0.1556],\n",
            "        [-0.1556],\n",
            "        [-0.1556],\n",
            "        [-0.1556],\n",
            "        [-0.1556],\n",
            "        [-0.1556],\n",
            "        [-0.1556],\n",
            "        [-0.1556],\n",
            "        [-0.1556],\n",
            "        [-0.1556],\n",
            "        [-0.1556],\n",
            "        [-0.1556],\n",
            "        [-0.1556],\n",
            "        [-0.1556],\n",
            "        [-0.1556],\n",
            "        [-0.1556],\n",
            "        [-0.1556],\n",
            "        [-0.1556],\n",
            "        [-0.1556],\n",
            "        [-0.1556],\n",
            "        [-0.1556],\n",
            "        [-0.1556],\n",
            "        [-0.1556]], grad_fn=<AddmmBackward>)\n",
            "\n",
            "[[3.77]\n",
            " [3.13]\n",
            " [3.  ]]\n",
            "[ 3.24  3.1   2.59  1.78  1.62  1.61  2.04  2.    1.27  0.93  0.66  0.6\n",
            "  0.4   0.33  0.27  0.19  0.2   0.31  0.08 -0.67 -1.43 -1.4  -0.31  0.59\n",
            "  1.46  2.76  2.79  2.69  2.02  0.85  0.   -1.01]\n",
            "tensor([[-0.1556],\n",
            "        [-0.1556],\n",
            "        [-0.1556],\n",
            "        [-0.1556],\n",
            "        [-0.1556],\n",
            "        [-0.1556],\n",
            "        [-0.1556],\n",
            "        [-0.1556],\n",
            "        [-0.1556],\n",
            "        [-0.1556],\n",
            "        [-0.1556],\n",
            "        [-0.1556],\n",
            "        [-0.1556],\n",
            "        [-0.1556],\n",
            "        [-0.1556],\n",
            "        [-0.1556],\n",
            "        [-0.1556],\n",
            "        [-0.1556],\n",
            "        [-0.1556],\n",
            "        [-0.1556],\n",
            "        [-0.1556],\n",
            "        [-0.1556],\n",
            "        [-0.1556],\n",
            "        [-0.1556],\n",
            "        [-0.1556],\n",
            "        [-0.1556],\n",
            "        [-0.1556],\n",
            "        [-0.1556],\n",
            "        [-0.1556],\n",
            "        [-0.1556],\n",
            "        [-0.1556],\n",
            "        [-0.1556]], grad_fn=<AddmmBackward>)\n",
            "\n",
            "[[ 0.85]\n",
            " [ 0.  ]\n",
            " [-1.01]]\n",
            "[-0.81 -1.4  -1.35 -2.53 -3.47 -3.95 -3.75 -4.37 -4.53 -4.88 -5.17 -5.24\n",
            " -4.77 -4.89 -2.91 -1.36  0.01  2.62  2.79  2.27  2.05  1.53  0.79  1.3\n",
            "  1.05  0.78  1.25  1.15  1.29  1.05  1.27  1.49]\n",
            "tensor([[-0.1556],\n",
            "        [-0.1556],\n",
            "        [-0.1556],\n",
            "        [-0.1556],\n",
            "        [-0.1556],\n",
            "        [-0.1556],\n",
            "        [-0.1556],\n",
            "        [-0.1556],\n",
            "        [-0.1556],\n",
            "        [-0.1556],\n",
            "        [-0.1556],\n",
            "        [-0.1556],\n",
            "        [-0.1556],\n",
            "        [-0.1556],\n",
            "        [-0.1556],\n",
            "        [-0.1556],\n",
            "        [-0.1556],\n",
            "        [-0.1556],\n",
            "        [-0.1556],\n",
            "        [-0.1556],\n",
            "        [-0.1556],\n",
            "        [-0.1556],\n",
            "        [-0.1556],\n",
            "        [-0.1556],\n",
            "        [-0.1556],\n",
            "        [-0.1556],\n",
            "        [-0.1556],\n",
            "        [-0.1556],\n",
            "        [-0.1556],\n",
            "        [-0.1556],\n",
            "        [-0.1556],\n",
            "        [-0.1556]], grad_fn=<AddmmBackward>)\n",
            "\n",
            "[[1.05]\n",
            " [1.27]\n",
            " [1.49]]\n",
            "[1.25 1.8  1.8  1.32 1.22 1.31 1.61 2.77 4.73 5.03 4.62 4.27 4.27 3.9\n",
            " 3.75 3.63 3.64 3.53 3.54 3.51 3.34 3.32 2.82 2.89 2.83 2.67 2.69 2.77\n",
            " 2.72 2.65 3.13 3.31]\n",
            "tensor([[-0.1556],\n",
            "        [-0.1556],\n",
            "        [-0.1556],\n",
            "        [-0.1556],\n",
            "        [-0.1556],\n",
            "        [-0.1556],\n",
            "        [-0.1556],\n",
            "        [-0.1556],\n",
            "        [-0.1556],\n",
            "        [-0.1556],\n",
            "        [-0.1556],\n",
            "        [-0.1556],\n",
            "        [-0.1556],\n",
            "        [-0.1556],\n",
            "        [-0.1556],\n",
            "        [-0.1556],\n",
            "        [-0.1556],\n",
            "        [-0.1556],\n",
            "        [-0.1556],\n",
            "        [-0.1556],\n",
            "        [-0.1556],\n",
            "        [-0.1556],\n",
            "        [-0.1556],\n",
            "        [-0.1556],\n",
            "        [-0.1556],\n",
            "        [-0.1556],\n",
            "        [-0.1556],\n",
            "        [-0.1556],\n",
            "        [-0.1556],\n",
            "        [-0.1556],\n",
            "        [-0.1556],\n",
            "        [-0.1556]], grad_fn=<AddmmBackward>)\n",
            "\n",
            "[[2.65]\n",
            " [3.13]\n",
            " [3.31]]\n",
            "[ 3.19  3.18  3.14  3.13  3.    2.93  2.88  2.32  1.77  1.02 -0.04 -0.66\n",
            " -1.24 -1.86 -1.99 -2.44 -2.02 -1.49 -0.96 -0.87 -0.53 -0.2   0.28  0.9\n",
            "  1.55  3.51  2.92  1.48 -0.5  -0.87 -0.73 -1.22]\n",
            "tensor([[-0.1556],\n",
            "        [-0.1556],\n",
            "        [-0.1556],\n",
            "        [-0.1556],\n",
            "        [-0.1556],\n",
            "        [-0.1556],\n",
            "        [-0.1556],\n",
            "        [-0.1556],\n",
            "        [-0.1556],\n",
            "        [-0.1556],\n",
            "        [-0.1556],\n",
            "        [-0.1556],\n",
            "        [-0.1556],\n",
            "        [-0.1556],\n",
            "        [-0.1556],\n",
            "        [-0.1556],\n",
            "        [-0.1556],\n",
            "        [-0.1556],\n",
            "        [-0.1556],\n",
            "        [-0.1556],\n",
            "        [-0.1556],\n",
            "        [-0.1556],\n",
            "        [-0.1556],\n",
            "        [-0.1556],\n",
            "        [-0.1556],\n",
            "        [-0.1556],\n",
            "        [-0.1556],\n",
            "        [-0.1556],\n",
            "        [-0.1556],\n",
            "        [-0.1556],\n",
            "        [-0.1556],\n",
            "        [-0.1556]], grad_fn=<AddmmBackward>)\n",
            "\n",
            "[[-0.87]\n",
            " [-0.73]\n",
            " [-1.22]]\n",
            "[-2.02 -2.03 -2.17 -2.47 -2.56 -3.11 -3.97 -3.85 -4.87 -4.79 -4.93 -4.48\n",
            " -4.29 -4.62 -2.68 -1.16  0.24  2.9   3.63  3.4   1.98  1.09 -0.21 -0.71\n",
            " -1.43 -1.69 -2.4  -2.42 -2.61 -2.35 -2.39 -2.14]\n",
            "tensor([[-0.1556],\n",
            "        [-0.1556],\n",
            "        [-0.1556],\n",
            "        [-0.1556],\n",
            "        [-0.1556],\n",
            "        [-0.1556],\n",
            "        [-0.1556],\n",
            "        [-0.1556],\n",
            "        [-0.1556],\n",
            "        [-0.1556],\n",
            "        [-0.1556],\n",
            "        [-0.1556],\n",
            "        [-0.1556],\n",
            "        [-0.1556],\n",
            "        [-0.1556],\n",
            "        [-0.1556],\n",
            "        [-0.1556],\n",
            "        [-0.1556],\n",
            "        [-0.1556],\n",
            "        [-0.1556],\n",
            "        [-0.1556],\n",
            "        [-0.1556],\n",
            "        [-0.1556],\n",
            "        [-0.1556],\n",
            "        [-0.1556],\n",
            "        [-0.1556],\n",
            "        [-0.1556],\n",
            "        [-0.1556],\n",
            "        [-0.1556],\n",
            "        [-0.1556],\n",
            "        [-0.1556],\n",
            "        [-0.1556]], grad_fn=<AddmmBackward>)\n"
          ]
        }
      ]
    },
    {
      "cell_type": "code",
      "metadata": {
        "id": "uZg2co41BGEh"
      },
      "source": [
        "def predict (model):\n",
        "  model.eval()  # prepare model for evaluation\n",
        "  sum = 0\n",
        "  with torch.no_grad():\n",
        "      for data, target in test_loader:\n",
        "          data, target = data.to(device), target.to(device)\n",
        "          output = model(data)\n",
        "          loss = criterion(output,target)\n",
        "          sum += loss\n",
        "\n",
        "\n",
        "  return (sum/len(test_loader))\n",
        " "
      ],
      "execution_count": 107,
      "outputs": []
    },
    {
      "cell_type": "code",
      "metadata": {
        "id": "Mhso9L1pyjYq"
      },
      "source": [
        "results = {}"
      ],
      "execution_count": 108,
      "outputs": []
    },
    {
      "cell_type": "code",
      "metadata": {
        "colab": {
          "base_uri": "https://localhost:8080/",
          "height": 969
        },
        "id": "B9GROc-kINWh",
        "outputId": "16b64db2-32fd-4147-f1c1-8d65e0ce6552"
      },
      "source": [
        "#for i in range(1,8):\n",
        "print(\"Net\" + str(7))\n",
        "model = Net6().to(device)\n",
        "print (model)\n",
        "model, train_loss, valid_loss = train_model(model, batch_size, n_epochs)\n",
        "\n",
        "results[\"Test\" + str(7)] = predict(model)\n",
        "  \n",
        " "
      ],
      "execution_count": 118,
      "outputs": [
        {
          "output_type": "stream",
          "name": "stdout",
          "text": [
            "Net7\n",
            "Net6(\n",
            "  (layer1): Sequential(\n",
            "    (0): Conv1d(3, 64, kernel_size=(1,), stride=(1,))\n",
            "    (1): SelfAttention(\n",
            "      (tokeys): Linear(in_features=1, out_features=2, bias=False)\n",
            "      (toqueries): Linear(in_features=1, out_features=2, bias=False)\n",
            "      (tovalues): Linear(in_features=1, out_features=2, bias=False)\n",
            "      (unifyheads): Linear(in_features=2, out_features=1, bias=True)\n",
            "    )\n",
            "    (2): SelfAttention(\n",
            "      (tokeys): Linear(in_features=1, out_features=2, bias=False)\n",
            "      (toqueries): Linear(in_features=1, out_features=2, bias=False)\n",
            "      (tovalues): Linear(in_features=1, out_features=2, bias=False)\n",
            "      (unifyheads): Linear(in_features=2, out_features=1, bias=True)\n",
            "    )\n",
            "  )\n",
            "  (relu): ReLU(inplace=True)\n",
            "  (fc1): Linear(in_features=64, out_features=50, bias=True)\n",
            "  (fc2): Linear(in_features=50, out_features=1, bias=True)\n",
            ")\n"
          ]
        },
        {
          "output_type": "stream",
          "name": "stderr",
          "text": [
            "/usr/local/lib/python3.7/dist-packages/torch/nn/modules/loss.py:528: UserWarning: Using a target size (torch.Size([32])) that is different to the input size (torch.Size([32, 1])). This will likely lead to incorrect results due to broadcasting. Please ensure they have the same size.\n",
            "  return F.mse_loss(input, target, reduction=self.reduction)\n",
            "/usr/local/lib/python3.7/dist-packages/torch/nn/modules/loss.py:528: UserWarning: Using a target size (torch.Size([13])) that is different to the input size (torch.Size([13, 1])). This will likely lead to incorrect results due to broadcasting. Please ensure they have the same size.\n",
            "  return F.mse_loss(input, target, reduction=self.reduction)\n",
            "/usr/local/lib/python3.7/dist-packages/torch/nn/modules/loss.py:528: UserWarning: Using a target size (torch.Size([17])) that is different to the input size (torch.Size([17, 1])). This will likely lead to incorrect results due to broadcasting. Please ensure they have the same size.\n",
            "  return F.mse_loss(input, target, reduction=self.reduction)\n"
          ]
        },
        {
          "output_type": "stream",
          "name": "stdout",
          "text": [
            "[ 1/30] train_loss: 31.43434 valid_loss: 40.53039\n",
            "[ 2/30] train_loss: 31.43434 valid_loss: 40.53039\n",
            "[ 3/30] train_loss: 31.43434 valid_loss: 40.53039\n"
          ]
        },
        {
          "output_type": "error",
          "ename": "KeyboardInterrupt",
          "evalue": "ignored",
          "traceback": [
            "\u001b[0;31m---------------------------------------------------------------------------\u001b[0m",
            "\u001b[0;31mKeyboardInterrupt\u001b[0m                         Traceback (most recent call last)",
            "\u001b[0;32m<ipython-input-118-b1ac80fbe371>\u001b[0m in \u001b[0;36m<module>\u001b[0;34m()\u001b[0m\n\u001b[1;32m      3\u001b[0m \u001b[0mmodel\u001b[0m \u001b[0;34m=\u001b[0m \u001b[0mNet6\u001b[0m\u001b[0;34m(\u001b[0m\u001b[0;34m)\u001b[0m\u001b[0;34m.\u001b[0m\u001b[0mto\u001b[0m\u001b[0;34m(\u001b[0m\u001b[0mdevice\u001b[0m\u001b[0;34m)\u001b[0m\u001b[0;34m\u001b[0m\u001b[0;34m\u001b[0m\u001b[0m\n\u001b[1;32m      4\u001b[0m \u001b[0mprint\u001b[0m \u001b[0;34m(\u001b[0m\u001b[0mmodel\u001b[0m\u001b[0;34m)\u001b[0m\u001b[0;34m\u001b[0m\u001b[0;34m\u001b[0m\u001b[0m\n\u001b[0;32m----> 5\u001b[0;31m \u001b[0mmodel\u001b[0m\u001b[0;34m,\u001b[0m \u001b[0mtrain_loss\u001b[0m\u001b[0;34m,\u001b[0m \u001b[0mvalid_loss\u001b[0m \u001b[0;34m=\u001b[0m \u001b[0mtrain_model\u001b[0m\u001b[0;34m(\u001b[0m\u001b[0mmodel\u001b[0m\u001b[0;34m,\u001b[0m \u001b[0mbatch_size\u001b[0m\u001b[0;34m,\u001b[0m \u001b[0mn_epochs\u001b[0m\u001b[0;34m)\u001b[0m\u001b[0;34m\u001b[0m\u001b[0;34m\u001b[0m\u001b[0m\n\u001b[0m\u001b[1;32m      6\u001b[0m \u001b[0;34m\u001b[0m\u001b[0m\n\u001b[1;32m      7\u001b[0m \u001b[0mresults\u001b[0m\u001b[0;34m[\u001b[0m\u001b[0;34m\"Test\"\u001b[0m \u001b[0;34m+\u001b[0m \u001b[0mstr\u001b[0m\u001b[0;34m(\u001b[0m\u001b[0;36m7\u001b[0m\u001b[0;34m)\u001b[0m\u001b[0;34m]\u001b[0m \u001b[0;34m=\u001b[0m \u001b[0mpredict\u001b[0m\u001b[0;34m(\u001b[0m\u001b[0mmodel\u001b[0m\u001b[0;34m)\u001b[0m\u001b[0;34m\u001b[0m\u001b[0;34m\u001b[0m\u001b[0m\n",
            "\u001b[0;32m<ipython-input-104-99780623a2a3>\u001b[0m in \u001b[0;36mtrain_model\u001b[0;34m(model, batch_size, n_epochs)\u001b[0m\n\u001b[1;32m     38\u001b[0m             \u001b[0mdata\u001b[0m\u001b[0;34m,\u001b[0m \u001b[0mtarget\u001b[0m \u001b[0;34m=\u001b[0m \u001b[0mdata\u001b[0m\u001b[0;34m.\u001b[0m\u001b[0mto\u001b[0m\u001b[0;34m(\u001b[0m\u001b[0mdevice\u001b[0m\u001b[0;34m)\u001b[0m\u001b[0;34m,\u001b[0m \u001b[0mtarget\u001b[0m\u001b[0;34m.\u001b[0m\u001b[0mto\u001b[0m\u001b[0;34m(\u001b[0m\u001b[0mdevice\u001b[0m\u001b[0;34m)\u001b[0m\u001b[0;34m\u001b[0m\u001b[0;34m\u001b[0m\u001b[0m\n\u001b[1;32m     39\u001b[0m             \u001b[0;31m# forward pass: compute predicted outputs by passing inputs to the model\u001b[0m\u001b[0;34m\u001b[0m\u001b[0;34m\u001b[0m\u001b[0;34m\u001b[0m\u001b[0m\n\u001b[0;32m---> 40\u001b[0;31m             \u001b[0moutput\u001b[0m \u001b[0;34m=\u001b[0m \u001b[0mmodel\u001b[0m\u001b[0;34m(\u001b[0m\u001b[0mdata\u001b[0m\u001b[0;34m)\u001b[0m\u001b[0;34m\u001b[0m\u001b[0;34m\u001b[0m\u001b[0m\n\u001b[0m\u001b[1;32m     41\u001b[0m             \u001b[0;31m# calculate the loss\u001b[0m\u001b[0;34m\u001b[0m\u001b[0;34m\u001b[0m\u001b[0;34m\u001b[0m\u001b[0m\n\u001b[1;32m     42\u001b[0m             \u001b[0mloss\u001b[0m \u001b[0;34m=\u001b[0m \u001b[0mcriterion\u001b[0m\u001b[0;34m(\u001b[0m\u001b[0moutput\u001b[0m\u001b[0;34m,\u001b[0m \u001b[0mtarget\u001b[0m\u001b[0;34m)\u001b[0m\u001b[0;34m\u001b[0m\u001b[0;34m\u001b[0m\u001b[0m\n",
            "\u001b[0;32m/usr/local/lib/python3.7/dist-packages/torch/nn/modules/module.py\u001b[0m in \u001b[0;36m_call_impl\u001b[0;34m(self, *input, **kwargs)\u001b[0m\n\u001b[1;32m   1049\u001b[0m         if not (self._backward_hooks or self._forward_hooks or self._forward_pre_hooks or _global_backward_hooks\n\u001b[1;32m   1050\u001b[0m                 or _global_forward_hooks or _global_forward_pre_hooks):\n\u001b[0;32m-> 1051\u001b[0;31m             \u001b[0;32mreturn\u001b[0m \u001b[0mforward_call\u001b[0m\u001b[0;34m(\u001b[0m\u001b[0;34m*\u001b[0m\u001b[0minput\u001b[0m\u001b[0;34m,\u001b[0m \u001b[0;34m**\u001b[0m\u001b[0mkwargs\u001b[0m\u001b[0;34m)\u001b[0m\u001b[0;34m\u001b[0m\u001b[0;34m\u001b[0m\u001b[0m\n\u001b[0m\u001b[1;32m   1052\u001b[0m         \u001b[0;31m# Do not call functions when jit is used\u001b[0m\u001b[0;34m\u001b[0m\u001b[0;34m\u001b[0m\u001b[0;34m\u001b[0m\u001b[0m\n\u001b[1;32m   1053\u001b[0m         \u001b[0mfull_backward_hooks\u001b[0m\u001b[0;34m,\u001b[0m \u001b[0mnon_full_backward_hooks\u001b[0m \u001b[0;34m=\u001b[0m \u001b[0;34m[\u001b[0m\u001b[0;34m]\u001b[0m\u001b[0;34m,\u001b[0m \u001b[0;34m[\u001b[0m\u001b[0;34m]\u001b[0m\u001b[0;34m\u001b[0m\u001b[0;34m\u001b[0m\u001b[0m\n",
            "\u001b[0;32m<ipython-input-98-f1fa20dec13c>\u001b[0m in \u001b[0;36mforward\u001b[0;34m(self, x)\u001b[0m\n\u001b[1;32m     13\u001b[0m \u001b[0;34m\u001b[0m\u001b[0m\n\u001b[1;32m     14\u001b[0m     \u001b[0;32mdef\u001b[0m \u001b[0mforward\u001b[0m\u001b[0;34m(\u001b[0m\u001b[0mself\u001b[0m\u001b[0;34m,\u001b[0m\u001b[0mx\u001b[0m\u001b[0;34m)\u001b[0m\u001b[0;34m:\u001b[0m\u001b[0;34m\u001b[0m\u001b[0;34m\u001b[0m\u001b[0m\n\u001b[0;32m---> 15\u001b[0;31m         \u001b[0mx\u001b[0m \u001b[0;34m=\u001b[0m \u001b[0mself\u001b[0m\u001b[0;34m.\u001b[0m\u001b[0mlayer1\u001b[0m\u001b[0;34m(\u001b[0m\u001b[0mx\u001b[0m\u001b[0;34m)\u001b[0m\u001b[0;34m\u001b[0m\u001b[0;34m\u001b[0m\u001b[0m\n\u001b[0m\u001b[1;32m     16\u001b[0m         \u001b[0mx\u001b[0m \u001b[0;34m=\u001b[0m \u001b[0mself\u001b[0m\u001b[0;34m.\u001b[0m\u001b[0mrelu\u001b[0m\u001b[0;34m(\u001b[0m\u001b[0mx\u001b[0m\u001b[0;34m)\u001b[0m\u001b[0;34m\u001b[0m\u001b[0;34m\u001b[0m\u001b[0m\n\u001b[1;32m     17\u001b[0m         \u001b[0mx\u001b[0m \u001b[0;34m=\u001b[0m \u001b[0mx\u001b[0m\u001b[0;34m.\u001b[0m\u001b[0mview\u001b[0m\u001b[0;34m(\u001b[0m\u001b[0;34m-\u001b[0m\u001b[0;36m1\u001b[0m\u001b[0;34m,\u001b[0m \u001b[0;36m64\u001b[0m\u001b[0;34m*\u001b[0m\u001b[0;36m1\u001b[0m\u001b[0;34m)\u001b[0m\u001b[0;34m\u001b[0m\u001b[0;34m\u001b[0m\u001b[0m\n",
            "\u001b[0;32m/usr/local/lib/python3.7/dist-packages/torch/nn/modules/module.py\u001b[0m in \u001b[0;36m_call_impl\u001b[0;34m(self, *input, **kwargs)\u001b[0m\n\u001b[1;32m   1049\u001b[0m         if not (self._backward_hooks or self._forward_hooks or self._forward_pre_hooks or _global_backward_hooks\n\u001b[1;32m   1050\u001b[0m                 or _global_forward_hooks or _global_forward_pre_hooks):\n\u001b[0;32m-> 1051\u001b[0;31m             \u001b[0;32mreturn\u001b[0m \u001b[0mforward_call\u001b[0m\u001b[0;34m(\u001b[0m\u001b[0;34m*\u001b[0m\u001b[0minput\u001b[0m\u001b[0;34m,\u001b[0m \u001b[0;34m**\u001b[0m\u001b[0mkwargs\u001b[0m\u001b[0;34m)\u001b[0m\u001b[0;34m\u001b[0m\u001b[0;34m\u001b[0m\u001b[0m\n\u001b[0m\u001b[1;32m   1052\u001b[0m         \u001b[0;31m# Do not call functions when jit is used\u001b[0m\u001b[0;34m\u001b[0m\u001b[0;34m\u001b[0m\u001b[0;34m\u001b[0m\u001b[0m\n\u001b[1;32m   1053\u001b[0m         \u001b[0mfull_backward_hooks\u001b[0m\u001b[0;34m,\u001b[0m \u001b[0mnon_full_backward_hooks\u001b[0m \u001b[0;34m=\u001b[0m \u001b[0;34m[\u001b[0m\u001b[0;34m]\u001b[0m\u001b[0;34m,\u001b[0m \u001b[0;34m[\u001b[0m\u001b[0;34m]\u001b[0m\u001b[0;34m\u001b[0m\u001b[0;34m\u001b[0m\u001b[0m\n",
            "\u001b[0;32m/usr/local/lib/python3.7/dist-packages/torch/nn/modules/container.py\u001b[0m in \u001b[0;36mforward\u001b[0;34m(self, input)\u001b[0m\n\u001b[1;32m    137\u001b[0m     \u001b[0;32mdef\u001b[0m \u001b[0mforward\u001b[0m\u001b[0;34m(\u001b[0m\u001b[0mself\u001b[0m\u001b[0;34m,\u001b[0m \u001b[0minput\u001b[0m\u001b[0;34m)\u001b[0m\u001b[0;34m:\u001b[0m\u001b[0;34m\u001b[0m\u001b[0;34m\u001b[0m\u001b[0m\n\u001b[1;32m    138\u001b[0m         \u001b[0;32mfor\u001b[0m \u001b[0mmodule\u001b[0m \u001b[0;32min\u001b[0m \u001b[0mself\u001b[0m\u001b[0;34m:\u001b[0m\u001b[0;34m\u001b[0m\u001b[0;34m\u001b[0m\u001b[0m\n\u001b[0;32m--> 139\u001b[0;31m             \u001b[0minput\u001b[0m \u001b[0;34m=\u001b[0m \u001b[0mmodule\u001b[0m\u001b[0;34m(\u001b[0m\u001b[0minput\u001b[0m\u001b[0;34m)\u001b[0m\u001b[0;34m\u001b[0m\u001b[0;34m\u001b[0m\u001b[0m\n\u001b[0m\u001b[1;32m    140\u001b[0m         \u001b[0;32mreturn\u001b[0m \u001b[0minput\u001b[0m\u001b[0;34m\u001b[0m\u001b[0;34m\u001b[0m\u001b[0m\n\u001b[1;32m    141\u001b[0m \u001b[0;34m\u001b[0m\u001b[0m\n",
            "\u001b[0;32m/usr/local/lib/python3.7/dist-packages/torch/nn/modules/module.py\u001b[0m in \u001b[0;36m_call_impl\u001b[0;34m(self, *input, **kwargs)\u001b[0m\n\u001b[1;32m   1049\u001b[0m         if not (self._backward_hooks or self._forward_hooks or self._forward_pre_hooks or _global_backward_hooks\n\u001b[1;32m   1050\u001b[0m                 or _global_forward_hooks or _global_forward_pre_hooks):\n\u001b[0;32m-> 1051\u001b[0;31m             \u001b[0;32mreturn\u001b[0m \u001b[0mforward_call\u001b[0m\u001b[0;34m(\u001b[0m\u001b[0;34m*\u001b[0m\u001b[0minput\u001b[0m\u001b[0;34m,\u001b[0m \u001b[0;34m**\u001b[0m\u001b[0mkwargs\u001b[0m\u001b[0;34m)\u001b[0m\u001b[0;34m\u001b[0m\u001b[0;34m\u001b[0m\u001b[0m\n\u001b[0m\u001b[1;32m   1052\u001b[0m         \u001b[0;31m# Do not call functions when jit is used\u001b[0m\u001b[0;34m\u001b[0m\u001b[0;34m\u001b[0m\u001b[0;34m\u001b[0m\u001b[0m\n\u001b[1;32m   1053\u001b[0m         \u001b[0mfull_backward_hooks\u001b[0m\u001b[0;34m,\u001b[0m \u001b[0mnon_full_backward_hooks\u001b[0m \u001b[0;34m=\u001b[0m \u001b[0;34m[\u001b[0m\u001b[0;34m]\u001b[0m\u001b[0;34m,\u001b[0m \u001b[0;34m[\u001b[0m\u001b[0;34m]\u001b[0m\u001b[0;34m\u001b[0m\u001b[0;34m\u001b[0m\u001b[0m\n",
            "\u001b[0;32m<ipython-input-91-ceb57fc347a4>\u001b[0m in \u001b[0;36mforward\u001b[0;34m(self, x)\u001b[0m\n\u001b[1;32m     27\u001b[0m \u001b[0;34m\u001b[0m\u001b[0m\n\u001b[1;32m     28\u001b[0m       \u001b[0;31m# - get dot product of queries and keys, and scale\u001b[0m\u001b[0;34m\u001b[0m\u001b[0;34m\u001b[0m\u001b[0;34m\u001b[0m\u001b[0m\n\u001b[0;32m---> 29\u001b[0;31m       \u001b[0mdot\u001b[0m \u001b[0;34m=\u001b[0m \u001b[0mtorch\u001b[0m\u001b[0;34m.\u001b[0m\u001b[0mbmm\u001b[0m\u001b[0;34m(\u001b[0m\u001b[0mqueries\u001b[0m\u001b[0;34m,\u001b[0m \u001b[0mkeys\u001b[0m\u001b[0;34m.\u001b[0m\u001b[0mtranspose\u001b[0m\u001b[0;34m(\u001b[0m\u001b[0;36m1\u001b[0m\u001b[0;34m,\u001b[0m \u001b[0;36m2\u001b[0m\u001b[0;34m)\u001b[0m\u001b[0;34m)\u001b[0m\u001b[0;34m\u001b[0m\u001b[0;34m\u001b[0m\u001b[0m\n\u001b[0m\u001b[1;32m     30\u001b[0m       \u001b[0;31m# - dot has size (b*h, t, t) containing raw weights\u001b[0m\u001b[0;34m\u001b[0m\u001b[0;34m\u001b[0m\u001b[0;34m\u001b[0m\u001b[0m\n\u001b[1;32m     31\u001b[0m \u001b[0;34m\u001b[0m\u001b[0m\n",
            "\u001b[0;31mKeyboardInterrupt\u001b[0m: "
          ]
        }
      ]
    },
    {
      "cell_type": "code",
      "metadata": {
        "id": "czARonOgDmbO",
        "colab": {
          "base_uri": "https://localhost:8080/"
        },
        "outputId": "c9806791-8caa-413b-e169-381c0ddb41cb"
      },
      "source": [
        "\n",
        "\n",
        "for x in results:\n",
        "  print(x,':',results[x])"
      ],
      "execution_count": 116,
      "outputs": [
        {
          "output_type": "stream",
          "name": "stdout",
          "text": [
            "Test1 : tensor(21.4491)\n",
            "Test2 : tensor(21.6334)\n",
            "Test3 : tensor(21.0357)\n",
            "Test5 : tensor(21.0164)\n",
            "Test6 : tensor(20.6184)\n",
            "Test7 : tensor(21.9806)\n"
          ]
        }
      ]
    }
  ]
}